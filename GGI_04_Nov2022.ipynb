{
  "nbformat": 4,
  "nbformat_minor": 0,
  "metadata": {
    "colab": {
      "provenance": [],
      "collapsed_sections": []
    },
    "kernelspec": {
      "name": "python3",
      "display_name": "Python 3"
    },
    "language_info": {
      "name": "python"
    }
  },
  "cells": [
    {
      "cell_type": "code",
      "execution_count": null,
      "metadata": {
        "id": "GsrtMu8iqvsA"
      },
      "outputs": [],
      "source": []
    },
    {
      "cell_type": "code",
      "source": [],
      "metadata": {
        "id": "t6CL74r5q9nm"
      },
      "execution_count": null,
      "outputs": []
    },
    {
      "cell_type": "code",
      "source": [],
      "metadata": {
        "id": "eA76otIUq9hk"
      },
      "execution_count": null,
      "outputs": []
    },
    {
      "cell_type": "code",
      "source": [],
      "metadata": {
        "id": "Aicb71d5q9bm"
      },
      "execution_count": null,
      "outputs": []
    },
    {
      "cell_type": "code",
      "source": [],
      "metadata": {
        "id": "ETOp8fzhq9Wa"
      },
      "execution_count": null,
      "outputs": []
    },
    {
      "cell_type": "code",
      "source": [],
      "metadata": {
        "id": "n3HAaJo5q9Q-"
      },
      "execution_count": null,
      "outputs": []
    },
    {
      "cell_type": "code",
      "source": [],
      "metadata": {
        "id": "qtiq7jdtq9Le"
      },
      "execution_count": null,
      "outputs": []
    },
    {
      "cell_type": "code",
      "source": [],
      "metadata": {
        "id": "JnuXBJ0Fq9F7"
      },
      "execution_count": null,
      "outputs": []
    },
    {
      "cell_type": "code",
      "source": [],
      "metadata": {
        "id": "4-9TUV8Rq8_7"
      },
      "execution_count": null,
      "outputs": []
    },
    {
      "cell_type": "code",
      "source": [],
      "metadata": {
        "id": "3gXjIR_9q85g"
      },
      "execution_count": null,
      "outputs": []
    },
    {
      "cell_type": "code",
      "source": [],
      "metadata": {
        "id": "ZabEoXhJq8ys"
      },
      "execution_count": null,
      "outputs": []
    },
    {
      "cell_type": "code",
      "source": [],
      "metadata": {
        "id": "-il-ME-Eq8rb"
      },
      "execution_count": null,
      "outputs": []
    },
    {
      "cell_type": "code",
      "source": [],
      "metadata": {
        "id": "j8uI6gVjq8kc"
      },
      "execution_count": null,
      "outputs": []
    },
    {
      "cell_type": "code",
      "source": [],
      "metadata": {
        "id": "l1TpsH95q8dj"
      },
      "execution_count": null,
      "outputs": []
    },
    {
      "cell_type": "code",
      "source": [],
      "metadata": {
        "id": "BDlCEZQ-q8Vw"
      },
      "execution_count": null,
      "outputs": []
    },
    {
      "cell_type": "code",
      "execution_count": null,
      "metadata": {
        "id": "tVvmf90I6Qzl"
      },
      "outputs": [],
      "source": []
    },
    {
      "cell_type": "markdown",
      "metadata": {
        "id": "TH5bnZW_6RWK"
      },
      "source": []
    },
    {
      "cell_type": "markdown",
      "metadata": {
        "id": "R8B72kXl6RXz"
      },
      "source": [
        "Python Resources\n",
        "https://www.w3schools.com/python/default.asp\n"
      ]
    },
    {
      "cell_type": "code",
      "execution_count": null,
      "metadata": {
        "id": "P5H3exSC6Qdl"
      },
      "outputs": [],
      "source": []
    },
    {
      "cell_type": "code",
      "execution_count": null,
      "metadata": {
        "colab": {
          "base_uri": "https://localhost:8080/"
        },
        "id": "7DLtWIIenkNU",
        "outputId": "89b27a97-ce26-4d0d-abb4-2c7d7e6b2e6a"
      },
      "outputs": [
        {
          "name": "stdout",
          "output_type": "stream",
          "text": [
            "welcome to python pgm\n"
          ]
        }
      ],
      "source": [
        "#Python pgm\n",
        "\n",
        "#a=int(input(\"enter number1\\n\"));\n",
        "#b=int(input(\"enter number2\\n\"));\n",
        "#c=a+b\n",
        "#print(\"Sum of 2 numbers are\",c)\n",
        "print(\"welcome to python pgm\")\n",
        "\n",
        "#How to take help \n",
        "\n",
        "import qrcode\n",
        "myimage=qrcode.make(\"This is my qr and website is nitttrchd.ac.in\")  \n",
        "myimage.save(\"newqrcode.png\")"
      ]
    },
    {
      "cell_type": "code",
      "execution_count": null,
      "metadata": {
        "colab": {
          "base_uri": "https://localhost:8080/"
        },
        "id": "7ucqxPQm0IXu",
        "outputId": "dd9f182e-b780-4248-d2cb-31c129bcb033"
      },
      "outputs": [
        {
          "name": "stdout",
          "output_type": "stream",
          "text": [
            "Looking in indexes: https://pypi.org/simple, https://us-python.pkg.dev/colab-wheels/public/simple/\n",
            "Collecting qrcode\n",
            "  Downloading qrcode-7.3.1.tar.gz (43 kB)\n",
            "\u001b[K     |████████████████████████████████| 43 kB 1.4 MB/s \n",
            "\u001b[?25hBuilding wheels for collected packages: qrcode\n",
            "  Building wheel for qrcode (setup.py) ... \u001b[?25l\u001b[?25hdone\n",
            "  Created wheel for qrcode: filename=qrcode-7.3.1-py3-none-any.whl size=40402 sha256=cf52b1ccdf66cfd7397e9f7387084a7296bdfd33285d337ee9f648975a7aff0c\n",
            "  Stored in directory: /root/.cache/pip/wheels/93/d7/39/a4111be2cfb8e679938aa671a37888b6afb1f9e7d748e94492\n",
            "Successfully built qrcode\n",
            "Installing collected packages: qrcode\n",
            "Successfully installed qrcode-7.3.1\n"
          ]
        }
      ],
      "source": [
        "!pip install qrcode"
      ]
    },
    {
      "cell_type": "code",
      "execution_count": null,
      "metadata": {
        "id": "RUoYOuQW0SIP"
      },
      "outputs": [],
      "source": [
        "#dir(qrcode)"
      ]
    },
    {
      "cell_type": "code",
      "execution_count": null,
      "metadata": {
        "id": "cgu-0xDo0a09"
      },
      "outputs": [],
      "source": [
        "import sklearn\n",
        "#dir(sklearn)"
      ]
    },
    {
      "cell_type": "code",
      "execution_count": null,
      "metadata": {
        "id": "lkIF7BLz0gRN"
      },
      "outputs": [],
      "source": [
        "import cv2\n",
        "#dir(cv2)"
      ]
    },
    {
      "cell_type": "code",
      "execution_count": null,
      "metadata": {
        "id": "mXNjOzOD0k9d"
      },
      "outputs": [],
      "source": [
        "import keyword\n",
        "#dir(keyword)"
      ]
    },
    {
      "cell_type": "code",
      "execution_count": null,
      "metadata": {
        "colab": {
          "base_uri": "https://localhost:8080/"
        },
        "id": "rUa3d2rx0qrM",
        "outputId": "1a7b763a-303f-4389-d1d1-760f88a0f55a"
      },
      "outputs": [
        {
          "name": "stdout",
          "output_type": "stream",
          "text": [
            "35\n"
          ]
        }
      ],
      "source": [
        "print(len(keyword.kwlist))"
      ]
    },
    {
      "cell_type": "code",
      "execution_count": null,
      "metadata": {
        "colab": {
          "base_uri": "https://localhost:8080/"
        },
        "id": "Ckp7EQ4g00NM",
        "outputId": "6d408589-2900-4bfb-ad85-eea456271258"
      },
      "outputs": [
        {
          "name": "stdout",
          "output_type": "stream",
          "text": [
            "code of qrcode /usr/local/lib/python3.7/dist-packages/qrcode/__init__.py\n",
            "code of cv2 /usr/local/lib/python3.7/dist-packages/cv2/__init__.py\n",
            "code of sklearn /usr/local/lib/python3.7/dist-packages/sklearn/__init__.py\n"
          ]
        }
      ],
      "source": [
        "import qrcode,cv2,sklearn\n",
        "myimage=qrcode.make(\"This is my qr and website is nitttrchd.ac.in\")  \n",
        "myimage.save(\"newqrcode.png\")\n",
        "\n",
        "\n",
        "print(\"code of qrcode\",qrcode.__file__)\n",
        "print(\"code of cv2\",cv2.__file__)\n",
        "print(\"code of sklearn\",sklearn.__file__)\n",
        "\n",
        "\n",
        "\n"
      ]
    },
    {
      "cell_type": "code",
      "execution_count": null,
      "metadata": {
        "colab": {
          "base_uri": "https://localhost:8080/"
        },
        "id": "J1oB9Woj3MMI",
        "outputId": "2aaf2e05-48a1-44a8-923c-d770423c371f"
      },
      "outputs": [
        {
          "name": "stdout",
          "output_type": "stream",
          "text": [
            "/usr/local/lib/python3.7/dist-packages/cv2\n"
          ]
        }
      ],
      "source": [
        "cd /usr/local/lib/python3.7/dist-packages/cv2/\n"
      ]
    },
    {
      "cell_type": "code",
      "execution_count": null,
      "metadata": {
        "colab": {
          "base_uri": "https://localhost:8080/",
          "height": 35
        },
        "id": "hoZyP8Yb3VWI",
        "outputId": "96ebc95f-1b9d-41c4-b019-b9c75469c4cc"
      },
      "outputs": [
        {
          "data": {
            "application/vnd.google.colaboratory.intrinsic+json": {
              "type": "string"
            },
            "text/plain": [
              "'/usr/local/lib/python3.7/dist-packages/cv2'"
            ]
          },
          "execution_count": 14,
          "metadata": {},
          "output_type": "execute_result"
        }
      ],
      "source": [
        "pwd\n"
      ]
    },
    {
      "cell_type": "code",
      "execution_count": null,
      "metadata": {
        "colab": {
          "base_uri": "https://localhost:8080/"
        },
        "id": "11Z9CBOR3WsI",
        "outputId": "f97977a1-43a8-4517-a11d-27f6bb2a01a2"
      },
      "outputs": [
        {
          "name": "stdout",
          "output_type": "stream",
          "text": [
            "config-3.py   \u001b[0m\u001b[01;34mgapi\u001b[0m/                  load_config_py2.py  \u001b[01;34m__pycache__\u001b[0m/\n",
            "config.py     __init__.py            load_config_py3.py  \u001b[01;34mqt\u001b[0m/\n",
            "\u001b[01;32mcv2.abi3.so\u001b[0m*  LICENSE-3RD-PARTY.txt  \u001b[01;34mmat_wrapper\u001b[0m/        \u001b[01;34mutils\u001b[0m/\n",
            "\u001b[01;34mdata\u001b[0m/         LICENSE.txt            \u001b[01;34mmisc\u001b[0m/               version.py\n"
          ]
        }
      ],
      "source": [
        "ls"
      ]
    },
    {
      "cell_type": "code",
      "execution_count": null,
      "metadata": {
        "id": "qbUZG3v93Y14"
      },
      "outputs": [],
      "source": [
        "#pip list"
      ]
    },
    {
      "cell_type": "code",
      "execution_count": null,
      "metadata": {
        "colab": {
          "base_uri": "https://localhost:8080/"
        },
        "id": "EiMRWknt32c6",
        "outputId": "8c598daf-d0f2-4469-c9c1-539186b1155f"
      },
      "outputs": [
        {
          "name": "stdout",
          "output_type": "stream",
          "text": [
            "408\n"
          ]
        }
      ],
      "source": [
        "pip list | wc -l"
      ]
    },
    {
      "cell_type": "code",
      "execution_count": null,
      "metadata": {
        "colab": {
          "base_uri": "https://localhost:8080/",
          "height": 35
        },
        "id": "ysY-yOG936G3",
        "outputId": "b234f5bc-f77b-4ab5-92c2-f57eb13d5aa7"
      },
      "outputs": [
        {
          "data": {
            "application/vnd.google.colaboratory.intrinsic+json": {
              "type": "string"
            },
            "text/plain": [
              "'/usr/local/lib/python3.7/dist-packages/cv2'"
            ]
          },
          "execution_count": 21,
          "metadata": {},
          "output_type": "execute_result"
        }
      ],
      "source": [
        "pwd"
      ]
    },
    {
      "cell_type": "code",
      "execution_count": null,
      "metadata": {
        "colab": {
          "base_uri": "https://localhost:8080/"
        },
        "id": "A7HoNOYk4Uql",
        "outputId": "e45a6b38-ed60-4fdd-b712-43b927770580"
      },
      "outputs": [
        {
          "name": "stdout",
          "output_type": "stream",
          "text": [
            "5.10.133+\n"
          ]
        }
      ],
      "source": [
        "!uname -r\n",
        "\n",
        "\n",
        "\n"
      ]
    },
    {
      "cell_type": "code",
      "execution_count": null,
      "metadata": {
        "colab": {
          "base_uri": "https://localhost:8080/"
        },
        "id": "Ezg8wr5t4XoH",
        "outputId": "8241a85b-1b49-4222-8936-50d42d80a333"
      },
      "outputs": [
        {
          "name": "stdout",
          "output_type": "stream",
          "text": [
            "No LSB modules are available.\n",
            "Distributor ID:\tUbuntu\n",
            "Description:\tUbuntu 18.04.6 LTS\n",
            "Release:\t18.04\n",
            "Codename:\tbionic\n"
          ]
        }
      ],
      "source": [
        "!lsb_release -a"
      ]
    },
    {
      "cell_type": "code",
      "execution_count": null,
      "metadata": {
        "colab": {
          "base_uri": "https://localhost:8080/"
        },
        "id": "J1sQdeQi4c-W",
        "outputId": "f99cd606-e559-4eee-e098-d646d769efed"
      },
      "outputs": [
        {
          "name": "stdout",
          "output_type": "stream",
          "text": [
            "Mon Oct 31 07:12:03 UTC 2022\n"
          ]
        }
      ],
      "source": [
        "!date"
      ]
    },
    {
      "cell_type": "code",
      "execution_count": null,
      "metadata": {
        "colab": {
          "base_uri": "https://localhost:8080/"
        },
        "id": "XitCskLn4g9X",
        "outputId": "a38a42be-487d-4af5-b418-7f55c0a53031"
      },
      "outputs": [
        {
          "name": "stdout",
          "output_type": "stream",
          "text": [
            " 07:12:12 up 19 min,  0 users,  load average: 0.01, 0.03, 0.05\n",
            "USER     TTY      FROM             LOGIN@   IDLE   JCPU   PCPU WHAT\n"
          ]
        }
      ],
      "source": [
        "!w"
      ]
    },
    {
      "cell_type": "code",
      "execution_count": null,
      "metadata": {
        "id": "e4Y0Xjha4jiW"
      },
      "outputs": [],
      "source": [
        "'''cv2.__builtins__\n",
        "cv2.__cached__\n",
        "cv2.__doc__\n",
        "cv2.__file__\n",
        "cv2.__loader__\n",
        "cv2.__name__\n",
        "cv2.__package__\n",
        "'''"
      ]
    },
    {
      "cell_type": "code",
      "execution_count": null,
      "metadata": {
        "colab": {
          "base_uri": "https://localhost:8080/",
          "height": 35
        },
        "id": "rCuMCmEl5W_u",
        "outputId": "4850471f-7e6a-485a-bd82-54d3fde92341"
      },
      "outputs": [
        {
          "data": {
            "application/vnd.google.colaboratory.intrinsic+json": {
              "type": "string"
            },
            "text/plain": [
              "'/usr/local/lib/python3.7/dist-packages/cv2/__pycache__/__init__.cpython-37.pyc'"
            ]
          },
          "execution_count": 36,
          "metadata": {},
          "output_type": "execute_result"
        }
      ],
      "source": [
        "cv2.__cached__"
      ]
    },
    {
      "cell_type": "code",
      "execution_count": null,
      "metadata": {
        "colab": {
          "base_uri": "https://localhost:8080/",
          "height": 35
        },
        "id": "pncrNaEV5k9G",
        "outputId": "6fe3387d-188d-4ced-c7fe-1545ebcc3760"
      },
      "outputs": [
        {
          "data": {
            "application/vnd.google.colaboratory.intrinsic+json": {
              "type": "string"
            },
            "text/plain": [
              "'\\nOpenCV Python binary extension loader\\n'"
            ]
          },
          "execution_count": 35,
          "metadata": {},
          "output_type": "execute_result"
        }
      ],
      "source": [
        "cv2.__doc__"
      ]
    },
    {
      "cell_type": "code",
      "execution_count": null,
      "metadata": {
        "colab": {
          "base_uri": "https://localhost:8080/",
          "height": 35
        },
        "id": "TFCDzjj_5gCp",
        "outputId": "99435450-85a4-4bb9-ad66-48f7159346bf"
      },
      "outputs": [
        {
          "data": {
            "application/vnd.google.colaboratory.intrinsic+json": {
              "type": "string"
            },
            "text/plain": [
              "'/usr/local/lib/python3.7/dist-packages/cv2/__init__.py'"
            ]
          },
          "execution_count": 34,
          "metadata": {},
          "output_type": "execute_result"
        }
      ],
      "source": [
        "cv2.__file__"
      ]
    },
    {
      "cell_type": "code",
      "execution_count": null,
      "metadata": {
        "colab": {
          "base_uri": "https://localhost:8080/"
        },
        "id": "8czUg1rz5ftf",
        "outputId": "fb3e78b8-8ec6-430a-a501-4626853094e5"
      },
      "outputs": [
        {
          "data": {
            "text/plain": [
              "<_frozen_importlib_external.SourceFileLoader at 0x7f911ddfe790>"
            ]
          },
          "execution_count": 33,
          "metadata": {},
          "output_type": "execute_result"
        }
      ],
      "source": [
        "cv2.__loader__"
      ]
    },
    {
      "cell_type": "code",
      "execution_count": null,
      "metadata": {
        "colab": {
          "base_uri": "https://localhost:8080/",
          "height": 35
        },
        "id": "z1RNaSgm5WuY",
        "outputId": "dc18c12a-0c61-46be-aeaa-16ad03eb4951"
      },
      "outputs": [
        {
          "data": {
            "application/vnd.google.colaboratory.intrinsic+json": {
              "type": "string"
            },
            "text/plain": [
              "'cv2'"
            ]
          },
          "execution_count": 32,
          "metadata": {},
          "output_type": "execute_result"
        }
      ],
      "source": [
        "cv2.__name__"
      ]
    },
    {
      "cell_type": "code",
      "execution_count": null,
      "metadata": {
        "colab": {
          "base_uri": "https://localhost:8080/",
          "height": 35
        },
        "id": "PNfkc_5K5WeI",
        "outputId": "35d58e3a-0465-4201-cc2d-2e45e364ff3d"
      },
      "outputs": [
        {
          "data": {
            "application/vnd.google.colaboratory.intrinsic+json": {
              "type": "string"
            },
            "text/plain": [
              "'sklearn'"
            ]
          },
          "execution_count": 31,
          "metadata": {},
          "output_type": "execute_result"
        }
      ],
      "source": [
        "sklearn.__package__"
      ]
    },
    {
      "cell_type": "code",
      "execution_count": null,
      "metadata": {
        "id": "TUcyKF4Q4-sI"
      },
      "outputs": [],
      "source": [
        "#sklearn.__builtins__"
      ]
    },
    {
      "cell_type": "code",
      "execution_count": null,
      "metadata": {
        "id": "C9use79L5Crl"
      },
      "outputs": [],
      "source": [
        "#help(\"modules\")"
      ]
    },
    {
      "cell_type": "code",
      "execution_count": null,
      "metadata": {
        "id": "o3x2q0Cn5wiE"
      },
      "outputs": [],
      "source": [
        "#help()"
      ]
    },
    {
      "cell_type": "code",
      "execution_count": null,
      "metadata": {
        "id": "sVpp4i0c6gVi"
      },
      "outputs": [],
      "source": []
    },
    {
      "cell_type": "code",
      "source": [],
      "metadata": {
        "id": "d90vDFJIq8Ik"
      },
      "execution_count": null,
      "outputs": []
    },
    {
      "cell_type": "code",
      "source": [
        "from google.colab import files\n",
        "upload=files.upload()"
      ],
      "metadata": {
        "id": "o3d6a359sIBm"
      },
      "execution_count": null,
      "outputs": []
    },
    {
      "cell_type": "code",
      "source": [
        "from google.colab import drive\n",
        "drive.mount('/content/drive')\n",
        "ls '/content/drive/MyDrive/Colab Notebooks/data/OpenCV_Dataset'"
      ],
      "metadata": {
        "id": "M4jSFF9QsHx-"
      },
      "execution_count": null,
      "outputs": []
    },
    {
      "cell_type": "code",
      "source": [],
      "metadata": {
        "id": "DxKd8W9UsHh-"
      },
      "execution_count": null,
      "outputs": []
    },
    {
      "cell_type": "code",
      "source": [],
      "metadata": {
        "id": "rIH0xfCMsHTF"
      },
      "execution_count": null,
      "outputs": []
    },
    {
      "cell_type": "code",
      "source": [],
      "metadata": {
        "id": "aicqmjJvsHFG"
      },
      "execution_count": null,
      "outputs": []
    },
    {
      "cell_type": "code",
      "source": [],
      "metadata": {
        "id": "jBLPqHQaq74H"
      },
      "execution_count": null,
      "outputs": []
    },
    {
      "cell_type": "code",
      "source": [],
      "metadata": {
        "id": "Wo7bJgLmq7Y0"
      },
      "execution_count": null,
      "outputs": []
    },
    {
      "cell_type": "code",
      "source": [
        "import keyword as kw\n",
        "print(kw.kwlist,\"\\n\")"
      ],
      "metadata": {
        "colab": {
          "base_uri": "https://localhost:8080/"
        },
        "id": "U5ZCOTmR4zQJ",
        "outputId": "e3ae898b-5511-4de4-c931-a69bb3301c15"
      },
      "execution_count": null,
      "outputs": [
        {
          "output_type": "stream",
          "name": "stdout",
          "text": [
            "['False', 'None', 'True', 'and', 'as', 'assert', 'async', 'await', 'break', 'class', 'continue', 'def', 'del', 'elif', 'else', 'except', 'finally', 'for', 'from', 'global', 'if', 'import', 'in', 'is', 'lambda', 'nonlocal', 'not', 'or', 'pass', 'raise', 'return', 'try', 'while', 'with', 'yield'] \n",
            "\n"
          ]
        }
      ]
    },
    {
      "cell_type": "code",
      "source": [],
      "metadata": {
        "id": "Y8ND3bTl4y83"
      },
      "execution_count": null,
      "outputs": []
    },
    {
      "cell_type": "code",
      "source": [
        "import cv2  # pip install opencv-python\n",
        "import numpy as np\n",
        "from google.colab.patches import cv2_imshow\n",
        "\n",
        "img = cv2.imread(\"lena.png\")\n",
        "kernel = np.ones((5,5),np.uint8)\n",
        "\n",
        "imgGray = cv2.cvtColor(img,cv2.COLOR_BGR2GRAY)\n",
        "imgBlur = cv2.GaussianBlur(imgGray,(7,7),0)\n",
        "imgCanny = cv2.Canny(img,150,200)\n",
        "imgDialation = cv2.dilate(imgCanny,kernel,iterations=1)\n",
        "imgEroded = cv2.erode(imgDialation,kernel,iterations=1)\n",
        "\n",
        "cv2_imshow(imgGray)\n",
        "cv2_imshow(imgBlur)\n",
        "cv2_imshow(imgCanny)\n",
        "cv2_imshow(imgDialation)\n",
        "cv2_imshow(imgEroded)\n",
        "cv2.waitKey(0)"
      ],
      "metadata": {
        "colab": {
          "base_uri": "https://localhost:8080/",
          "height": 1000
        },
        "id": "ybnvtlhryo6-",
        "outputId": "1d02373e-df82-41b0-b51f-7f7e2a00e8de"
      },
      "execution_count": null,
      "outputs": [
        {
          "output_type": "display_data",
          "data": {
            "text/plain": [
              "<PIL.Image.Image image mode=L size=512x512 at 0x7F5C516F1490>"
            ],
            "image/png": "[encoded data removed]"
          },
          "metadata": {}
        },
        {
          "output_type": "display_data",
          "data": {
            "text/plain": [
              "<PIL.Image.Image image mode=L size=512x512 at 0x7F5C516E1890>"
            ],
            "image/png": "[encoded data removed]"
          },
          "metadata": {}
        },
        {
          "output_type": "display_data",
          "data": {
            "text/plain": [
              "<PIL.Image.Image image mode=L size=512x512 at 0x7F5C516BDE10>"
            ],
            "image/png": "[encoded data removed]"
          },
          "metadata": {}
        },
        {
          "output_type": "display_data",
          "data": {
            "text/plain": [
              "<PIL.Image.Image image mode=L size=512x512 at 0x7F5C516E1890>"
            ],
            "image/png": "[encoded data removed]"
          },
          "metadata": {}
        },
        {
          "output_type": "display_data",
          "data": {
            "text/plain": [
              "<PIL.Image.Image image mode=L size=512x512 at 0x7F5C516BDE10>"
            ],
            "image/png": "[encoded data removed]"
          },
          "metadata": {}
        },
        {
          "output_type": "execute_result",
          "data": {
            "text/plain": [
              "-1"
            ]
          },
          "metadata": {},
          "execution_count": 34
        }
      ]
    },
    {
      "cell_type": "code",
      "source": [],
      "metadata": {
        "id": "tNXzO4lSrxG_"
      },
      "execution_count": null,
      "outputs": []
    },
    {
      "cell_type": "code",
      "source": [
        "import cv2\n",
        "import numpy as np\n",
        "\n",
        "img = np.zeros((512,512,3),np.uint8)\n",
        "#print(img)\n",
        "#img[:]= 255,0,0\n",
        "\n",
        "cv2.line(img,(0,0),(img.shape[1],img.shape[0]),(0,255,0),3)\n",
        "cv2.rectangle(img,(0,0),(250,350),(0,0,255),2)\n",
        "cv2.circle(img,(400,50),30,(255,255,0),5)\n",
        "cv2.putText(img,\" OPENCV  \",(300,200),cv2.FONT_HERSHEY_COMPLEX,1,(0,150,0),3)\n",
        "\n",
        "\n",
        "cv2_imshow(img)\n",
        "\n",
        "cv2.waitKey(0)"
      ],
      "metadata": {
        "id": "uNczeh4xrwxv"
      },
      "execution_count": null,
      "outputs": []
    },
    {
      "cell_type": "code",
      "source": [],
      "metadata": {
        "id": "034umCTVspi6"
      },
      "execution_count": null,
      "outputs": []
    },
    {
      "cell_type": "code",
      "source": [
        "import cv2\n",
        "from google.colab.patches import cv2_imshow\n",
        "import numpy as np\n",
        "# Create a black image\n",
        "img = np.zeros((512,512,3), np.uint8)\n",
        "cv2_imshow(img)\n",
        "# Draw a diagonal blue line with thickness of 10 px\n",
        "cv2.line(img,(0,0),(500,500),(0,0,255),10)\n",
        "cv2_imshow(img)\n",
        "\n",
        "print(type(img))"
      ],
      "metadata": {
        "id": "PtYKGhMWspNt"
      },
      "execution_count": null,
      "outputs": []
    },
    {
      "cell_type": "code",
      "source": [],
      "metadata": {
        "id": "pgLgGw16so4S"
      },
      "execution_count": null,
      "outputs": []
    },
    {
      "cell_type": "code",
      "source": [],
      "metadata": {
        "id": "gD-1cZyfrwdT"
      },
      "execution_count": null,
      "outputs": []
    },
    {
      "cell_type": "code",
      "source": [
        "#What kind of OS\n",
        "!lsb_release -a"
      ],
      "metadata": {
        "colab": {
          "base_uri": "https://localhost:8080/"
        },
        "id": "QMu-urm3YV2D",
        "outputId": "7dc36a62-3b71-4241-cf5e-3ac83db0663f"
      },
      "execution_count": null,
      "outputs": [
        {
          "output_type": "stream",
          "name": "stdout",
          "text": [
            "No LSB modules are available.\n",
            "Distributor ID:\tUbuntu\n",
            "Description:\tUbuntu 18.04.6 LTS\n",
            "Release:\t18.04\n",
            "Codename:\tbionic\n"
          ]
        }
      ]
    },
    {
      "cell_type": "code",
      "source": [
        "!date"
      ],
      "metadata": {
        "colab": {
          "base_uri": "https://localhost:8080/"
        },
        "id": "tH1xBOu3YU2c",
        "outputId": "a4ec916c-6a3e-402a-c11a-ea7befcf5f84"
      },
      "execution_count": null,
      "outputs": [
        {
          "output_type": "stream",
          "name": "stdout",
          "text": [
            "Tue Oct 18 09:52:39 UTC 2022\n"
          ]
        }
      ]
    },
    {
      "cell_type": "code",
      "source": [
        "#!free -m"
      ],
      "metadata": {
        "id": "6NeSxf0tYUnR"
      },
      "execution_count": null,
      "outputs": []
    },
    {
      "cell_type": "code",
      "source": [],
      "metadata": {
        "id": "LNiJ7dTeYUZ8"
      },
      "execution_count": null,
      "outputs": []
    },
    {
      "cell_type": "code",
      "source": [
        "# Generate the QR Code\n",
        "#steps:   import the essential libraies and start using the inbuilt functions"
      ],
      "metadata": {
        "id": "hQfBtfFKYUNv"
      },
      "execution_count": null,
      "outputs": []
    },
    {
      "cell_type": "code",
      "source": [
        "#sqrt of a number\n",
        "sqrt(81)"
      ],
      "metadata": {
        "colab": {
          "base_uri": "https://localhost:8080/",
          "height": 183
        },
        "id": "cugsM9HBYT-k",
        "outputId": "65dfa548-5ae4-4ac7-8b11-869786f66dde"
      },
      "execution_count": null,
      "outputs": [
        {
          "output_type": "error",
          "ename": "NameError",
          "evalue": "ignored",
          "traceback": [
            "\u001b[0;31m---------------------------------------------------------------------------\u001b[0m",
            "\u001b[0;31mNameError\u001b[0m                                 Traceback (most recent call last)",
            "\u001b[0;32m<ipython-input-9-e2c8bb4b6b94>\u001b[0m in \u001b[0;36m<module>\u001b[0;34m\u001b[0m\n\u001b[1;32m      1\u001b[0m \u001b[0;31m#sqrt of a number\u001b[0m\u001b[0;34m\u001b[0m\u001b[0;34m\u001b[0m\u001b[0;34m\u001b[0m\u001b[0m\n\u001b[0;32m----> 2\u001b[0;31m \u001b[0msqrt\u001b[0m\u001b[0;34m(\u001b[0m\u001b[0;36m81\u001b[0m\u001b[0;34m)\u001b[0m\u001b[0;34m\u001b[0m\u001b[0;34m\u001b[0m\u001b[0m\n\u001b[0m",
            "\u001b[0;31mNameError\u001b[0m: name 'sqrt' is not defined"
          ]
        }
      ]
    },
    {
      "cell_type": "code",
      "source": [
        "from math import *\n",
        "tan(81)"
      ],
      "metadata": {
        "colab": {
          "base_uri": "https://localhost:8080/"
        },
        "id": "TtLFVe8IhPIv",
        "outputId": "87c05944-0bb0-4e59-89d0-d5b45a7657c1"
      },
      "execution_count": null,
      "outputs": [
        {
          "output_type": "execute_result",
          "data": {
            "text/plain": [
              "-0.8109944158318942"
            ]
          },
          "metadata": {},
          "execution_count": 9
        }
      ]
    },
    {
      "cell_type": "code",
      "source": [],
      "metadata": {
        "id": "UyR5ZqdehP6w"
      },
      "execution_count": null,
      "outputs": []
    },
    {
      "cell_type": "code",
      "source": [
        "import qrcode\n",
        "img=qrcode.make(\"We all are learning Open Source www.nitttrchd.ac.in\")\n",
        "img.save(\"myqrcode.png\")"
      ],
      "metadata": {
        "id": "qUWBMhwAhQCO"
      },
      "execution_count": null,
      "outputs": []
    },
    {
      "cell_type": "code",
      "source": [
        "!pip install qrcode"
      ],
      "metadata": {
        "colab": {
          "base_uri": "https://localhost:8080/"
        },
        "id": "CPvOFP_ThQJX",
        "outputId": "8e989dba-385f-4008-f283-4c30d64f747f"
      },
      "execution_count": null,
      "outputs": [
        {
          "output_type": "stream",
          "name": "stdout",
          "text": [
            "Looking in indexes: https://pypi.org/simple, https://us-python.pkg.dev/colab-wheels/public/simple/\n",
            "Collecting qrcode\n",
            "  Downloading qrcode-7.3.1.tar.gz (43 kB)\n",
            "\u001b[K     |████████████████████████████████| 43 kB 1.5 MB/s \n",
            "\u001b[?25hBuilding wheels for collected packages: qrcode\n",
            "  Building wheel for qrcode (setup.py) ... \u001b[?25l\u001b[?25hdone\n",
            "  Created wheel for qrcode: filename=qrcode-7.3.1-py3-none-any.whl size=40402 sha256=4448e23adbdb30a9f5bc84b78c1c8d27690e6fd8a4602bfc08373b3108fb75d4\n",
            "  Stored in directory: /root/.cache/pip/wheels/93/d7/39/a4111be2cfb8e679938aa671a37888b6afb1f9e7d748e94492\n",
            "Successfully built qrcode\n",
            "Installing collected packages: qrcode\n",
            "Successfully installed qrcode-7.3.1\n"
          ]
        }
      ]
    },
    {
      "cell_type": "code",
      "source": [
        "dir(qrcode)"
      ],
      "metadata": {
        "colab": {
          "base_uri": "https://localhost:8080/"
        },
        "id": "t_3CUJ-JhQPo",
        "outputId": "f358384b-72e2-4b7c-dcdf-f1f8a51dcbd8"
      },
      "execution_count": null,
      "outputs": [
        {
          "output_type": "execute_result",
          "data": {
            "text/plain": [
              "['ERROR_CORRECT_H',\n",
              " 'ERROR_CORRECT_L',\n",
              " 'ERROR_CORRECT_M',\n",
              " 'ERROR_CORRECT_Q',\n",
              " 'LUT',\n",
              " 'QRCode',\n",
              " '__builtins__',\n",
              " '__cached__',\n",
              " '__doc__',\n",
              " '__file__',\n",
              " '__loader__',\n",
              " '__name__',\n",
              " '__package__',\n",
              " '__path__',\n",
              " '__spec__',\n",
              " 'base',\n",
              " 'constants',\n",
              " 'exceptions',\n",
              " 'image',\n",
              " 'main',\n",
              " 'make',\n",
              " 'run_example',\n",
              " 'util']"
            ]
          },
          "metadata": {},
          "execution_count": 13
        }
      ]
    },
    {
      "cell_type": "code",
      "source": [
        "import keyword as kw"
      ],
      "metadata": {
        "id": "8DgFeeUehQbw"
      },
      "execution_count": null,
      "outputs": []
    },
    {
      "cell_type": "code",
      "source": [
        "dir(kw)"
      ],
      "metadata": {
        "colab": {
          "base_uri": "https://localhost:8080/"
        },
        "id": "Tlm094tKhQlH",
        "outputId": "1af29fbe-2b3c-47e1-fd89-8f9409bd3283"
      },
      "execution_count": null,
      "outputs": [
        {
          "output_type": "execute_result",
          "data": {
            "text/plain": [
              "['__all__',\n",
              " '__builtins__',\n",
              " '__cached__',\n",
              " '__doc__',\n",
              " '__file__',\n",
              " '__loader__',\n",
              " '__name__',\n",
              " '__package__',\n",
              " '__spec__',\n",
              " 'iskeyword',\n",
              " 'kwlist',\n",
              " 'main']"
            ]
          },
          "metadata": {},
          "execution_count": 15
        }
      ]
    },
    {
      "cell_type": "code",
      "source": [
        "print(kw.kwlist)"
      ],
      "metadata": {
        "colab": {
          "base_uri": "https://localhost:8080/"
        },
        "id": "3I9n4R4HYTxT",
        "outputId": "d8620b80-dac2-4e1c-af53-87241791bcfd"
      },
      "execution_count": null,
      "outputs": [
        {
          "output_type": "stream",
          "name": "stdout",
          "text": [
            "['False', 'None', 'True', 'and', 'as', 'assert', 'async', 'await', 'break', 'class', 'continue', 'def', 'del', 'elif', 'else', 'except', 'finally', 'for', 'from', 'global', 'if', 'import', 'in', 'is', 'lambda', 'nonlocal', 'not', 'or', 'pass', 'raise', 'return', 'try', 'while', 'with', 'yield']\n"
          ]
        }
      ]
    },
    {
      "cell_type": "code",
      "source": [
        "dir(math)"
      ],
      "metadata": {
        "colab": {
          "base_uri": "https://localhost:8080/"
        },
        "id": "dRZo4hzvkD9d",
        "outputId": "1e0b77d3-299d-472b-cd3f-6c1b106df763"
      },
      "execution_count": null,
      "outputs": [
        {
          "output_type": "execute_result",
          "data": {
            "text/plain": [
              "['__doc__',\n",
              " '__loader__',\n",
              " '__name__',\n",
              " '__package__',\n",
              " '__spec__',\n",
              " 'acos',\n",
              " 'acosh',\n",
              " 'asin',\n",
              " 'asinh',\n",
              " 'atan',\n",
              " 'atan2',\n",
              " 'atanh',\n",
              " 'ceil',\n",
              " 'copysign',\n",
              " 'cos',\n",
              " 'cosh',\n",
              " 'degrees',\n",
              " 'e',\n",
              " 'erf',\n",
              " 'erfc',\n",
              " 'exp',\n",
              " 'expm1',\n",
              " 'fabs',\n",
              " 'factorial',\n",
              " 'floor',\n",
              " 'fmod',\n",
              " 'frexp',\n",
              " 'fsum',\n",
              " 'gamma',\n",
              " 'gcd',\n",
              " 'hypot',\n",
              " 'inf',\n",
              " 'isclose',\n",
              " 'isfinite',\n",
              " 'isinf',\n",
              " 'isnan',\n",
              " 'ldexp',\n",
              " 'lgamma',\n",
              " 'log',\n",
              " 'log10',\n",
              " 'log1p',\n",
              " 'log2',\n",
              " 'modf',\n",
              " 'nan',\n",
              " 'pi',\n",
              " 'pow',\n",
              " 'radians',\n",
              " 'remainder',\n",
              " 'sin',\n",
              " 'sinh',\n",
              " 'sqrt',\n",
              " 'tan',\n",
              " 'tanh',\n",
              " 'tau',\n",
              " 'trunc']"
            ]
          },
          "metadata": {},
          "execution_count": 17
        }
      ]
    },
    {
      "cell_type": "code",
      "source": [
        "import sklearn"
      ],
      "metadata": {
        "id": "dwLrKNS9kDna"
      },
      "execution_count": null,
      "outputs": []
    },
    {
      "cell_type": "code",
      "source": [
        "dir(sklearn)"
      ],
      "metadata": {
        "colab": {
          "base_uri": "https://localhost:8080/"
        },
        "id": "FNGOjTjWkDSf",
        "outputId": "fcdeb349-8255-40b5-9918-52edfadb5c71"
      },
      "execution_count": null,
      "outputs": [
        {
          "output_type": "execute_result",
          "data": {
            "text/plain": [
              "['__SKLEARN_SETUP__',\n",
              " '__all__',\n",
              " '__builtins__',\n",
              " '__cached__',\n",
              " '__check_build',\n",
              " '__doc__',\n",
              " '__file__',\n",
              " '__loader__',\n",
              " '__name__',\n",
              " '__package__',\n",
              " '__path__',\n",
              " '__spec__',\n",
              " '__version__',\n",
              " '_config',\n",
              " '_distributor_init',\n",
              " 'base',\n",
              " 'clone',\n",
              " 'config_context',\n",
              " 'exceptions',\n",
              " 'externals',\n",
              " 'get_config',\n",
              " 'logger',\n",
              " 'logging',\n",
              " 'os',\n",
              " 'random',\n",
              " 'set_config',\n",
              " 'setup_module',\n",
              " 'show_versions',\n",
              " 'sys',\n",
              " 'utils']"
            ]
          },
          "metadata": {},
          "execution_count": 19
        }
      ]
    },
    {
      "cell_type": "code",
      "source": [],
      "metadata": {
        "id": "ZYifvZFZYTkn"
      },
      "execution_count": null,
      "outputs": []
    },
    {
      "cell_type": "code",
      "source": [],
      "metadata": {
        "id": "5ftD5OppYTQg"
      },
      "execution_count": null,
      "outputs": []
    },
    {
      "cell_type": "code",
      "source": [
        "pypi.org, python.org, https://python.swaroopch.com/\n",
        "\n",
        "https://amankharwal.medium.com/130-python-projects-with-source-code-61f498591bb\n",
        "\n",
        "#https://www.deeplearningbook.org/contents/convnets.html\n",
        "\n",
        "https://sdhanaraj.blogspot.com/2022/02/170-python-projects-with-source-code.html\n",
        "\n",
        "https://medium.com/coders-camp/130-python-projects-with-source-code-61f498591bb\n",
        "\n",
        "#Concept of comilation and interpretation\n"
      ],
      "metadata": {
        "id": "3vHRFviTj-d6"
      },
      "execution_count": null,
      "outputs": []
    },
    {
      "cell_type": "code",
      "source": [
        "whoami"
      ],
      "metadata": {
        "id": "rVPeRLDt0tvo"
      },
      "execution_count": null,
      "outputs": []
    },
    {
      "cell_type": "code",
      "source": [
        "print(sqrt(81))"
      ],
      "metadata": {
        "colab": {
          "base_uri": "https://localhost:8080/",
          "height": 170
        },
        "id": "IZ3p_PfjUgs-",
        "outputId": "32030e33-88cc-4778-fa16-20805b5eefe0"
      },
      "execution_count": null,
      "outputs": [
        {
          "output_type": "error",
          "ename": "NameError",
          "evalue": "ignored",
          "traceback": [
            "\u001b[0;31m---------------------------------------------------------------------------\u001b[0m",
            "\u001b[0;31mNameError\u001b[0m                                 Traceback (most recent call last)",
            "\u001b[0;32m<ipython-input-1-2feabb2a8298>\u001b[0m in \u001b[0;36m<module>\u001b[0;34m\u001b[0m\n\u001b[0;32m----> 1\u001b[0;31m \u001b[0mprint\u001b[0m\u001b[0;34m(\u001b[0m\u001b[0msqrt\u001b[0m\u001b[0;34m(\u001b[0m\u001b[0;36m81\u001b[0m\u001b[0;34m)\u001b[0m\u001b[0;34m)\u001b[0m\u001b[0;34m\u001b[0m\u001b[0;34m\u001b[0m\u001b[0m\n\u001b[0m",
            "\u001b[0;31mNameError\u001b[0m: name 'sqrt' is not defined"
          ]
        }
      ]
    },
    {
      "cell_type": "code",
      "source": [
        "from math import *\n",
        "print(sqrt(81))\n",
        "print(cos(81))"
      ],
      "metadata": {
        "colab": {
          "base_uri": "https://localhost:8080/"
        },
        "id": "m0cBu9W1UgXF",
        "outputId": "0e77a534-d5af-41dd-c68b-678e69ef1d01"
      },
      "execution_count": null,
      "outputs": [
        {
          "output_type": "stream",
          "name": "stdout",
          "text": [
            "9.0\n",
            "0.7766859820216312\n"
          ]
        }
      ]
    },
    {
      "cell_type": "code",
      "source": [],
      "metadata": {
        "id": "PfbeR2BSUgHd"
      },
      "execution_count": null,
      "outputs": []
    },
    {
      "cell_type": "code",
      "execution_count": null,
      "metadata": {
        "id": "Hb5tcCIzSgsC"
      },
      "outputs": [],
      "source": [
        "import qrcode\n",
        "\n",
        "img=qrcode.make(\"Welcome to STC on Deep Learning www.nitttrchd.ac.in\")\n",
        "\n",
        "img.save('qrcode_stc.png')\n"
      ]
    },
    {
      "cell_type": "code",
      "source": [
        "!pip install qrcode"
      ],
      "metadata": {
        "colab": {
          "base_uri": "https://localhost:8080/"
        },
        "id": "8VvhayIgVZ0k",
        "outputId": "2975bf19-b4bf-4b64-ccdf-ee347eb77a3b"
      },
      "execution_count": null,
      "outputs": [
        {
          "output_type": "stream",
          "name": "stdout",
          "text": [
            "Looking in indexes: https://pypi.org/simple, https://us-python.pkg.dev/colab-wheels/public/simple/\n",
            "Requirement already satisfied: qrcode in /usr/local/lib/python3.7/dist-packages (7.3.1)\n"
          ]
        }
      ]
    },
    {
      "cell_type": "code",
      "source": [],
      "metadata": {
        "id": "IeAMBU0UlMk-"
      },
      "execution_count": null,
      "outputs": []
    },
    {
      "cell_type": "code",
      "source": [
        "#Time taken by the algorithm/method\n",
        "import numpy\n",
        "total=0\n",
        "A=[3,5,7,9,11]\n",
        "B=[1,2,3,4,5]\n",
        "for i in range(len(A)):\n",
        "  total=total+A[i]*B[i]\n",
        "print(\"total sum is\", total ) \n",
        "#3+10+21+36+55 "
      ],
      "metadata": {
        "colab": {
          "base_uri": "https://localhost:8080/"
        },
        "id": "CnVWNIz5lMZv",
        "outputId": "60ae7019-0608-4cb4-e4e5-1e3599ccafbb"
      },
      "execution_count": null,
      "outputs": [
        {
          "output_type": "stream",
          "name": "stdout",
          "text": [
            "total sum is 125\n"
          ]
        }
      ]
    },
    {
      "cell_type": "code",
      "source": [
        "import time\n",
        "dir(time)"
      ],
      "metadata": {
        "colab": {
          "base_uri": "https://localhost:8080/"
        },
        "id": "s2KExDMJmpwF",
        "outputId": "6f494206-ff38-4319-9791-9f3fe87dce4f"
      },
      "execution_count": null,
      "outputs": [
        {
          "output_type": "execute_result",
          "data": {
            "text/plain": [
              "['CLOCK_BOOTTIME',\n",
              " 'CLOCK_MONOTONIC',\n",
              " 'CLOCK_MONOTONIC_RAW',\n",
              " 'CLOCK_PROCESS_CPUTIME_ID',\n",
              " 'CLOCK_REALTIME',\n",
              " 'CLOCK_THREAD_CPUTIME_ID',\n",
              " '_STRUCT_TM_ITEMS',\n",
              " '__doc__',\n",
              " '__loader__',\n",
              " '__name__',\n",
              " '__package__',\n",
              " '__spec__',\n",
              " 'altzone',\n",
              " 'asctime',\n",
              " 'clock',\n",
              " 'clock_getres',\n",
              " 'clock_gettime',\n",
              " 'clock_gettime_ns',\n",
              " 'clock_settime',\n",
              " 'clock_settime_ns',\n",
              " 'ctime',\n",
              " 'daylight',\n",
              " 'get_clock_info',\n",
              " 'gmtime',\n",
              " 'localtime',\n",
              " 'mktime',\n",
              " 'monotonic',\n",
              " 'monotonic_ns',\n",
              " 'perf_counter',\n",
              " 'perf_counter_ns',\n",
              " 'process_time',\n",
              " 'process_time_ns',\n",
              " 'pthread_getcpuclockid',\n",
              " 'sleep',\n",
              " 'strftime',\n",
              " 'strptime',\n",
              " 'struct_time',\n",
              " 'thread_time',\n",
              " 'thread_time_ns',\n",
              " 'time',\n",
              " 'time_ns',\n",
              " 'timezone',\n",
              " 'tzname',\n",
              " 'tzset']"
            ]
          },
          "metadata": {},
          "execution_count": 24
        }
      ]
    },
    {
      "cell_type": "code",
      "source": [
        "import time\n",
        "import numpy\n",
        "x=numpy.random.rand(10000000)\n",
        "y=numpy.random.rand(10000000)\n",
        "start_time=time.time()  #  Initialize the timer with respect to epoch\n",
        "total=0\n",
        "for i in range(len(x)):\n",
        "  total=total+x[i]*y[i]\n",
        "end_time=time.time()   #  Initialize the timer with respect to epoch\n",
        "print(\"Total time took by the method\", end_time-start_time )\n",
        "print(\"total sum is\", total ) "
      ],
      "metadata": {
        "colab": {
          "base_uri": "https://localhost:8080/"
        },
        "id": "amybEKinlMOn",
        "outputId": "1df4503e-92a3-40bb-e53f-18d244220a99"
      },
      "execution_count": null,
      "outputs": [
        {
          "output_type": "stream",
          "name": "stdout",
          "text": [
            "Total time took by the method 7.432757377624512\n",
            "total sum is 2499308.6286325743\n"
          ]
        }
      ]
    },
    {
      "cell_type": "code",
      "source": [
        "#epoch \n",
        "60*60*24*365*52"
      ],
      "metadata": {
        "colab": {
          "base_uri": "https://localhost:8080/"
        },
        "id": "JATPSSPQlMBA",
        "outputId": "a6bc77ea-c3ce-4995-a56e-76bbac6cea3c"
      },
      "execution_count": null,
      "outputs": [
        {
          "output_type": "execute_result",
          "data": {
            "text/plain": [
              "1639872000"
            ]
          },
          "metadata": {},
          "execution_count": 27
        }
      ]
    },
    {
      "cell_type": "code",
      "source": [
        "print(time.time())"
      ],
      "metadata": {
        "colab": {
          "base_uri": "https://localhost:8080/"
        },
        "id": "VAuXZBLilL16",
        "outputId": "c3d8138b-6146-488d-f044-4a5806f27f26"
      },
      "execution_count": null,
      "outputs": [
        {
          "output_type": "stream",
          "name": "stdout",
          "text": [
            "1666088658.9796872\n"
          ]
        }
      ]
    },
    {
      "cell_type": "code",
      "source": [],
      "metadata": {
        "id": "nyBugwQBlLqf"
      },
      "execution_count": null,
      "outputs": []
    },
    {
      "cell_type": "code",
      "source": [],
      "metadata": {
        "id": "7fQDFrRulLca"
      },
      "execution_count": null,
      "outputs": []
    },
    {
      "cell_type": "code",
      "source": [
        "!pip install PyQRCode\n",
        "!pip install pypng"
      ],
      "metadata": {
        "colab": {
          "base_uri": "https://localhost:8080/"
        },
        "id": "izqQ27fho59-",
        "outputId": "95584db1-086c-46cd-d4b3-a97bc9c3baf6"
      },
      "execution_count": null,
      "outputs": [
        {
          "output_type": "stream",
          "name": "stdout",
          "text": [
            "Looking in indexes: https://pypi.org/simple, https://us-python.pkg.dev/colab-wheels/public/simple/\n",
            "Collecting PyQRCode\n",
            "  Downloading PyQRCode-1.2.1.zip (41 kB)\n",
            "\u001b[?25l\r\u001b[K     |███████▉                        | 10 kB 22.4 MB/s eta 0:00:01\r\u001b[K     |███████████████▋                | 20 kB 30.3 MB/s eta 0:00:01\r\u001b[K     |███████████████████████▌        | 30 kB 35.0 MB/s eta 0:00:01\r\u001b[K     |███████████████████████████████▎| 40 kB 40.3 MB/s eta 0:00:01\r\u001b[K     |████████████████████████████████| 41 kB 778 kB/s \n",
            "\u001b[?25hBuilding wheels for collected packages: PyQRCode\n",
            "  Building wheel for PyQRCode (setup.py) ... \u001b[?25l\u001b[?25hdone\n",
            "  Created wheel for PyQRCode: filename=PyQRCode-1.2.1-py3-none-any.whl size=36247 sha256=4f086e636051516ed01c047a6046d1a27cefc8c04a40282b6e9c17fdab5e0c35\n",
            "  Stored in directory: /root/.cache/pip/wheels/aa/14/ad/f09824edf35fdc5fd8acc01b60ff57f858f212a2d5c41dddd2\n",
            "Successfully built PyQRCode\n",
            "Installing collected packages: PyQRCode\n",
            "Successfully installed PyQRCode-1.2.1\n",
            "Looking in indexes: https://pypi.org/simple, https://us-python.pkg.dev/colab-wheels/public/simple/\n",
            "Collecting pypng\n",
            "  Downloading pypng-0.20220715.0-py3-none-any.whl (58 kB)\n",
            "\u001b[K     |████████████████████████████████| 58 kB 5.4 MB/s \n",
            "\u001b[?25hInstalling collected packages: pypng\n",
            "Successfully installed pypng-0.20220715.0\n"
          ]
        }
      ]
    },
    {
      "cell_type": "code",
      "source": [],
      "metadata": {
        "id": "jWP6MSIQ0w2Q"
      },
      "execution_count": null,
      "outputs": []
    },
    {
      "cell_type": "code",
      "source": [
        "\n",
        "\n",
        "import pyqrcode\n",
        "import png\n",
        "link = \"After the course one can download the material from Blog  fosscommunity.wordpress.com\"\n",
        "qr_code = pyqrcode.create(link)\n",
        "qr_code.png(\"ourcourse1.png\", scale=7)"
      ],
      "metadata": {
        "id": "trEc3t660wb1"
      },
      "execution_count": null,
      "outputs": []
    },
    {
      "cell_type": "code",
      "source": [
        "from time import time\n",
        "start = time()\n",
        "\n",
        "# Python program to create acronyms\n",
        "word = \"Artificial Intelligence\"\n",
        "text = word.split()\n",
        "a = \" \"\n",
        "for i in text:\n",
        "    a = a+str(i[0]).upper()\n",
        "print(a)\n",
        "\n",
        "end = time()\n",
        "execution_time = end - start\n",
        "print(\"Execution Time : \", execution_time)"
      ],
      "metadata": {
        "id": "w1lZ14xK09eN"
      },
      "execution_count": null,
      "outputs": []
    },
    {
      "cell_type": "code",
      "source": [
        "!pip install pyzbar\n",
        "!pip install pillow\n",
        "\n",
        "!apt install libzbar0"
      ],
      "metadata": {
        "colab": {
          "base_uri": "https://localhost:8080/"
        },
        "id": "5pBotMEappk5",
        "outputId": "5040d281-3da3-460e-ac74-c9a9f8c00e3f"
      },
      "execution_count": null,
      "outputs": [
        {
          "output_type": "stream",
          "name": "stdout",
          "text": [
            "Looking in indexes: https://pypi.org/simple, https://us-python.pkg.dev/colab-wheels/public/simple/\n",
            "Collecting pyzbar\n",
            "  Downloading pyzbar-0.1.9-py2.py3-none-any.whl (32 kB)\n",
            "Installing collected packages: pyzbar\n",
            "Successfully installed pyzbar-0.1.9\n",
            "Looking in indexes: https://pypi.org/simple, https://us-python.pkg.dev/colab-wheels/public/simple/\n",
            "Requirement already satisfied: pillow in /usr/local/lib/python3.7/dist-packages (7.1.2)\n",
            "Reading package lists... Done\n",
            "Building dependency tree       \n",
            "Reading state information... Done\n",
            "The following package was automatically installed and is no longer required:\n",
            "  libnvidia-common-460\n",
            "Use 'apt autoremove' to remove it.\n",
            "The following additional packages will be installed:\n",
            "  libv4l-0 libv4lconvert0\n",
            "The following NEW packages will be installed:\n",
            "  libv4l-0 libv4lconvert0 libzbar0\n",
            "0 upgraded, 3 newly installed, 0 to remove and 22 not upgraded.\n",
            "Need to get 193 kB of archives.\n",
            "After this operation, 760 kB of additional disk space will be used.\n",
            "Get:1 http://archive.ubuntu.com/ubuntu bionic/main amd64 libv4lconvert0 amd64 1.14.2-1 [76.1 kB]\n",
            "Get:2 http://archive.ubuntu.com/ubuntu bionic/main amd64 libv4l-0 amd64 1.14.2-1 [41.7 kB]\n",
            "Get:3 http://archive.ubuntu.com/ubuntu bionic/universe amd64 libzbar0 amd64 0.10+doc-10.1build2 [75.7 kB]\n",
            "Fetched 193 kB in 1s (363 kB/s)\n",
            "Selecting previously unselected package libv4lconvert0:amd64.\n",
            "(Reading database ... 123941 files and directories currently installed.)\n",
            "Preparing to unpack .../libv4lconvert0_1.14.2-1_amd64.deb ...\n",
            "Unpacking libv4lconvert0:amd64 (1.14.2-1) ...\n",
            "Selecting previously unselected package libv4l-0:amd64.\n",
            "Preparing to unpack .../libv4l-0_1.14.2-1_amd64.deb ...\n",
            "Unpacking libv4l-0:amd64 (1.14.2-1) ...\n",
            "Selecting previously unselected package libzbar0:amd64.\n",
            "Preparing to unpack .../libzbar0_0.10+doc-10.1build2_amd64.deb ...\n",
            "Unpacking libzbar0:amd64 (0.10+doc-10.1build2) ...\n",
            "Setting up libv4lconvert0:amd64 (1.14.2-1) ...\n",
            "Setting up libv4l-0:amd64 (1.14.2-1) ...\n",
            "Setting up libzbar0:amd64 (0.10+doc-10.1build2) ...\n",
            "Processing triggers for libc-bin (2.27-3ubuntu1.6) ...\n"
          ]
        }
      ]
    },
    {
      "cell_type": "code",
      "source": [
        "#Decode a QR Code using Python\n",
        "\n",
        "\n",
        "\n",
        "from pyzbar.pyzbar import decode\n",
        "\n",
        "from pyzbar.pyzbar import decode\n",
        "from PIL import Image\n",
        "decocdeQR = decode(Image.open('ourcourse1.png'))\n",
        "print(decocdeQR[0].data.decode('ascii'))"
      ],
      "metadata": {
        "id": "46XJ_rEs1CsI",
        "colab": {
          "base_uri": "https://localhost:8080/"
        },
        "outputId": "a067c3e4-f811-42c7-dfb2-20c81997b5f1"
      },
      "execution_count": null,
      "outputs": [
        {
          "output_type": "stream",
          "name": "stdout",
          "text": [
            "After the course one can download the material from Blog  fosscommunity.wordpress.com\n"
          ]
        }
      ]
    },
    {
      "cell_type": "code",
      "source": [
        "!free -m"
      ],
      "metadata": {
        "colab": {
          "base_uri": "https://localhost:8080/"
        },
        "id": "8Fhxj3rSqQYp",
        "outputId": "cda0012e-ca05-4520-a3fe-94161d528546"
      },
      "execution_count": null,
      "outputs": [
        {
          "output_type": "stream",
          "name": "stdout",
          "text": [
            "              total        used        free      shared  buff/cache   available\n",
            "Mem:          12985        1266       10260           1        1458       11545\n",
            "Swap:             0           0           0\n"
          ]
        }
      ]
    },
    {
      "cell_type": "code",
      "source": [
        "#!pip list |wc -l"
      ],
      "metadata": {
        "id": "KOqXmcZmqZkw"
      },
      "execution_count": null,
      "outputs": []
    },
    {
      "cell_type": "code",
      "source": [
        "#!pip list"
      ],
      "metadata": {
        "id": "IGKl3MhkqclG"
      },
      "execution_count": null,
      "outputs": []
    },
    {
      "cell_type": "code",
      "source": [
        "#!pip freeze"
      ],
      "metadata": {
        "id": "dfvG7Z_qqsgH"
      },
      "execution_count": null,
      "outputs": []
    },
    {
      "cell_type": "code",
      "source": [
        "a=666\n",
        "b=777.89878\n",
        "c='t'\n",
        "d='jkjlkj'\n",
        "\n",
        "print(type(a))\n",
        "print(type(b))\n",
        "print(type(c))\n",
        "print(type(d))"
      ],
      "metadata": {
        "colab": {
          "base_uri": "https://localhost:8080/"
        },
        "id": "OUeJxd5OrDFb",
        "outputId": "8f3cbaee-9e77-4511-bb32-7097b9c73adf"
      },
      "execution_count": null,
      "outputs": [
        {
          "output_type": "stream",
          "name": "stdout",
          "text": [
            "<class 'int'>\n",
            "<class 'float'>\n",
            "<class 'str'>\n",
            "<class 'str'>\n"
          ]
        }
      ]
    },
    {
      "cell_type": "code",
      "source": [],
      "metadata": {
        "id": "e4NwHe4KrCvG"
      },
      "execution_count": null,
      "outputs": []
    },
    {
      "cell_type": "code",
      "source": [],
      "metadata": {
        "id": "O5TQTSir1CLA"
      },
      "execution_count": null,
      "outputs": []
    },
    {
      "cell_type": "code",
      "source": [
        "!free -m\n",
        "!date\n",
        "\n",
        "!cal 2022\n",
        "!lsb_release -a\n",
        "\n",
        "import sys\n",
        "print('Python:{}'.format(sys.version))\n",
        "!pip list |wc -l\n",
        "\n",
        "!pip freeze\n",
        "\n",
        "\n",
        "import sys\n",
        "print('Python:{}'.format(sys.version))\n",
        "\n",
        "import scipy\n",
        "print('Scipy:{}'.format(scipy.__version__))\n",
        "\n",
        "\n",
        "import numpy\n",
        "print('Numpy:{}'.format(numpy.__version__))\n",
        "\n",
        "import matplotlib\n",
        "print('Matplotlib:{}'.format(matplotlib.__version__))\n",
        "\n",
        "\n",
        "import pandas\n",
        "print('Pandas:{}'.format(pandas.__version__))\n",
        "\n",
        "import sklearn\n",
        "print('Scikit Learn :{}'.format(sklearn.__version__))\n",
        "\n",
        "import dask\n",
        "print('DASK:{}'.format(dask.__version__))\n",
        "\n",
        "\n",
        "import pyspark\n",
        "print('Pyspark:{}'.format(pyspark.__version__))\n",
        "\n",
        "!pip install pyspark\n",
        "dir(sklearn)\n",
        "\n",
        "#concept of dynamic typing\n",
        "a=666\n",
        "b=777.89878\n",
        "c='t'\n",
        "d='jkjlkj'\n",
        "\n",
        "print(type(a))\n",
        "print(type(b))\n",
        "print(type(c))\n",
        "print(type(d))\n",
        "\n",
        "#Dynamic Type in nature  & Typecasting\n",
        "a=int(input(\"Enter the first number\\n\"))\n",
        "b=int(input(\"Enter the second number\"))\n",
        "c=a+b\n",
        "\n",
        "print(a,\"+\",b, \"--->\",c)\n",
        "\n",
        "Loops\n",
        "\n",
        "i=1\n",
        "while i<=11:\n",
        " print(i)\n",
        " i=i+2\n",
        "\n",
        "\n",
        "\n",
        " for counter in range(0,-10,-1):\n",
        "  print(counter)\n",
        "\n",
        "  #Find the sum of all numbers from 1 to 10000\n",
        "\n",
        "print(\"Sum is --->\",sum(range(1,10001)))\n",
        "\n",
        "import math\n",
        "dir(math)\n",
        "\n",
        "#Generation of OTP\n",
        "\n",
        "#Exception Handling\n",
        "\n",
        "for i in range(-5,6):\n",
        "  try:\n",
        "   print(\"100/\",i,\"--->\",100/i)\n",
        "  except:\n",
        "    print(\"error\")\n",
        "\n",
        "#Keywords\n",
        "import keyword as kw\n",
        "dir(kw)\n",
        "\n",
        "print(kw.kwlist)"
      ],
      "metadata": {
        "colab": {
          "base_uri": "https://localhost:8080/"
        },
        "id": "GSAFRnexVh1Q",
        "outputId": "b82951d4-bb44-450f-c653-1c076924955b"
      },
      "execution_count": null,
      "outputs": [
        {
          "output_type": "stream",
          "name": "stdout",
          "text": [
            "              total        used        free      shared  buff/cache   available\n",
            "Mem:          12985         835       10334           1        1815       11950\n",
            "Swap:             0           0           0\n"
          ]
        }
      ]
    },
    {
      "cell_type": "code",
      "source": [
        "for i in range(-5,6):\n",
        "  #try:    -5 -4 ...-1, 0 , 1\n",
        "   try:\n",
        "    print(\"100/\",i,\"--->\",100/i)\n",
        "   except:\n",
        "    print(\"error\")"
      ],
      "metadata": {
        "colab": {
          "base_uri": "https://localhost:8080/"
        },
        "id": "gPPeMvXBrTQG",
        "outputId": "70998d8d-a83c-4bd4-fdee-4817eac79abf"
      },
      "execution_count": null,
      "outputs": [
        {
          "output_type": "stream",
          "name": "stdout",
          "text": [
            "100/ -5 ---> -20.0\n",
            "100/ -4 ---> -25.0\n",
            "100/ -3 ---> -33.333333333333336\n",
            "100/ -2 ---> -50.0\n",
            "100/ -1 ---> -100.0\n",
            "error\n",
            "100/ 1 ---> 100.0\n",
            "100/ 2 ---> 50.0\n",
            "100/ 3 ---> 33.333333333333336\n",
            "100/ 4 ---> 25.0\n",
            "100/ 5 ---> 20.0\n"
          ]
        }
      ]
    },
    {
      "cell_type": "code",
      "source": [
        "import cv2\n",
        "dir(cv2)"
      ],
      "metadata": {
        "id": "h71xNFcnVnO5",
        "colab": {
          "base_uri": "https://localhost:8080/"
        },
        "outputId": "92048b61-fad5-4f7b-a238-99a124ffc0e2"
      },
      "execution_count": null,
      "outputs": [
        {
          "output_type": "execute_result",
          "data": {
            "text/plain": [
              "['ACCESS_FAST',\n",
              " 'ACCESS_MASK',\n",
              " 'ACCESS_READ',\n",
              " 'ACCESS_RW',\n",
              " 'ACCESS_WRITE',\n",
              " 'ADAPTIVE_THRESH_GAUSSIAN_C',\n",
              " 'ADAPTIVE_THRESH_MEAN_C',\n",
              " 'AGAST_FEATURE_DETECTOR_AGAST_5_8',\n",
              " 'AGAST_FEATURE_DETECTOR_AGAST_7_12D',\n",
              " 'AGAST_FEATURE_DETECTOR_AGAST_7_12S',\n",
              " 'AGAST_FEATURE_DETECTOR_NONMAX_SUPPRESSION',\n",
              " 'AGAST_FEATURE_DETECTOR_OAST_9_16',\n",
              " 'AGAST_FEATURE_DETECTOR_THRESHOLD',\n",
              " 'AKAZE',\n",
              " 'AKAZE_DESCRIPTOR_KAZE',\n",
              " 'AKAZE_DESCRIPTOR_KAZE_UPRIGHT',\n",
              " 'AKAZE_DESCRIPTOR_MLDB',\n",
              " 'AKAZE_DESCRIPTOR_MLDB_UPRIGHT',\n",
              " 'AKAZE_create',\n",
              " 'AffineFeature',\n",
              " 'AffineFeature_create',\n",
              " 'AffineTransformer',\n",
              " 'AgastFeatureDetector',\n",
              " 'AgastFeatureDetector_AGAST_5_8',\n",
              " 'AgastFeatureDetector_AGAST_7_12d',\n",
              " 'AgastFeatureDetector_AGAST_7_12s',\n",
              " 'AgastFeatureDetector_NONMAX_SUPPRESSION',\n",
              " 'AgastFeatureDetector_OAST_9_16',\n",
              " 'AgastFeatureDetector_THRESHOLD',\n",
              " 'AgastFeatureDetector_create',\n",
              " 'Algorithm',\n",
              " 'AlignExposures',\n",
              " 'AlignMTB',\n",
              " 'AsyncArray',\n",
              " 'BFMatcher',\n",
              " 'BFMatcher_create',\n",
              " 'BORDER_CONSTANT',\n",
              " 'BORDER_DEFAULT',\n",
              " 'BORDER_ISOLATED',\n",
              " 'BORDER_REFLECT',\n",
              " 'BORDER_REFLECT101',\n",
              " 'BORDER_REFLECT_101',\n",
              " 'BORDER_REPLICATE',\n",
              " 'BORDER_TRANSPARENT',\n",
              " 'BORDER_WRAP',\n",
              " 'BOWImgDescriptorExtractor',\n",
              " 'BOWKMeansTrainer',\n",
              " 'BOWTrainer',\n",
              " 'BRISK',\n",
              " 'BRISK_create',\n",
              " 'BackgroundSubtractor',\n",
              " 'BackgroundSubtractorKNN',\n",
              " 'BackgroundSubtractorMOG2',\n",
              " 'BaseCascadeClassifier',\n",
              " 'CALIB_CB_ACCURACY',\n",
              " 'CALIB_CB_ADAPTIVE_THRESH',\n",
              " 'CALIB_CB_ASYMMETRIC_GRID',\n",
              " 'CALIB_CB_CLUSTERING',\n",
              " 'CALIB_CB_EXHAUSTIVE',\n",
              " 'CALIB_CB_FAST_CHECK',\n",
              " 'CALIB_CB_FILTER_QUADS',\n",
              " 'CALIB_CB_LARGER',\n",
              " 'CALIB_CB_MARKER',\n",
              " 'CALIB_CB_NORMALIZE_IMAGE',\n",
              " 'CALIB_CB_SYMMETRIC_GRID',\n",
              " 'CALIB_FIX_ASPECT_RATIO',\n",
              " 'CALIB_FIX_FOCAL_LENGTH',\n",
              " 'CALIB_FIX_INTRINSIC',\n",
              " 'CALIB_FIX_K1',\n",
              " 'CALIB_FIX_K2',\n",
              " 'CALIB_FIX_K3',\n",
              " 'CALIB_FIX_K4',\n",
              " 'CALIB_FIX_K5',\n",
              " 'CALIB_FIX_K6',\n",
              " 'CALIB_FIX_PRINCIPAL_POINT',\n",
              " 'CALIB_FIX_S1_S2_S3_S4',\n",
              " 'CALIB_FIX_TANGENT_DIST',\n",
              " 'CALIB_FIX_TAUX_TAUY',\n",
              " 'CALIB_HAND_EYE_ANDREFF',\n",
              " 'CALIB_HAND_EYE_DANIILIDIS',\n",
              " 'CALIB_HAND_EYE_HORAUD',\n",
              " 'CALIB_HAND_EYE_PARK',\n",
              " 'CALIB_HAND_EYE_TSAI',\n",
              " 'CALIB_NINTRINSIC',\n",
              " 'CALIB_RATIONAL_MODEL',\n",
              " 'CALIB_ROBOT_WORLD_HAND_EYE_LI',\n",
              " 'CALIB_ROBOT_WORLD_HAND_EYE_SHAH',\n",
              " 'CALIB_SAME_FOCAL_LENGTH',\n",
              " 'CALIB_THIN_PRISM_MODEL',\n",
              " 'CALIB_TILTED_MODEL',\n",
              " 'CALIB_USE_EXTRINSIC_GUESS',\n",
              " 'CALIB_USE_INTRINSIC_GUESS',\n",
              " 'CALIB_USE_LU',\n",
              " 'CALIB_USE_QR',\n",
              " 'CALIB_ZERO_DISPARITY',\n",
              " 'CALIB_ZERO_TANGENT_DIST',\n",
              " 'CAP_ANDROID',\n",
              " 'CAP_ANY',\n",
              " 'CAP_ARAVIS',\n",
              " 'CAP_AVFOUNDATION',\n",
              " 'CAP_CMU1394',\n",
              " 'CAP_DC1394',\n",
              " 'CAP_DSHOW',\n",
              " 'CAP_FFMPEG',\n",
              " 'CAP_FIREWARE',\n",
              " 'CAP_FIREWIRE',\n",
              " 'CAP_GIGANETIX',\n",
              " 'CAP_GPHOTO2',\n",
              " 'CAP_GSTREAMER',\n",
              " 'CAP_IEEE1394',\n",
              " 'CAP_IMAGES',\n",
              " 'CAP_INTELPERC',\n",
              " 'CAP_INTELPERC_DEPTH_GENERATOR',\n",
              " 'CAP_INTELPERC_DEPTH_MAP',\n",
              " 'CAP_INTELPERC_GENERATORS_MASK',\n",
              " 'CAP_INTELPERC_IMAGE',\n",
              " 'CAP_INTELPERC_IMAGE_GENERATOR',\n",
              " 'CAP_INTELPERC_IR_GENERATOR',\n",
              " 'CAP_INTELPERC_IR_MAP',\n",
              " 'CAP_INTELPERC_UVDEPTH_MAP',\n",
              " 'CAP_INTEL_MFX',\n",
              " 'CAP_MSMF',\n",
              " 'CAP_OPENCV_MJPEG',\n",
              " 'CAP_OPENNI',\n",
              " 'CAP_OPENNI2',\n",
              " 'CAP_OPENNI2_ASTRA',\n",
              " 'CAP_OPENNI2_ASUS',\n",
              " 'CAP_OPENNI_ASUS',\n",
              " 'CAP_OPENNI_BGR_IMAGE',\n",
              " 'CAP_OPENNI_DEPTH_GENERATOR',\n",
              " 'CAP_OPENNI_DEPTH_GENERATOR_BASELINE',\n",
              " 'CAP_OPENNI_DEPTH_GENERATOR_FOCAL_LENGTH',\n",
              " 'CAP_OPENNI_DEPTH_GENERATOR_PRESENT',\n",
              " 'CAP_OPENNI_DEPTH_GENERATOR_REGISTRATION',\n",
              " 'CAP_OPENNI_DEPTH_GENERATOR_REGISTRATION_ON',\n",
              " 'CAP_OPENNI_DEPTH_MAP',\n",
              " 'CAP_OPENNI_DISPARITY_MAP',\n",
              " 'CAP_OPENNI_DISPARITY_MAP_32F',\n",
              " 'CAP_OPENNI_GENERATORS_MASK',\n",
              " 'CAP_OPENNI_GRAY_IMAGE',\n",
              " 'CAP_OPENNI_IMAGE_GENERATOR',\n",
              " 'CAP_OPENNI_IMAGE_GENERATOR_OUTPUT_MODE',\n",
              " 'CAP_OPENNI_IMAGE_GENERATOR_PRESENT',\n",
              " 'CAP_OPENNI_IR_GENERATOR',\n",
              " 'CAP_OPENNI_IR_GENERATOR_PRESENT',\n",
              " 'CAP_OPENNI_IR_IMAGE',\n",
              " 'CAP_OPENNI_POINT_CLOUD_MAP',\n",
              " 'CAP_OPENNI_QVGA_30HZ',\n",
              " 'CAP_OPENNI_QVGA_60HZ',\n",
              " 'CAP_OPENNI_SXGA_15HZ',\n",
              " 'CAP_OPENNI_SXGA_30HZ',\n",
              " 'CAP_OPENNI_VALID_DEPTH_MASK',\n",
              " 'CAP_OPENNI_VGA_30HZ',\n",
              " 'CAP_PROP_APERTURE',\n",
              " 'CAP_PROP_ARAVIS_AUTOTRIGGER',\n",
              " 'CAP_PROP_AUDIO_BASE_INDEX',\n",
              " 'CAP_PROP_AUDIO_DATA_DEPTH',\n",
              " 'CAP_PROP_AUDIO_POS',\n",
              " 'CAP_PROP_AUDIO_SAMPLES_PER_SECOND',\n",
              " 'CAP_PROP_AUDIO_SHIFT_NSEC',\n",
              " 'CAP_PROP_AUDIO_STREAM',\n",
              " 'CAP_PROP_AUDIO_SYNCHRONIZE',\n",
              " 'CAP_PROP_AUDIO_TOTAL_CHANNELS',\n",
              " 'CAP_PROP_AUDIO_TOTAL_STREAMS',\n",
              " 'CAP_PROP_AUTOFOCUS',\n",
              " 'CAP_PROP_AUTO_EXPOSURE',\n",
              " 'CAP_PROP_AUTO_WB',\n",
              " 'CAP_PROP_BACKEND',\n",
              " 'CAP_PROP_BACKLIGHT',\n",
              " 'CAP_PROP_BITRATE',\n",
              " 'CAP_PROP_BRIGHTNESS',\n",
              " 'CAP_PROP_BUFFERSIZE',\n",
              " 'CAP_PROP_CHANNEL',\n",
              " 'CAP_PROP_CODEC_EXTRADATA_INDEX',\n",
              " 'CAP_PROP_CODEC_PIXEL_FORMAT',\n",
              " 'CAP_PROP_CONTRAST',\n",
              " 'CAP_PROP_CONVERT_RGB',\n",
              " 'CAP_PROP_DC1394_MAX',\n",
              " 'CAP_PROP_DC1394_MODE_AUTO',\n",
              " 'CAP_PROP_DC1394_MODE_MANUAL',\n",
              " 'CAP_PROP_DC1394_MODE_ONE_PUSH_AUTO',\n",
              " 'CAP_PROP_DC1394_OFF',\n",
              " 'CAP_PROP_EXPOSURE',\n",
              " 'CAP_PROP_EXPOSUREPROGRAM',\n",
              " 'CAP_PROP_FOCUS',\n",
              " 'CAP_PROP_FORMAT',\n",
              " 'CAP_PROP_FOURCC',\n",
              " 'CAP_PROP_FPS',\n",
              " 'CAP_PROP_FRAME_COUNT',\n",
              " 'CAP_PROP_FRAME_HEIGHT',\n",
              " 'CAP_PROP_FRAME_WIDTH',\n",
              " 'CAP_PROP_GAIN',\n",
              " 'CAP_PROP_GAMMA',\n",
              " 'CAP_PROP_GIGA_FRAME_HEIGH_MAX',\n",
              " 'CAP_PROP_GIGA_FRAME_OFFSET_X',\n",
              " 'CAP_PROP_GIGA_FRAME_OFFSET_Y',\n",
              " 'CAP_PROP_GIGA_FRAME_SENS_HEIGH',\n",
              " 'CAP_PROP_GIGA_FRAME_SENS_WIDTH',\n",
              " 'CAP_PROP_GIGA_FRAME_WIDTH_MAX',\n",
              " 'CAP_PROP_GPHOTO2_COLLECT_MSGS',\n",
              " 'CAP_PROP_GPHOTO2_FLUSH_MSGS',\n",
              " 'CAP_PROP_GPHOTO2_PREVIEW',\n",
              " 'CAP_PROP_GPHOTO2_RELOAD_CONFIG',\n",
              " 'CAP_PROP_GPHOTO2_RELOAD_ON_CHANGE',\n",
              " 'CAP_PROP_GPHOTO2_WIDGET_ENUMERATE',\n",
              " 'CAP_PROP_GSTREAMER_QUEUE_LENGTH',\n",
              " 'CAP_PROP_GUID',\n",
              " 'CAP_PROP_HUE',\n",
              " 'CAP_PROP_HW_ACCELERATION',\n",
              " 'CAP_PROP_HW_ACCELERATION_USE_OPENCL',\n",
              " 'CAP_PROP_HW_DEVICE',\n",
              " 'CAP_PROP_IMAGES_BASE',\n",
              " 'CAP_PROP_IMAGES_LAST',\n",
              " 'CAP_PROP_INTELPERC_DEPTH_CONFIDENCE_THRESHOLD',\n",
              " 'CAP_PROP_INTELPERC_DEPTH_FOCAL_LENGTH_HORZ',\n",
              " 'CAP_PROP_INTELPERC_DEPTH_FOCAL_LENGTH_VERT',\n",
              " 'CAP_PROP_INTELPERC_DEPTH_LOW_CONFIDENCE_VALUE',\n",
              " 'CAP_PROP_INTELPERC_DEPTH_SATURATION_VALUE',\n",
              " 'CAP_PROP_INTELPERC_PROFILE_COUNT',\n",
              " 'CAP_PROP_INTELPERC_PROFILE_IDX',\n",
              " 'CAP_PROP_IOS_DEVICE_EXPOSURE',\n",
              " 'CAP_PROP_IOS_DEVICE_FLASH',\n",
              " 'CAP_PROP_IOS_DEVICE_FOCUS',\n",
              " 'CAP_PROP_IOS_DEVICE_TORCH',\n",
              " 'CAP_PROP_IOS_DEVICE_WHITEBALANCE',\n",
              " 'CAP_PROP_IRIS',\n",
              " 'CAP_PROP_ISO_SPEED',\n",
              " 'CAP_PROP_LRF_HAS_KEY_FRAME',\n",
              " 'CAP_PROP_MODE',\n",
              " 'CAP_PROP_MONOCHROME',\n",
              " 'CAP_PROP_OPENNI2_MIRROR',\n",
              " 'CAP_PROP_OPENNI2_SYNC',\n",
              " 'CAP_PROP_OPENNI_APPROX_FRAME_SYNC',\n",
              " 'CAP_PROP_OPENNI_BASELINE',\n",
              " 'CAP_PROP_OPENNI_CIRCLE_BUFFER',\n",
              " 'CAP_PROP_OPENNI_FOCAL_LENGTH',\n",
              " 'CAP_PROP_OPENNI_FRAME_MAX_DEPTH',\n",
              " 'CAP_PROP_OPENNI_GENERATOR_PRESENT',\n",
              " 'CAP_PROP_OPENNI_MAX_BUFFER_SIZE',\n",
              " 'CAP_PROP_OPENNI_MAX_TIME_DURATION',\n",
              " 'CAP_PROP_OPENNI_OUTPUT_MODE',\n",
              " 'CAP_PROP_OPENNI_REGISTRATION',\n",
              " 'CAP_PROP_OPENNI_REGISTRATION_ON',\n",
              " 'CAP_PROP_OPEN_TIMEOUT_MSEC',\n",
              " 'CAP_PROP_ORIENTATION_AUTO',\n",
              " 'CAP_PROP_ORIENTATION_META',\n",
              " 'CAP_PROP_PAN',\n",
              " 'CAP_PROP_POS_AVI_RATIO',\n",
              " 'CAP_PROP_POS_FRAMES',\n",
              " 'CAP_PROP_POS_MSEC',\n",
              " 'CAP_PROP_PVAPI_BINNINGX',\n",
              " 'CAP_PROP_PVAPI_BINNINGY',\n",
              " 'CAP_PROP_PVAPI_DECIMATIONHORIZONTAL',\n",
              " 'CAP_PROP_PVAPI_DECIMATIONVERTICAL',\n",
              " 'CAP_PROP_PVAPI_FRAMESTARTTRIGGERMODE',\n",
              " 'CAP_PROP_PVAPI_MULTICASTIP',\n",
              " 'CAP_PROP_PVAPI_PIXELFORMAT',\n",
              " 'CAP_PROP_READ_TIMEOUT_MSEC',\n",
              " 'CAP_PROP_RECTIFICATION',\n",
              " 'CAP_PROP_ROLL',\n",
              " 'CAP_PROP_SAR_DEN',\n",
              " 'CAP_PROP_SAR_NUM',\n",
              " 'CAP_PROP_SATURATION',\n",
              " 'CAP_PROP_SETTINGS',\n",
              " 'CAP_PROP_SHARPNESS',\n",
              " 'CAP_PROP_SPEED',\n",
              " 'CAP_PROP_STREAM_OPEN_TIME_USEC',\n",
              " 'CAP_PROP_TEMPERATURE',\n",
              " 'CAP_PROP_TILT',\n",
              " 'CAP_PROP_TRIGGER',\n",
              " 'CAP_PROP_TRIGGER_DELAY',\n",
              " 'CAP_PROP_VIDEO_STREAM',\n",
              " 'CAP_PROP_VIDEO_TOTAL_CHANNELS',\n",
              " 'CAP_PROP_VIEWFINDER',\n",
              " 'CAP_PROP_WB_TEMPERATURE',\n",
              " 'CAP_PROP_WHITE_BALANCE_BLUE_U',\n",
              " 'CAP_PROP_WHITE_BALANCE_RED_V',\n",
              " 'CAP_PROP_XI_ACQ_BUFFER_SIZE',\n",
              " 'CAP_PROP_XI_ACQ_BUFFER_SIZE_UNIT',\n",
              " 'CAP_PROP_XI_ACQ_FRAME_BURST_COUNT',\n",
              " 'CAP_PROP_XI_ACQ_TIMING_MODE',\n",
              " 'CAP_PROP_XI_ACQ_TRANSPORT_BUFFER_COMMIT',\n",
              " 'CAP_PROP_XI_ACQ_TRANSPORT_BUFFER_SIZE',\n",
              " 'CAP_PROP_XI_AEAG',\n",
              " 'CAP_PROP_XI_AEAG_LEVEL',\n",
              " 'CAP_PROP_XI_AEAG_ROI_HEIGHT',\n",
              " 'CAP_PROP_XI_AEAG_ROI_OFFSET_X',\n",
              " 'CAP_PROP_XI_AEAG_ROI_OFFSET_Y',\n",
              " 'CAP_PROP_XI_AEAG_ROI_WIDTH',\n",
              " 'CAP_PROP_XI_AE_MAX_LIMIT',\n",
              " 'CAP_PROP_XI_AG_MAX_LIMIT',\n",
              " 'CAP_PROP_XI_APPLY_CMS',\n",
              " 'CAP_PROP_XI_AUTO_BANDWIDTH_CALCULATION',\n",
              " 'CAP_PROP_XI_AUTO_WB',\n",
              " 'CAP_PROP_XI_AVAILABLE_BANDWIDTH',\n",
              " 'CAP_PROP_XI_BINNING_HORIZONTAL',\n",
              " 'CAP_PROP_XI_BINNING_PATTERN',\n",
              " 'CAP_PROP_XI_BINNING_SELECTOR',\n",
              " 'CAP_PROP_XI_BINNING_VERTICAL',\n",
              " 'CAP_PROP_XI_BPC',\n",
              " 'CAP_PROP_XI_BUFFERS_QUEUE_SIZE',\n",
              " 'CAP_PROP_XI_BUFFER_POLICY',\n",
              " 'CAP_PROP_XI_CC_MATRIX_00',\n",
              " 'CAP_PROP_XI_CC_MATRIX_01',\n",
              " 'CAP_PROP_XI_CC_MATRIX_02',\n",
              " 'CAP_PROP_XI_CC_MATRIX_03',\n",
              " 'CAP_PROP_XI_CC_MATRIX_10',\n",
              " 'CAP_PROP_XI_CC_MATRIX_11',\n",
              " 'CAP_PROP_XI_CC_MATRIX_12',\n",
              " 'CAP_PROP_XI_CC_MATRIX_13',\n",
              " 'CAP_PROP_XI_CC_MATRIX_20',\n",
              " 'CAP_PROP_XI_CC_MATRIX_21',\n",
              " 'CAP_PROP_XI_CC_MATRIX_22',\n",
              " 'CAP_PROP_XI_CC_MATRIX_23',\n",
              " 'CAP_PROP_XI_CC_MATRIX_30',\n",
              " 'CAP_PROP_XI_CC_MATRIX_31',\n",
              " 'CAP_PROP_XI_CC_MATRIX_32',\n",
              " 'CAP_PROP_XI_CC_MATRIX_33',\n",
              " 'CAP_PROP_XI_CHIP_TEMP',\n",
              " 'CAP_PROP_XI_CMS',\n",
              " 'CAP_PROP_XI_COLOR_FILTER_ARRAY',\n",
              " 'CAP_PROP_XI_COLUMN_FPN_CORRECTION',\n",
              " 'CAP_PROP_XI_COOLING',\n",
              " 'CAP_PROP_XI_COUNTER_SELECTOR',\n",
              " 'CAP_PROP_XI_COUNTER_VALUE',\n",
              " 'CAP_PROP_XI_DATA_FORMAT',\n",
              " 'CAP_PROP_XI_DEBOUNCE_EN',\n",
              " 'CAP_PROP_XI_DEBOUNCE_POL',\n",
              " 'CAP_PROP_XI_DEBOUNCE_T0',\n",
              " 'CAP_PROP_XI_DEBOUNCE_T1',\n",
              " 'CAP_PROP_XI_DEBUG_LEVEL',\n",
              " 'CAP_PROP_XI_DECIMATION_HORIZONTAL',\n",
              " 'CAP_PROP_XI_DECIMATION_PATTERN',\n",
              " 'CAP_PROP_XI_DECIMATION_SELECTOR',\n",
              " 'CAP_PROP_XI_DECIMATION_VERTICAL',\n",
              " 'CAP_PROP_XI_DEFAULT_CC_MATRIX',\n",
              " 'CAP_PROP_XI_DEVICE_MODEL_ID',\n",
              " 'CAP_PROP_XI_DEVICE_RESET',\n",
              " 'CAP_PROP_XI_DEVICE_SN',\n",
              " 'CAP_PROP_XI_DOWNSAMPLING',\n",
              " 'CAP_PROP_XI_DOWNSAMPLING_TYPE',\n",
              " 'CAP_PROP_XI_EXPOSURE',\n",
              " 'CAP_PROP_XI_EXPOSURE_BURST_COUNT',\n",
              " 'CAP_PROP_XI_EXP_PRIORITY',\n",
              " 'CAP_PROP_XI_FFS_ACCESS_KEY',\n",
              " 'CAP_PROP_XI_FFS_FILE_ID',\n",
              " 'CAP_PROP_XI_FFS_FILE_SIZE',\n",
              " 'CAP_PROP_XI_FRAMERATE',\n",
              " 'CAP_PROP_XI_FREE_FFS_SIZE',\n",
              " 'CAP_PROP_XI_GAIN',\n",
              " 'CAP_PROP_XI_GAIN_SELECTOR',\n",
              " 'CAP_PROP_XI_GAMMAC',\n",
              " 'CAP_PROP_XI_GAMMAY',\n",
              " 'CAP_PROP_XI_GPI_LEVEL',\n",
              " 'CAP_PROP_XI_GPI_MODE',\n",
              " 'CAP_PROP_XI_GPI_SELECTOR',\n",
              " 'CAP_PROP_XI_GPO_MODE',\n",
              " 'CAP_PROP_XI_GPO_SELECTOR',\n",
              " 'CAP_PROP_XI_HDR',\n",
              " 'CAP_PROP_XI_HDR_KNEEPOINT_COUNT',\n",
              " 'CAP_PROP_XI_HDR_T1',\n",
              " 'CAP_PROP_XI_HDR_T2',\n",
              " 'CAP_PROP_XI_HEIGHT',\n",
              " 'CAP_PROP_XI_HOUS_BACK_SIDE_TEMP',\n",
              " 'CAP_PROP_XI_HOUS_TEMP',\n",
              " 'CAP_PROP_XI_HW_REVISION',\n",
              " 'CAP_PROP_XI_IMAGE_BLACK_LEVEL',\n",
              " 'CAP_PROP_XI_IMAGE_DATA_BIT_DEPTH',\n",
              " 'CAP_PROP_XI_IMAGE_DATA_FORMAT',\n",
              " 'CAP_PROP_XI_IMAGE_DATA_FORMAT_RGB32_ALPHA',\n",
              " 'CAP_PROP_XI_IMAGE_IS_COLOR',\n",
              " 'CAP_PROP_XI_IMAGE_PAYLOAD_SIZE',\n",
              " 'CAP_PROP_XI_IS_COOLED',\n",
              " 'CAP_PROP_XI_IS_DEVICE_EXIST',\n",
              " 'CAP_PROP_XI_KNEEPOINT1',\n",
              " 'CAP_PROP_XI_KNEEPOINT2',\n",
              " 'CAP_PROP_XI_LED_MODE',\n",
              " 'CAP_PROP_XI_LED_SELECTOR',\n",
              " 'CAP_PROP_XI_LENS_APERTURE_VALUE',\n",
              " 'CAP_PROP_XI_LENS_FEATURE',\n",
              " 'CAP_PROP_XI_LENS_FEATURE_SELECTOR',\n",
              " 'CAP_PROP_XI_LENS_FOCAL_LENGTH',\n",
              " 'CAP_PROP_XI_LENS_FOCUS_DISTANCE',\n",
              " 'CAP_PROP_XI_LENS_FOCUS_MOVE',\n",
              " 'CAP_PROP_XI_LENS_FOCUS_MOVEMENT_VALUE',\n",
              " 'CAP_PROP_XI_LENS_MODE',\n",
              " 'CAP_PROP_XI_LIMIT_BANDWIDTH',\n",
              " 'CAP_PROP_XI_LUT_EN',\n",
              " 'CAP_PROP_XI_LUT_INDEX',\n",
              " 'CAP_PROP_XI_LUT_VALUE',\n",
              " 'CAP_PROP_XI_MANUAL_WB',\n",
              " 'CAP_PROP_XI_OFFSET_X',\n",
              " 'CAP_PROP_XI_OFFSET_Y',\n",
              " 'CAP_PROP_XI_OUTPUT_DATA_BIT_DEPTH',\n",
              " 'CAP_PROP_XI_OUTPUT_DATA_PACKING',\n",
              " 'CAP_PROP_XI_OUTPUT_DATA_PACKING_TYPE',\n",
              " 'CAP_PROP_XI_RECENT_FRAME',\n",
              " 'CAP_PROP_XI_REGION_MODE',\n",
              " 'CAP_PROP_XI_REGION_SELECTOR',\n",
              " 'CAP_PROP_XI_ROW_FPN_CORRECTION',\n",
              " 'CAP_PROP_XI_SENSOR_BOARD_TEMP',\n",
              " 'CAP_PROP_XI_SENSOR_CLOCK_FREQ_HZ',\n",
              " 'CAP_PROP_XI_SENSOR_CLOCK_FREQ_INDEX',\n",
              " 'CAP_PROP_XI_SENSOR_DATA_BIT_DEPTH',\n",
              " 'CAP_PROP_XI_SENSOR_FEATURE_SELECTOR',\n",
              " 'CAP_PROP_XI_SENSOR_FEATURE_VALUE',\n",
              " 'CAP_PROP_XI_SENSOR_MODE',\n",
              " 'CAP_PROP_XI_SENSOR_OUTPUT_CHANNEL_COUNT',\n",
              " 'CAP_PROP_XI_SENSOR_TAPS',\n",
              " 'CAP_PROP_XI_SHARPNESS',\n",
              " 'CAP_PROP_XI_SHUTTER_TYPE',\n",
              " 'CAP_PROP_XI_TARGET_TEMP',\n",
              " 'CAP_PROP_XI_TEST_PATTERN',\n",
              " 'CAP_PROP_XI_TEST_PATTERN_GENERATOR_SELECTOR',\n",
              " 'CAP_PROP_XI_TIMEOUT',\n",
              " 'CAP_PROP_XI_TRANSPORT_PIXEL_FORMAT',\n",
              " 'CAP_PROP_XI_TRG_DELAY',\n",
              " 'CAP_PROP_XI_TRG_SELECTOR',\n",
              " 'CAP_PROP_XI_TRG_SOFTWARE',\n",
              " 'CAP_PROP_XI_TRG_SOURCE',\n",
              " 'CAP_PROP_XI_TS_RST_MODE',\n",
              " 'CAP_PROP_XI_TS_RST_SOURCE',\n",
              " 'CAP_PROP_XI_USED_FFS_SIZE',\n",
              " 'CAP_PROP_XI_WB_KB',\n",
              " 'CAP_PROP_XI_WB_KG',\n",
              " 'CAP_PROP_XI_WB_KR',\n",
              " 'CAP_PROP_XI_WIDTH',\n",
              " 'CAP_PROP_ZOOM',\n",
              " 'CAP_PVAPI',\n",
              " 'CAP_PVAPI_DECIMATION_2OUTOF16',\n",
              " 'CAP_PVAPI_DECIMATION_2OUTOF4',\n",
              " 'CAP_PVAPI_DECIMATION_2OUTOF8',\n",
              " 'CAP_PVAPI_DECIMATION_OFF',\n",
              " 'CAP_PVAPI_FSTRIGMODE_FIXEDRATE',\n",
              " 'CAP_PVAPI_FSTRIGMODE_FREERUN',\n",
              " 'CAP_PVAPI_FSTRIGMODE_SOFTWARE',\n",
              " 'CAP_PVAPI_FSTRIGMODE_SYNCIN1',\n",
              " 'CAP_PVAPI_FSTRIGMODE_SYNCIN2',\n",
              " 'CAP_PVAPI_PIXELFORMAT_BAYER16',\n",
              " 'CAP_PVAPI_PIXELFORMAT_BAYER8',\n",
              " 'CAP_PVAPI_PIXELFORMAT_BGR24',\n",
              " 'CAP_PVAPI_PIXELFORMAT_BGRA32',\n",
              " 'CAP_PVAPI_PIXELFORMAT_MONO16',\n",
              " 'CAP_PVAPI_PIXELFORMAT_MONO8',\n",
              " 'CAP_PVAPI_PIXELFORMAT_RGB24',\n",
              " 'CAP_PVAPI_PIXELFORMAT_RGBA32',\n",
              " 'CAP_QT',\n",
              " 'CAP_REALSENSE',\n",
              " 'CAP_UEYE',\n",
              " 'CAP_UNICAP',\n",
              " 'CAP_V4L',\n",
              " 'CAP_V4L2',\n",
              " 'CAP_VFW',\n",
              " 'CAP_WINRT',\n",
              " 'CAP_XIAPI',\n",
              " 'CAP_XINE',\n",
              " 'CASCADE_DO_CANNY_PRUNING',\n",
              " 'CASCADE_DO_ROUGH_SEARCH',\n",
              " 'CASCADE_FIND_BIGGEST_OBJECT',\n",
              " 'CASCADE_SCALE_IMAGE',\n",
              " 'CCL_BBDT',\n",
              " 'CCL_BOLELLI',\n",
              " 'CCL_DEFAULT',\n",
              " 'CCL_GRANA',\n",
              " 'CCL_SAUF',\n",
              " 'CCL_SPAGHETTI',\n",
              " 'CCL_WU',\n",
              " 'CC_STAT_AREA',\n",
              " 'CC_STAT_HEIGHT',\n",
              " 'CC_STAT_LEFT',\n",
              " 'CC_STAT_MAX',\n",
              " 'CC_STAT_TOP',\n",
              " 'CC_STAT_WIDTH',\n",
              " 'CHAIN_APPROX_NONE',\n",
              " 'CHAIN_APPROX_SIMPLE',\n",
              " 'CHAIN_APPROX_TC89_KCOS',\n",
              " 'CHAIN_APPROX_TC89_L1',\n",
              " 'CIRCLES_GRID_FINDER_PARAMETERS_ASYMMETRIC_GRID',\n",
              " 'CIRCLES_GRID_FINDER_PARAMETERS_SYMMETRIC_GRID',\n",
              " 'CLAHE',\n",
              " 'CMP_EQ',\n",
              " 'CMP_GE',\n",
              " 'CMP_GT',\n",
              " 'CMP_LE',\n",
              " 'CMP_LT',\n",
              " 'CMP_NE',\n",
              " 'COLORMAP_AUTUMN',\n",
              " 'COLORMAP_BONE',\n",
              " 'COLORMAP_CIVIDIS',\n",
              " 'COLORMAP_COOL',\n",
              " 'COLORMAP_DEEPGREEN',\n",
              " 'COLORMAP_HOT',\n",
              " 'COLORMAP_HSV',\n",
              " 'COLORMAP_INFERNO',\n",
              " 'COLORMAP_JET',\n",
              " 'COLORMAP_MAGMA',\n",
              " 'COLORMAP_OCEAN',\n",
              " 'COLORMAP_PARULA',\n",
              " 'COLORMAP_PINK',\n",
              " 'COLORMAP_PLASMA',\n",
              " 'COLORMAP_RAINBOW',\n",
              " 'COLORMAP_SPRING',\n",
              " 'COLORMAP_SUMMER',\n",
              " 'COLORMAP_TURBO',\n",
              " 'COLORMAP_TWILIGHT',\n",
              " 'COLORMAP_TWILIGHT_SHIFTED',\n",
              " 'COLORMAP_VIRIDIS',\n",
              " 'COLORMAP_WINTER',\n",
              " 'COLOR_BAYER_BG2BGR',\n",
              " 'COLOR_BAYER_BG2BGRA',\n",
              " 'COLOR_BAYER_BG2BGR_EA',\n",
              " 'COLOR_BAYER_BG2BGR_VNG',\n",
              " 'COLOR_BAYER_BG2GRAY',\n",
              " 'COLOR_BAYER_BG2RGB',\n",
              " 'COLOR_BAYER_BG2RGBA',\n",
              " 'COLOR_BAYER_BG2RGB_EA',\n",
              " 'COLOR_BAYER_BG2RGB_VNG',\n",
              " 'COLOR_BAYER_BGGR2BGR',\n",
              " 'COLOR_BAYER_BGGR2BGRA',\n",
              " 'COLOR_BAYER_BGGR2BGR_EA',\n",
              " 'COLOR_BAYER_BGGR2BGR_VNG',\n",
              " 'COLOR_BAYER_BGGR2GRAY',\n",
              " 'COLOR_BAYER_BGGR2RGB',\n",
              " 'COLOR_BAYER_BGGR2RGBA',\n",
              " 'COLOR_BAYER_BGGR2RGB_EA',\n",
              " 'COLOR_BAYER_BGGR2RGB_VNG',\n",
              " 'COLOR_BAYER_GB2BGR',\n",
              " 'COLOR_BAYER_GB2BGRA',\n",
              " 'COLOR_BAYER_GB2BGR_EA',\n",
              " 'COLOR_BAYER_GB2BGR_VNG',\n",
              " 'COLOR_BAYER_GB2GRAY',\n",
              " 'COLOR_BAYER_GB2RGB',\n",
              " 'COLOR_BAYER_GB2RGBA',\n",
              " 'COLOR_BAYER_GB2RGB_EA',\n",
              " 'COLOR_BAYER_GB2RGB_VNG',\n",
              " 'COLOR_BAYER_GBRG2BGR',\n",
              " 'COLOR_BAYER_GBRG2BGRA',\n",
              " 'COLOR_BAYER_GBRG2BGR_EA',\n",
              " 'COLOR_BAYER_GBRG2BGR_VNG',\n",
              " 'COLOR_BAYER_GBRG2GRAY',\n",
              " 'COLOR_BAYER_GBRG2RGB',\n",
              " 'COLOR_BAYER_GBRG2RGBA',\n",
              " 'COLOR_BAYER_GBRG2RGB_EA',\n",
              " 'COLOR_BAYER_GBRG2RGB_VNG',\n",
              " 'COLOR_BAYER_GR2BGR',\n",
              " 'COLOR_BAYER_GR2BGRA',\n",
              " 'COLOR_BAYER_GR2BGR_EA',\n",
              " 'COLOR_BAYER_GR2BGR_VNG',\n",
              " 'COLOR_BAYER_GR2GRAY',\n",
              " 'COLOR_BAYER_GR2RGB',\n",
              " 'COLOR_BAYER_GR2RGBA',\n",
              " 'COLOR_BAYER_GR2RGB_EA',\n",
              " 'COLOR_BAYER_GR2RGB_VNG',\n",
              " 'COLOR_BAYER_GRBG2BGR',\n",
              " 'COLOR_BAYER_GRBG2BGRA',\n",
              " 'COLOR_BAYER_GRBG2BGR_EA',\n",
              " 'COLOR_BAYER_GRBG2BGR_VNG',\n",
              " 'COLOR_BAYER_GRBG2GRAY',\n",
              " 'COLOR_BAYER_GRBG2RGB',\n",
              " 'COLOR_BAYER_GRBG2RGBA',\n",
              " 'COLOR_BAYER_GRBG2RGB_EA',\n",
              " 'COLOR_BAYER_GRBG2RGB_VNG',\n",
              " 'COLOR_BAYER_RG2BGR',\n",
              " 'COLOR_BAYER_RG2BGRA',\n",
              " 'COLOR_BAYER_RG2BGR_EA',\n",
              " 'COLOR_BAYER_RG2BGR_VNG',\n",
              " 'COLOR_BAYER_RG2GRAY',\n",
              " 'COLOR_BAYER_RG2RGB',\n",
              " 'COLOR_BAYER_RG2RGBA',\n",
              " 'COLOR_BAYER_RG2RGB_EA',\n",
              " 'COLOR_BAYER_RG2RGB_VNG',\n",
              " 'COLOR_BAYER_RGGB2BGR',\n",
              " 'COLOR_BAYER_RGGB2BGRA',\n",
              " 'COLOR_BAYER_RGGB2BGR_EA',\n",
              " 'COLOR_BAYER_RGGB2BGR_VNG',\n",
              " 'COLOR_BAYER_RGGB2GRAY',\n",
              " 'COLOR_BAYER_RGGB2RGB',\n",
              " 'COLOR_BAYER_RGGB2RGBA',\n",
              " 'COLOR_BAYER_RGGB2RGB_EA',\n",
              " 'COLOR_BAYER_RGGB2RGB_VNG',\n",
              " 'COLOR_BGR2BGR555',\n",
              " 'COLOR_BGR2BGR565',\n",
              " 'COLOR_BGR2BGRA',\n",
              " 'COLOR_BGR2GRAY',\n",
              " 'COLOR_BGR2HLS',\n",
              " 'COLOR_BGR2HLS_FULL',\n",
              " 'COLOR_BGR2HSV',\n",
              " 'COLOR_BGR2HSV_FULL',\n",
              " 'COLOR_BGR2LAB',\n",
              " 'COLOR_BGR2LUV',\n",
              " 'COLOR_BGR2Lab',\n",
              " 'COLOR_BGR2Luv',\n",
              " 'COLOR_BGR2RGB',\n",
              " 'COLOR_BGR2RGBA',\n",
              " 'COLOR_BGR2XYZ',\n",
              " 'COLOR_BGR2YCR_CB',\n",
              " 'COLOR_BGR2YCrCb',\n",
              " 'COLOR_BGR2YUV',\n",
              " 'COLOR_BGR2YUV_I420',\n",
              " 'COLOR_BGR2YUV_IYUV',\n",
              " 'COLOR_BGR2YUV_YV12',\n",
              " 'COLOR_BGR5552BGR',\n",
              " 'COLOR_BGR5552BGRA',\n",
              " 'COLOR_BGR5552GRAY',\n",
              " 'COLOR_BGR5552RGB',\n",
              " 'COLOR_BGR5552RGBA',\n",
              " 'COLOR_BGR5652BGR',\n",
              " 'COLOR_BGR5652BGRA',\n",
              " 'COLOR_BGR5652GRAY',\n",
              " 'COLOR_BGR5652RGB',\n",
              " 'COLOR_BGR5652RGBA',\n",
              " 'COLOR_BGRA2BGR',\n",
              " 'COLOR_BGRA2BGR555',\n",
              " 'COLOR_BGRA2BGR565',\n",
              " 'COLOR_BGRA2GRAY',\n",
              " 'COLOR_BGRA2RGB',\n",
              " 'COLOR_BGRA2RGBA',\n",
              " 'COLOR_BGRA2YUV_I420',\n",
              " 'COLOR_BGRA2YUV_IYUV',\n",
              " 'COLOR_BGRA2YUV_YV12',\n",
              " 'COLOR_BayerBG2BGR',\n",
              " 'COLOR_BayerBG2BGRA',\n",
              " 'COLOR_BayerBG2BGR_EA',\n",
              " 'COLOR_BayerBG2BGR_VNG',\n",
              " 'COLOR_BayerBG2GRAY',\n",
              " 'COLOR_BayerBG2RGB',\n",
              " 'COLOR_BayerBG2RGBA',\n",
              " 'COLOR_BayerBG2RGB_EA',\n",
              " 'COLOR_BayerBG2RGB_VNG',\n",
              " 'COLOR_BayerBGGR2BGR',\n",
              " 'COLOR_BayerBGGR2BGRA',\n",
              " 'COLOR_BayerBGGR2BGR_EA',\n",
              " 'COLOR_BayerBGGR2BGR_VNG',\n",
              " 'COLOR_BayerBGGR2GRAY',\n",
              " 'COLOR_BayerBGGR2RGB',\n",
              " 'COLOR_BayerBGGR2RGBA',\n",
              " 'COLOR_BayerBGGR2RGB_EA',\n",
              " 'COLOR_BayerBGGR2RGB_VNG',\n",
              " 'COLOR_BayerGB2BGR',\n",
              " 'COLOR_BayerGB2BGRA',\n",
              " 'COLOR_BayerGB2BGR_EA',\n",
              " 'COLOR_BayerGB2BGR_VNG',\n",
              " 'COLOR_BayerGB2GRAY',\n",
              " 'COLOR_BayerGB2RGB',\n",
              " 'COLOR_BayerGB2RGBA',\n",
              " 'COLOR_BayerGB2RGB_EA',\n",
              " 'COLOR_BayerGB2RGB_VNG',\n",
              " 'COLOR_BayerGBRG2BGR',\n",
              " 'COLOR_BayerGBRG2BGRA',\n",
              " 'COLOR_BayerGBRG2BGR_EA',\n",
              " 'COLOR_BayerGBRG2BGR_VNG',\n",
              " 'COLOR_BayerGBRG2GRAY',\n",
              " 'COLOR_BayerGBRG2RGB',\n",
              " 'COLOR_BayerGBRG2RGBA',\n",
              " 'COLOR_BayerGBRG2RGB_EA',\n",
              " 'COLOR_BayerGBRG2RGB_VNG',\n",
              " 'COLOR_BayerGR2BGR',\n",
              " 'COLOR_BayerGR2BGRA',\n",
              " 'COLOR_BayerGR2BGR_EA',\n",
              " 'COLOR_BayerGR2BGR_VNG',\n",
              " 'COLOR_BayerGR2GRAY',\n",
              " 'COLOR_BayerGR2RGB',\n",
              " 'COLOR_BayerGR2RGBA',\n",
              " 'COLOR_BayerGR2RGB_EA',\n",
              " 'COLOR_BayerGR2RGB_VNG',\n",
              " 'COLOR_BayerGRBG2BGR',\n",
              " 'COLOR_BayerGRBG2BGRA',\n",
              " 'COLOR_BayerGRBG2BGR_EA',\n",
              " 'COLOR_BayerGRBG2BGR_VNG',\n",
              " 'COLOR_BayerGRBG2GRAY',\n",
              " 'COLOR_BayerGRBG2RGB',\n",
              " 'COLOR_BayerGRBG2RGBA',\n",
              " 'COLOR_BayerGRBG2RGB_EA',\n",
              " 'COLOR_BayerGRBG2RGB_VNG',\n",
              " 'COLOR_BayerRG2BGR',\n",
              " 'COLOR_BayerRG2BGRA',\n",
              " 'COLOR_BayerRG2BGR_EA',\n",
              " 'COLOR_BayerRG2BGR_VNG',\n",
              " 'COLOR_BayerRG2GRAY',\n",
              " 'COLOR_BayerRG2RGB',\n",
              " 'COLOR_BayerRG2RGBA',\n",
              " 'COLOR_BayerRG2RGB_EA',\n",
              " 'COLOR_BayerRG2RGB_VNG',\n",
              " 'COLOR_BayerRGGB2BGR',\n",
              " 'COLOR_BayerRGGB2BGRA',\n",
              " 'COLOR_BayerRGGB2BGR_EA',\n",
              " 'COLOR_BayerRGGB2BGR_VNG',\n",
              " 'COLOR_BayerRGGB2GRAY',\n",
              " 'COLOR_BayerRGGB2RGB',\n",
              " 'COLOR_BayerRGGB2RGBA',\n",
              " 'COLOR_BayerRGGB2RGB_EA',\n",
              " 'COLOR_BayerRGGB2RGB_VNG',\n",
              " 'COLOR_COLORCVT_MAX',\n",
              " 'COLOR_GRAY2BGR',\n",
              " 'COLOR_GRAY2BGR555',\n",
              " 'COLOR_GRAY2BGR565',\n",
              " 'COLOR_GRAY2BGRA',\n",
              " 'COLOR_GRAY2RGB',\n",
              " 'COLOR_GRAY2RGBA',\n",
              " 'COLOR_HLS2BGR',\n",
              " 'COLOR_HLS2BGR_FULL',\n",
              " 'COLOR_HLS2RGB',\n",
              " 'COLOR_HLS2RGB_FULL',\n",
              " 'COLOR_HSV2BGR',\n",
              " 'COLOR_HSV2BGR_FULL',\n",
              " 'COLOR_HSV2RGB',\n",
              " 'COLOR_HSV2RGB_FULL',\n",
              " 'COLOR_LAB2BGR',\n",
              " 'COLOR_LAB2LBGR',\n",
              " 'COLOR_LAB2LRGB',\n",
              " 'COLOR_LAB2RGB',\n",
              " 'COLOR_LBGR2LAB',\n",
              " 'COLOR_LBGR2LUV',\n",
              " 'COLOR_LBGR2Lab',\n",
              " 'COLOR_LBGR2Luv',\n",
              " 'COLOR_LRGB2LAB',\n",
              " 'COLOR_LRGB2LUV',\n",
              " 'COLOR_LRGB2Lab',\n",
              " 'COLOR_LRGB2Luv',\n",
              " 'COLOR_LUV2BGR',\n",
              " 'COLOR_LUV2LBGR',\n",
              " 'COLOR_LUV2LRGB',\n",
              " 'COLOR_LUV2RGB',\n",
              " 'COLOR_Lab2BGR',\n",
              " 'COLOR_Lab2LBGR',\n",
              " 'COLOR_Lab2LRGB',\n",
              " 'COLOR_Lab2RGB',\n",
              " 'COLOR_Luv2BGR',\n",
              " 'COLOR_Luv2LBGR',\n",
              " 'COLOR_Luv2LRGB',\n",
              " 'COLOR_Luv2RGB',\n",
              " 'COLOR_M_RGBA2RGBA',\n",
              " 'COLOR_RGB2BGR',\n",
              " 'COLOR_RGB2BGR555',\n",
              " 'COLOR_RGB2BGR565',\n",
              " 'COLOR_RGB2BGRA',\n",
              " 'COLOR_RGB2GRAY',\n",
              " 'COLOR_RGB2HLS',\n",
              " 'COLOR_RGB2HLS_FULL',\n",
              " 'COLOR_RGB2HSV',\n",
              " 'COLOR_RGB2HSV_FULL',\n",
              " 'COLOR_RGB2LAB',\n",
              " 'COLOR_RGB2LUV',\n",
              " 'COLOR_RGB2Lab',\n",
              " 'COLOR_RGB2Luv',\n",
              " 'COLOR_RGB2RGBA',\n",
              " 'COLOR_RGB2XYZ',\n",
              " 'COLOR_RGB2YCR_CB',\n",
              " 'COLOR_RGB2YCrCb',\n",
              " 'COLOR_RGB2YUV',\n",
              " 'COLOR_RGB2YUV_I420',\n",
              " 'COLOR_RGB2YUV_IYUV',\n",
              " 'COLOR_RGB2YUV_YV12',\n",
              " 'COLOR_RGBA2BGR',\n",
              " 'COLOR_RGBA2BGR555',\n",
              " 'COLOR_RGBA2BGR565',\n",
              " 'COLOR_RGBA2BGRA',\n",
              " 'COLOR_RGBA2GRAY',\n",
              " 'COLOR_RGBA2M_RGBA',\n",
              " 'COLOR_RGBA2RGB',\n",
              " 'COLOR_RGBA2YUV_I420',\n",
              " 'COLOR_RGBA2YUV_IYUV',\n",
              " 'COLOR_RGBA2YUV_YV12',\n",
              " 'COLOR_RGBA2mRGBA',\n",
              " 'COLOR_XYZ2BGR',\n",
              " 'COLOR_XYZ2RGB',\n",
              " 'COLOR_YCR_CB2BGR',\n",
              " 'COLOR_YCR_CB2RGB',\n",
              " 'COLOR_YCrCb2BGR',\n",
              " 'COLOR_YCrCb2RGB',\n",
              " 'COLOR_YUV2BGR',\n",
              " 'COLOR_YUV2BGRA_I420',\n",
              " 'COLOR_YUV2BGRA_IYUV',\n",
              " 'COLOR_YUV2BGRA_NV12',\n",
              " 'COLOR_YUV2BGRA_NV21',\n",
              " 'COLOR_YUV2BGRA_UYNV',\n",
              " 'COLOR_YUV2BGRA_UYVY',\n",
              " 'COLOR_YUV2BGRA_Y422',\n",
              " 'COLOR_YUV2BGRA_YUNV',\n",
              " 'COLOR_YUV2BGRA_YUY2',\n",
              " 'COLOR_YUV2BGRA_YUYV',\n",
              " 'COLOR_YUV2BGRA_YV12',\n",
              " 'COLOR_YUV2BGRA_YVYU',\n",
              " 'COLOR_YUV2BGR_I420',\n",
              " 'COLOR_YUV2BGR_IYUV',\n",
              " 'COLOR_YUV2BGR_NV12',\n",
              " 'COLOR_YUV2BGR_NV21',\n",
              " 'COLOR_YUV2BGR_UYNV',\n",
              " 'COLOR_YUV2BGR_UYVY',\n",
              " 'COLOR_YUV2BGR_Y422',\n",
              " 'COLOR_YUV2BGR_YUNV',\n",
              " 'COLOR_YUV2BGR_YUY2',\n",
              " 'COLOR_YUV2BGR_YUYV',\n",
              " 'COLOR_YUV2BGR_YV12',\n",
              " 'COLOR_YUV2BGR_YVYU',\n",
              " 'COLOR_YUV2GRAY_420',\n",
              " 'COLOR_YUV2GRAY_I420',\n",
              " 'COLOR_YUV2GRAY_IYUV',\n",
              " 'COLOR_YUV2GRAY_NV12',\n",
              " 'COLOR_YUV2GRAY_NV21',\n",
              " 'COLOR_YUV2GRAY_UYNV',\n",
              " 'COLOR_YUV2GRAY_UYVY',\n",
              " 'COLOR_YUV2GRAY_Y422',\n",
              " 'COLOR_YUV2GRAY_YUNV',\n",
              " 'COLOR_YUV2GRAY_YUY2',\n",
              " 'COLOR_YUV2GRAY_YUYV',\n",
              " 'COLOR_YUV2GRAY_YV12',\n",
              " 'COLOR_YUV2GRAY_YVYU',\n",
              " 'COLOR_YUV2RGB',\n",
              " 'COLOR_YUV2RGBA_I420',\n",
              " 'COLOR_YUV2RGBA_IYUV',\n",
              " 'COLOR_YUV2RGBA_NV12',\n",
              " 'COLOR_YUV2RGBA_NV21',\n",
              " 'COLOR_YUV2RGBA_UYNV',\n",
              " 'COLOR_YUV2RGBA_UYVY',\n",
              " 'COLOR_YUV2RGBA_Y422',\n",
              " 'COLOR_YUV2RGBA_YUNV',\n",
              " 'COLOR_YUV2RGBA_YUY2',\n",
              " 'COLOR_YUV2RGBA_YUYV',\n",
              " 'COLOR_YUV2RGBA_YV12',\n",
              " 'COLOR_YUV2RGBA_YVYU',\n",
              " 'COLOR_YUV2RGB_I420',\n",
              " 'COLOR_YUV2RGB_IYUV',\n",
              " 'COLOR_YUV2RGB_NV12',\n",
              " 'COLOR_YUV2RGB_NV21',\n",
              " 'COLOR_YUV2RGB_UYNV',\n",
              " 'COLOR_YUV2RGB_UYVY',\n",
              " 'COLOR_YUV2RGB_Y422',\n",
              " 'COLOR_YUV2RGB_YUNV',\n",
              " 'COLOR_YUV2RGB_YUY2',\n",
              " 'COLOR_YUV2RGB_YUYV',\n",
              " 'COLOR_YUV2RGB_YV12',\n",
              " 'COLOR_YUV2RGB_YVYU',\n",
              " 'COLOR_YUV420P2BGR',\n",
              " 'COLOR_YUV420P2BGRA',\n",
              " 'COLOR_YUV420P2GRAY',\n",
              " 'COLOR_YUV420P2RGB',\n",
              " 'COLOR_YUV420P2RGBA',\n",
              " 'COLOR_YUV420SP2BGR',\n",
              " 'COLOR_YUV420SP2BGRA',\n",
              " 'COLOR_YUV420SP2GRAY',\n",
              " 'COLOR_YUV420SP2RGB',\n",
              " 'COLOR_YUV420SP2RGBA',\n",
              " 'COLOR_YUV420p2BGR',\n",
              " 'COLOR_YUV420p2BGRA',\n",
              " 'COLOR_YUV420p2GRAY',\n",
              " 'COLOR_YUV420p2RGB',\n",
              " 'COLOR_YUV420p2RGBA',\n",
              " 'COLOR_YUV420sp2BGR',\n",
              " 'COLOR_YUV420sp2BGRA',\n",
              " 'COLOR_YUV420sp2GRAY',\n",
              " 'COLOR_YUV420sp2RGB',\n",
              " 'COLOR_YUV420sp2RGBA',\n",
              " 'COLOR_mRGBA2RGBA',\n",
              " 'CONTOURS_MATCH_I1',\n",
              " 'CONTOURS_MATCH_I2',\n",
              " 'CONTOURS_MATCH_I3',\n",
              " 'COVAR_COLS',\n",
              " 'COVAR_NORMAL',\n",
              " 'COVAR_ROWS',\n",
              " 'COVAR_SCALE',\n",
              " 'COVAR_SCRAMBLED',\n",
              " 'COVAR_USE_AVG',\n",
              " 'CV_16S',\n",
              " 'CV_16SC1',\n",
              " 'CV_16SC2',\n",
              " 'CV_16SC3',\n",
              " 'CV_16SC4',\n",
              " 'CV_16U',\n",
              " 'CV_16UC1',\n",
              " 'CV_16UC2',\n",
              " 'CV_16UC3',\n",
              " 'CV_16UC4',\n",
              " 'CV_32F',\n",
              " 'CV_32FC1',\n",
              " 'CV_32FC2',\n",
              " 'CV_32FC3',\n",
              " 'CV_32FC4',\n",
              " 'CV_32S',\n",
              " 'CV_32SC1',\n",
              " 'CV_32SC2',\n",
              " 'CV_32SC3',\n",
              " 'CV_32SC4',\n",
              " 'CV_64F',\n",
              " 'CV_64FC1',\n",
              " 'CV_64FC2',\n",
              " 'CV_64FC3',\n",
              " 'CV_64FC4',\n",
              " 'CV_8S',\n",
              " 'CV_8SC1',\n",
              " 'CV_8SC2',\n",
              " 'CV_8SC3',\n",
              " 'CV_8SC4',\n",
              " 'CV_8U',\n",
              " 'CV_8UC1',\n",
              " 'CV_8UC2',\n",
              " 'CV_8UC3',\n",
              " 'CV_8UC4',\n",
              " 'CalibrateCRF',\n",
              " 'CalibrateDebevec',\n",
              " 'CalibrateRobertson',\n",
              " 'CamShift',\n",
              " 'Canny',\n",
              " 'CascadeClassifier',\n",
              " 'CascadeClassifier_convert',\n",
              " 'ChiHistogramCostExtractor',\n",
              " 'CirclesGridFinderParameters',\n",
              " 'CirclesGridFinderParameters_ASYMMETRIC_GRID',\n",
              " 'CirclesGridFinderParameters_SYMMETRIC_GRID',\n",
              " 'DCT_INVERSE',\n",
              " 'DCT_ROWS',\n",
              " 'DECOMP_CHOLESKY',\n",
              " 'DECOMP_EIG',\n",
              " 'DECOMP_LU',\n",
              " 'DECOMP_NORMAL',\n",
              " 'DECOMP_QR',\n",
              " 'DECOMP_SVD',\n",
              " 'DESCRIPTOR_MATCHER_BRUTEFORCE',\n",
              " 'DESCRIPTOR_MATCHER_BRUTEFORCE_HAMMING',\n",
              " 'DESCRIPTOR_MATCHER_BRUTEFORCE_HAMMINGLUT',\n",
              " 'DESCRIPTOR_MATCHER_BRUTEFORCE_L1',\n",
              " 'DESCRIPTOR_MATCHER_BRUTEFORCE_SL2',\n",
              " 'DESCRIPTOR_MATCHER_FLANNBASED',\n",
              " 'DFT_COMPLEX_INPUT',\n",
              " 'DFT_COMPLEX_OUTPUT',\n",
              " 'DFT_INVERSE',\n",
              " 'DFT_REAL_OUTPUT',\n",
              " 'DFT_ROWS',\n",
              " 'DFT_SCALE',\n",
              " 'DISOPTICAL_FLOW_PRESET_FAST',\n",
              " 'DISOPTICAL_FLOW_PRESET_MEDIUM',\n",
              " 'DISOPTICAL_FLOW_PRESET_ULTRAFAST',\n",
              " 'DISOpticalFlow',\n",
              " 'DISOpticalFlow_PRESET_FAST',\n",
              " 'DISOpticalFlow_PRESET_MEDIUM',\n",
              " 'DISOpticalFlow_PRESET_ULTRAFAST',\n",
              " 'DISOpticalFlow_create',\n",
              " 'DIST_C',\n",
              " 'DIST_FAIR',\n",
              " 'DIST_HUBER',\n",
              " 'DIST_L1',\n",
              " 'DIST_L12',\n",
              " 'DIST_L2',\n",
              " 'DIST_LABEL_CCOMP',\n",
              " 'DIST_LABEL_PIXEL',\n",
              " 'DIST_MASK_3',\n",
              " 'DIST_MASK_5',\n",
              " 'DIST_MASK_PRECISE',\n",
              " 'DIST_USER',\n",
              " 'DIST_WELSCH',\n",
              " 'DMatch',\n",
              " 'DRAW_MATCHES_FLAGS_DEFAULT',\n",
              " 'DRAW_MATCHES_FLAGS_DRAW_OVER_OUTIMG',\n",
              " 'DRAW_MATCHES_FLAGS_DRAW_RICH_KEYPOINTS',\n",
              " 'DRAW_MATCHES_FLAGS_NOT_DRAW_SINGLE_POINTS',\n",
              " 'DenseOpticalFlow',\n",
              " 'DescriptorMatcher',\n",
              " 'DescriptorMatcher_BRUTEFORCE',\n",
              " 'DescriptorMatcher_BRUTEFORCE_HAMMING',\n",
              " 'DescriptorMatcher_BRUTEFORCE_HAMMINGLUT',\n",
              " 'DescriptorMatcher_BRUTEFORCE_L1',\n",
              " 'DescriptorMatcher_BRUTEFORCE_SL2',\n",
              " 'DescriptorMatcher_FLANNBASED',\n",
              " 'DescriptorMatcher_create',\n",
              " 'DrawMatchesFlags_DEFAULT',\n",
              " 'DrawMatchesFlags_DRAW_OVER_OUTIMG',\n",
              " 'DrawMatchesFlags_DRAW_RICH_KEYPOINTS',\n",
              " 'DrawMatchesFlags_NOT_DRAW_SINGLE_POINTS',\n",
              " 'EMD',\n",
              " 'EMDHistogramCostExtractor',\n",
              " 'EMDL1HistogramCostExtractor',\n",
              " 'EVENT_FLAG_ALTKEY',\n",
              " 'EVENT_FLAG_CTRLKEY',\n",
              " 'EVENT_FLAG_LBUTTON',\n",
              " 'EVENT_FLAG_MBUTTON',\n",
              " 'EVENT_FLAG_RBUTTON',\n",
              " 'EVENT_FLAG_SHIFTKEY',\n",
              " 'EVENT_LBUTTONDBLCLK',\n",
              " 'EVENT_LBUTTONDOWN',\n",
              " 'EVENT_LBUTTONUP',\n",
              " 'EVENT_MBUTTONDBLCLK',\n",
              " 'EVENT_MBUTTONDOWN',\n",
              " 'EVENT_MBUTTONUP',\n",
              " 'EVENT_MOUSEHWHEEL',\n",
              " 'EVENT_MOUSEMOVE',\n",
              " 'EVENT_MOUSEWHEEL',\n",
              " 'EVENT_RBUTTONDBLCLK',\n",
              " 'EVENT_RBUTTONDOWN',\n",
              " 'EVENT_RBUTTONUP',\n",
              " 'Error',\n",
              " 'FACE_RECOGNIZER_SF_FR_COSINE',\n",
              " 'FACE_RECOGNIZER_SF_FR_NORM_L2',\n",
              " 'FAST_FEATURE_DETECTOR_FAST_N',\n",
              " 'FAST_FEATURE_DETECTOR_NONMAX_SUPPRESSION',\n",
              " 'FAST_FEATURE_DETECTOR_THRESHOLD',\n",
              " 'FAST_FEATURE_DETECTOR_TYPE_5_8',\n",
              " 'FAST_FEATURE_DETECTOR_TYPE_7_12',\n",
              " 'FAST_FEATURE_DETECTOR_TYPE_9_16',\n",
              " 'FILE_NODE_EMPTY',\n",
              " 'FILE_NODE_FLOAT',\n",
              " ...]"
            ]
          },
          "metadata": {},
          "execution_count": 21
        }
      ]
    },
    {
      "cell_type": "code",
      "source": [
        "#Concept of dir()\n",
        "import cv2\n",
        "dir(cv2)\n",
        "\n",
        "import dask; bokeh   "
      ],
      "metadata": {
        "id": "gFC94Z7Eg8B2"
      },
      "execution_count": null,
      "outputs": []
    },
    {
      "cell_type": "code",
      "source": [
        "from google.colab import files\n",
        "\n",
        "iris=files.upload()"
      ],
      "metadata": {
        "colab": {
          "base_uri": "https://localhost:8080/",
          "height": 74
        },
        "id": "LMe5-YgHr-v7",
        "outputId": "5f1a8dd3-bb44-4bcb-d5be-49256e2dde97"
      },
      "execution_count": null,
      "outputs": [
        {
          "output_type": "display_data",
          "data": {
            "text/plain": [
              "<IPython.core.display.HTML object>"
            ],
            "text/html": [
              "\n",
              "     <input type=\"file\" id=\"files-87770931-3cbd-4ff5-9df2-aaed0454498e\" name=\"files[]\" multiple disabled\n",
              "        style=\"border:none\" />\n",
              "     <output id=\"result-87770931-3cbd-4ff5-9df2-aaed0454498e\">\n",
              "      Upload widget is only available when the cell has been executed in the\n",
              "      current browser session. Please rerun this cell to enable.\n",
              "      </output>\n",
              "      <script>// Copyright 2017 Google LLC\n",
              "//\n",
              "// Licensed under the Apache License, Version 2.0 (the \"License\");\n",
              "// you may not use this file except in compliance with the License.\n",
              "// You may obtain a copy of the License at\n",
              "//\n",
              "//      http://www.apache.org/licenses/LICENSE-2.0\n",
              "//\n",
              "// Unless required by applicable law or agreed to in writing, software\n",
              "// distributed under the License is distributed on an \"AS IS\" BASIS,\n",
              "// WITHOUT WARRANTIES OR CONDITIONS OF ANY KIND, either express or implied.\n",
              "// See the License for the specific language governing permissions and\n",
              "// limitations under the License.\n",
              "\n",
              "/**\n",
              " * @fileoverview Helpers for google.colab Python module.\n",
              " */\n",
              "(function(scope) {\n",
              "function span(text, styleAttributes = {}) {\n",
              "  const element = document.createElement('span');\n",
              "  element.textContent = text;\n",
              "  for (const key of Object.keys(styleAttributes)) {\n",
              "    element.style[key] = styleAttributes[key];\n",
              "  }\n",
              "  return element;\n",
              "}\n",
              "\n",
              "// Max number of bytes which will be uploaded at a time.\n",
              "const MAX_PAYLOAD_SIZE = 100 * 1024;\n",
              "\n",
              "function _uploadFiles(inputId, outputId) {\n",
              "  const steps = uploadFilesStep(inputId, outputId);\n",
              "  const outputElement = document.getElementById(outputId);\n",
              "  // Cache steps on the outputElement to make it available for the next call\n",
              "  // to uploadFilesContinue from Python.\n",
              "  outputElement.steps = steps;\n",
              "\n",
              "  return _uploadFilesContinue(outputId);\n",
              "}\n",
              "\n",
              "// This is roughly an async generator (not supported in the browser yet),\n",
              "// where there are multiple asynchronous steps and the Python side is going\n",
              "// to poll for completion of each step.\n",
              "// This uses a Promise to block the python side on completion of each step,\n",
              "// then passes the result of the previous step as the input to the next step.\n",
              "function _uploadFilesContinue(outputId) {\n",
              "  const outputElement = document.getElementById(outputId);\n",
              "  const steps = outputElement.steps;\n",
              "\n",
              "  const next = steps.next(outputElement.lastPromiseValue);\n",
              "  return Promise.resolve(next.value.promise).then((value) => {\n",
              "    // Cache the last promise value to make it available to the next\n",
              "    // step of the generator.\n",
              "    outputElement.lastPromiseValue = value;\n",
              "    return next.value.response;\n",
              "  });\n",
              "}\n",
              "\n",
              "/**\n",
              " * Generator function which is called between each async step of the upload\n",
              " * process.\n",
              " * @param {string} inputId Element ID of the input file picker element.\n",
              " * @param {string} outputId Element ID of the output display.\n",
              " * @return {!Iterable<!Object>} Iterable of next steps.\n",
              " */\n",
              "function* uploadFilesStep(inputId, outputId) {\n",
              "  const inputElement = document.getElementById(inputId);\n",
              "  inputElement.disabled = false;\n",
              "\n",
              "  const outputElement = document.getElementById(outputId);\n",
              "  outputElement.innerHTML = '';\n",
              "\n",
              "  const pickedPromise = new Promise((resolve) => {\n",
              "    inputElement.addEventListener('change', (e) => {\n",
              "      resolve(e.target.files);\n",
              "    });\n",
              "  });\n",
              "\n",
              "  const cancel = document.createElement('button');\n",
              "  inputElement.parentElement.appendChild(cancel);\n",
              "  cancel.textContent = 'Cancel upload';\n",
              "  const cancelPromise = new Promise((resolve) => {\n",
              "    cancel.onclick = () => {\n",
              "      resolve(null);\n",
              "    };\n",
              "  });\n",
              "\n",
              "  // Wait for the user to pick the files.\n",
              "  const files = yield {\n",
              "    promise: Promise.race([pickedPromise, cancelPromise]),\n",
              "    response: {\n",
              "      action: 'starting',\n",
              "    }\n",
              "  };\n",
              "\n",
              "  cancel.remove();\n",
              "\n",
              "  // Disable the input element since further picks are not allowed.\n",
              "  inputElement.disabled = true;\n",
              "\n",
              "  if (!files) {\n",
              "    return {\n",
              "      response: {\n",
              "        action: 'complete',\n",
              "      }\n",
              "    };\n",
              "  }\n",
              "\n",
              "  for (const file of files) {\n",
              "    const li = document.createElement('li');\n",
              "    li.append(span(file.name, {fontWeight: 'bold'}));\n",
              "    li.append(span(\n",
              "        `(${file.type || 'n/a'}) - ${file.size} bytes, ` +\n",
              "        `last modified: ${\n",
              "            file.lastModifiedDate ? file.lastModifiedDate.toLocaleDateString() :\n",
              "                                    'n/a'} - `));\n",
              "    const percent = span('0% done');\n",
              "    li.appendChild(percent);\n",
              "\n",
              "    outputElement.appendChild(li);\n",
              "\n",
              "    const fileDataPromise = new Promise((resolve) => {\n",
              "      const reader = new FileReader();\n",
              "      reader.onload = (e) => {\n",
              "        resolve(e.target.result);\n",
              "      };\n",
              "      reader.readAsArrayBuffer(file);\n",
              "    });\n",
              "    // Wait for the data to be ready.\n",
              "    let fileData = yield {\n",
              "      promise: fileDataPromise,\n",
              "      response: {\n",
              "        action: 'continue',\n",
              "      }\n",
              "    };\n",
              "\n",
              "    // Use a chunked sending to avoid message size limits. See b/62115660.\n",
              "    let position = 0;\n",
              "    do {\n",
              "      const length = Math.min(fileData.byteLength - position, MAX_PAYLOAD_SIZE);\n",
              "      const chunk = new Uint8Array(fileData, position, length);\n",
              "      position += length;\n",
              "\n",
              "      const base64 = btoa(String.fromCharCode.apply(null, chunk));\n",
              "      yield {\n",
              "        response: {\n",
              "          action: 'append',\n",
              "          file: file.name,\n",
              "          data: base64,\n",
              "        },\n",
              "      };\n",
              "\n",
              "      let percentDone = fileData.byteLength === 0 ?\n",
              "          100 :\n",
              "          Math.round((position / fileData.byteLength) * 100);\n",
              "      percent.textContent = `${percentDone}% done`;\n",
              "\n",
              "    } while (position < fileData.byteLength);\n",
              "  }\n",
              "\n",
              "  // All done.\n",
              "  yield {\n",
              "    response: {\n",
              "      action: 'complete',\n",
              "    }\n",
              "  };\n",
              "}\n",
              "\n",
              "scope.google = scope.google || {};\n",
              "scope.google.colab = scope.google.colab || {};\n",
              "scope.google.colab._files = {\n",
              "  _uploadFiles,\n",
              "  _uploadFilesContinue,\n",
              "};\n",
              "})(self);\n",
              "</script> "
            ]
          },
          "metadata": {}
        },
        {
          "output_type": "stream",
          "name": "stdout",
          "text": [
            "Saving iris.csv to iris.csv\n"
          ]
        }
      ]
    },
    {
      "cell_type": "code",
      "source": [
        "import pandas as pd\n",
        "iris=pd.read_csv('iris.csv')"
      ],
      "metadata": {
        "id": "fCLIiOs7r-XM"
      },
      "execution_count": null,
      "outputs": []
    },
    {
      "cell_type": "code",
      "source": [
        "#print(iris.head(3))\n",
        "print(iris.Species.value_counts())\n",
        "print(iris.columns)\n"
      ],
      "metadata": {
        "colab": {
          "base_uri": "https://localhost:8080/"
        },
        "id": "q_BL-Af9svp3",
        "outputId": "25ce4a81-ca03-4aa2-b832-b24d8a5c1155"
      },
      "execution_count": null,
      "outputs": [
        {
          "output_type": "stream",
          "name": "stdout",
          "text": [
            "Iris-setosa        50\n",
            "Iris-versicolor    50\n",
            "Iris-virginica     50\n",
            "Name: Species, dtype: int64\n",
            "Index(['Id', 'SepalLengthCm', 'SepalWidthCm', 'PetalLengthCm', 'PetalWidthCm',\n",
            "       'Species'],\n",
            "      dtype='object')\n"
          ]
        }
      ]
    },
    {
      "cell_type": "code",
      "source": [
        "#dir(pd)"
      ],
      "metadata": {
        "id": "yg3TpD9vg72H"
      },
      "execution_count": null,
      "outputs": []
    },
    {
      "cell_type": "code",
      "source": [
        "#Concept of uploading files \n",
        "\n",
        "from google.colab import files\n",
        "\n",
        "iris=files.upload()\n",
        "import pandas as pd\n",
        "iris=pd.read_csv('iris.csv')\n",
        "print(iris.Species.value_counts())\n",
        "iris.columns\n",
        "iris.plot(kind='scatter',x='SepalLengthCm',y='PetalLengthCm')\n",
        "print(iris.head())\n",
        "import plotly.express as px\n",
        "#df=px.data.iris()\n",
        "fig=px.scatter_3d(iris,x='SepalLengthCm', y='SepalWidthCm', z= 'PetalLengthCm')\n",
        "import seaborn as sns\n",
        "sns.pairplot(iris)\n",
        "#fig.show()\n",
        "\n",
        "data=pd.read_csv('titanic_train.csv')\n",
        "sns.countplot(data['Survived'])\n",
        "import matplotlib.pyplot as plt\n",
        "plt.show()"
      ],
      "metadata": {
        "id": "5w0MRQlog7rP"
      },
      "execution_count": null,
      "outputs": []
    },
    {
      "cell_type": "code",
      "source": [],
      "metadata": {
        "id": "3r5atCcFg7gW"
      },
      "execution_count": null,
      "outputs": []
    },
    {
      "cell_type": "code",
      "source": [],
      "metadata": {
        "id": "lvo8CE1Jg7Vm"
      },
      "execution_count": null,
      "outputs": []
    },
    {
      "cell_type": "code",
      "source": [],
      "metadata": {
        "id": "0xa4XEpDg7KZ"
      },
      "execution_count": null,
      "outputs": []
    },
    {
      "cell_type": "code",
      "source": [],
      "metadata": {
        "id": "fLd_k7-Bg6_W"
      },
      "execution_count": null,
      "outputs": []
    },
    {
      "cell_type": "code",
      "source": [],
      "metadata": {
        "id": "W3IC_2TYg60R"
      },
      "execution_count": null,
      "outputs": []
    },
    {
      "cell_type": "code",
      "source": [],
      "metadata": {
        "id": "Di45dXaDg6of"
      },
      "execution_count": null,
      "outputs": []
    },
    {
      "cell_type": "code",
      "source": [],
      "metadata": {
        "id": "KcyDDOCvg6bv"
      },
      "execution_count": null,
      "outputs": []
    },
    {
      "cell_type": "code",
      "source": [],
      "metadata": {
        "id": "sdmZtyNng6PW"
      },
      "execution_count": null,
      "outputs": []
    },
    {
      "cell_type": "code",
      "source": [],
      "metadata": {
        "id": "PhVFcwk5g6EP"
      },
      "execution_count": null,
      "outputs": []
    },
    {
      "cell_type": "code",
      "source": [],
      "metadata": {
        "id": "0BBdzBWng54u"
      },
      "execution_count": null,
      "outputs": []
    },
    {
      "cell_type": "code",
      "source": [],
      "metadata": {
        "id": "8Jvot7okg5s-"
      },
      "execution_count": null,
      "outputs": []
    },
    {
      "cell_type": "code",
      "source": [],
      "metadata": {
        "id": "b13Due_Ag5g2"
      },
      "execution_count": null,
      "outputs": []
    },
    {
      "cell_type": "code",
      "source": [],
      "metadata": {
        "id": "TcK20L4Tg5WG"
      },
      "execution_count": null,
      "outputs": []
    },
    {
      "cell_type": "code",
      "source": [],
      "metadata": {
        "id": "HSMnWmLVg5Kw"
      },
      "execution_count": null,
      "outputs": []
    },
    {
      "cell_type": "code",
      "source": [],
      "metadata": {
        "id": "5Wht9GRig4_R"
      },
      "execution_count": null,
      "outputs": []
    },
    {
      "cell_type": "code",
      "source": [],
      "metadata": {
        "id": "EKOexKPbg4y_"
      },
      "execution_count": null,
      "outputs": []
    },
    {
      "cell_type": "code",
      "source": [],
      "metadata": {
        "id": "R-Pjnkhyg4mQ"
      },
      "execution_count": null,
      "outputs": []
    },
    {
      "cell_type": "code",
      "source": [],
      "metadata": {
        "id": "DYzvUzkAWoKe"
      },
      "execution_count": null,
      "outputs": []
    },
    {
      "cell_type": "code",
      "source": [
        "import matplotlib.pyplot as plt\n",
        "import numpy as np\n",
        "\n",
        "from sklearn.metrics import accuracy_score\n",
        "from sklearn.linear_model import LogisticRegression\n",
        "from sklearn.svm import SVC\n",
        "from sklearn.gaussian_process import GaussianProcessClassifier\n",
        "from sklearn.gaussian_process.kernels import RBF\n",
        "from sklearn import datasets\n",
        "\n",
        "iris = datasets.load_iris()\n",
        "X = iris.data[:, 0:2]  # we only take the first two features for visualization\n",
        "y = iris.target\n",
        "\n",
        "n_features = X.shape[1]\n",
        "\n",
        "C = 10\n",
        "kernel = 1.0 * RBF([1.0, 1.0])  # for GPC\n",
        "\n",
        "# Create different classifiers.\n",
        "classifiers = {\n",
        "    \"L1 logistic\": LogisticRegression(\n",
        "        C=C, penalty=\"l1\", solver=\"saga\", multi_class=\"multinomial\", max_iter=10000\n",
        "    ),\n",
        "    \"L2 logistic (Multinomial)\": LogisticRegression(\n",
        "        C=C, penalty=\"l2\", solver=\"saga\", multi_class=\"multinomial\", max_iter=10000\n",
        "    ),\n",
        "    \"L2 logistic (OvR)\": LogisticRegression(\n",
        "        C=C, penalty=\"l2\", solver=\"saga\", multi_class=\"ovr\", max_iter=10000\n",
        "    ),\n",
        "    \"Linear SVC\": SVC(kernel=\"linear\", C=C, probability=True, random_state=0),\n",
        "    \"GPC\": GaussianProcessClassifier(kernel),\n",
        "}\n",
        "\n",
        "n_classifiers = len(classifiers)\n",
        "\n",
        "plt.figure(figsize=(3 * 2, n_classifiers * 2))\n",
        "plt.subplots_adjust(bottom=0.2, top=0.95)\n",
        "\n",
        "xx = np.linspace(3, 9, 100)\n",
        "yy = np.linspace(1, 5, 100).T\n",
        "xx, yy = np.meshgrid(xx, yy)\n",
        "Xfull = np.c_[xx.ravel(), yy.ravel()]\n",
        "\n",
        "for index, (name, classifier) in enumerate(classifiers.items()):\n",
        "    classifier.fit(X, y)\n",
        "\n",
        "    y_pred = classifier.predict(X)\n",
        "    accuracy = accuracy_score(y, y_pred)\n",
        "    print(\"Accuracy (train) for %s: %0.1f%% \" % (name, accuracy * 100))\n",
        "\n",
        "    # View probabilities:\n",
        "    probas = classifier.predict_proba(Xfull)\n",
        "    n_classes = np.unique(y_pred).size\n",
        "    for k in range(n_classes):\n",
        "        plt.subplot(n_classifiers, n_classes, index * n_classes + k + 1)\n",
        "        plt.title(\"Class %d\" % k)\n",
        "        if k == 0:\n",
        "            plt.ylabel(name)\n",
        "        imshow_handle = plt.imshow(\n",
        "            probas[:, k].reshape((100, 100)), extent=(3, 9, 1, 5), origin=\"lower\"\n",
        "        )\n",
        "        plt.xticks(())\n",
        "        plt.yticks(())\n",
        "        idx = y_pred == k\n",
        "        if idx.any():\n",
        "            plt.scatter(X[idx, 0], X[idx, 1], marker=\"o\", c=\"w\", edgecolor=\"k\")\n",
        "\n",
        "ax = plt.axes([0.15, 0.04, 0.7, 0.05])\n",
        "plt.title(\"Probability\")\n",
        "plt.colorbar(imshow_handle, cax=ax, orientation=\"horizontal\")\n",
        "\n",
        "plt.show()"
      ],
      "metadata": {
        "colab": {
          "base_uri": "https://localhost:8080/",
          "height": 794
        },
        "id": "fz4EpIT_WoRt",
        "outputId": "22ab3fc4-3621-4326-bd48-ec976a961a15"
      },
      "execution_count": null,
      "outputs": [
        {
          "output_type": "stream",
          "name": "stdout",
          "text": [
            "Accuracy (train) for L1 logistic: 83.3% \n",
            "Accuracy (train) for L2 logistic (Multinomial): 82.7% \n",
            "Accuracy (train) for L2 logistic (OvR): 79.3% \n",
            "Accuracy (train) for Linear SVC: 82.0% \n",
            "Accuracy (train) for GPC: 82.7% \n"
          ]
        },
        {
          "output_type": "display_data",
          "data": {
            "text/plain": [
              "<Figure size 432x720 with 16 Axes>"
            ],
            "image/png": "[encoded data removed]"
          },
          "metadata": {
            "needs_background": "light"
          }
        }
      ]
    },
    {
      "cell_type": "code",
      "source": [],
      "metadata": {
        "id": "SwLro_PeWpV0"
      },
      "execution_count": null,
      "outputs": []
    },
    {
      "cell_type": "code",
      "source": [],
      "metadata": {
        "id": "12ykBRMqXtV8"
      },
      "execution_count": null,
      "outputs": []
    },
    {
      "cell_type": "code",
      "source": [],
      "metadata": {
        "id": "Q-usf28qXtds"
      },
      "execution_count": null,
      "outputs": []
    },
    {
      "cell_type": "code",
      "source": [
        "import sklearn"
      ],
      "metadata": {
        "id": "pHyhJIHaXzen"
      },
      "execution_count": null,
      "outputs": []
    },
    {
      "cell_type": "code",
      "source": [
        "dir(sklearn)"
      ],
      "metadata": {
        "colab": {
          "base_uri": "https://localhost:8080/"
        },
        "id": "lf7NF8kNXtjR",
        "outputId": "edf85666-bf82-4ba7-d554-7febb56c81b5"
      },
      "execution_count": null,
      "outputs": [
        {
          "output_type": "execute_result",
          "data": {
            "text/plain": [
              "['__SKLEARN_SETUP__',\n",
              " '__all__',\n",
              " '__builtins__',\n",
              " '__cached__',\n",
              " '__check_build',\n",
              " '__doc__',\n",
              " '__file__',\n",
              " '__loader__',\n",
              " '__name__',\n",
              " '__package__',\n",
              " '__path__',\n",
              " '__spec__',\n",
              " '__version__',\n",
              " '_config',\n",
              " '_distributor_init',\n",
              " '_loss',\n",
              " 'base',\n",
              " 'clone',\n",
              " 'config_context',\n",
              " 'datasets',\n",
              " 'exceptions',\n",
              " 'externals',\n",
              " 'feature_extraction',\n",
              " 'gaussian_process',\n",
              " 'get_config',\n",
              " 'linear_model',\n",
              " 'logger',\n",
              " 'logging',\n",
              " 'metrics',\n",
              " 'model_selection',\n",
              " 'multiclass',\n",
              " 'os',\n",
              " 'preprocessing',\n",
              " 'random',\n",
              " 'set_config',\n",
              " 'setup_module',\n",
              " 'show_versions',\n",
              " 'svm',\n",
              " 'sys',\n",
              " 'utils']"
            ]
          },
          "metadata": {},
          "execution_count": 21
        }
      ]
    },
    {
      "cell_type": "code",
      "source": [
        "dir(qrcode)"
      ],
      "metadata": {
        "colab": {
          "base_uri": "https://localhost:8080/"
        },
        "id": "PtrguPOOXwB6",
        "outputId": "aeb29222-b20f-4411-b117-a70caa20bfcd"
      },
      "execution_count": null,
      "outputs": [
        {
          "output_type": "execute_result",
          "data": {
            "text/plain": [
              "['ERROR_CORRECT_H',\n",
              " 'ERROR_CORRECT_L',\n",
              " 'ERROR_CORRECT_M',\n",
              " 'ERROR_CORRECT_Q',\n",
              " 'LUT',\n",
              " 'QRCode',\n",
              " '__builtins__',\n",
              " '__cached__',\n",
              " '__doc__',\n",
              " '__file__',\n",
              " '__loader__',\n",
              " '__name__',\n",
              " '__package__',\n",
              " '__path__',\n",
              " '__spec__',\n",
              " 'base',\n",
              " 'constants',\n",
              " 'exceptions',\n",
              " 'image',\n",
              " 'main',\n",
              " 'make',\n",
              " 'run_example',\n",
              " 'util']"
            ]
          },
          "metadata": {},
          "execution_count": 22
        }
      ]
    },
    {
      "cell_type": "code",
      "source": [
        "dir(sklearn.datasets)"
      ],
      "metadata": {
        "colab": {
          "base_uri": "https://localhost:8080/"
        },
        "id": "HXPMFVrOX5vE",
        "outputId": "a14bff10-f696-4853-caed-9ba7d2f2c968"
      },
      "execution_count": null,
      "outputs": [
        {
          "output_type": "execute_result",
          "data": {
            "text/plain": [
              "['__all__',\n",
              " '__builtins__',\n",
              " '__cached__',\n",
              " '__doc__',\n",
              " '__file__',\n",
              " '__loader__',\n",
              " '__name__',\n",
              " '__package__',\n",
              " '__path__',\n",
              " '__spec__',\n",
              " '_base',\n",
              " '_california_housing',\n",
              " '_covtype',\n",
              " '_kddcup99',\n",
              " '_lfw',\n",
              " '_olivetti_faces',\n",
              " '_openml',\n",
              " '_rcv1',\n",
              " '_samples_generator',\n",
              " '_species_distributions',\n",
              " '_svmlight_format_fast',\n",
              " '_svmlight_format_io',\n",
              " '_twenty_newsgroups',\n",
              " 'clear_data_home',\n",
              " 'data',\n",
              " 'descr',\n",
              " 'dump_svmlight_file',\n",
              " 'fetch_20newsgroups',\n",
              " 'fetch_20newsgroups_vectorized',\n",
              " 'fetch_california_housing',\n",
              " 'fetch_covtype',\n",
              " 'fetch_kddcup99',\n",
              " 'fetch_lfw_pairs',\n",
              " 'fetch_lfw_people',\n",
              " 'fetch_olivetti_faces',\n",
              " 'fetch_openml',\n",
              " 'fetch_rcv1',\n",
              " 'fetch_species_distributions',\n",
              " 'get_data_home',\n",
              " 'load_boston',\n",
              " 'load_breast_cancer',\n",
              " 'load_diabetes',\n",
              " 'load_digits',\n",
              " 'load_files',\n",
              " 'load_iris',\n",
              " 'load_linnerud',\n",
              " 'load_sample_image',\n",
              " 'load_sample_images',\n",
              " 'load_svmlight_file',\n",
              " 'load_svmlight_files',\n",
              " 'load_wine',\n",
              " 'make_biclusters',\n",
              " 'make_blobs',\n",
              " 'make_checkerboard',\n",
              " 'make_circles',\n",
              " 'make_classification',\n",
              " 'make_friedman1',\n",
              " 'make_friedman2',\n",
              " 'make_friedman3',\n",
              " 'make_gaussian_quantiles',\n",
              " 'make_hastie_10_2',\n",
              " 'make_low_rank_matrix',\n",
              " 'make_moons',\n",
              " 'make_multilabel_classification',\n",
              " 'make_regression',\n",
              " 'make_s_curve',\n",
              " 'make_sparse_coded_signal',\n",
              " 'make_sparse_spd_matrix',\n",
              " 'make_sparse_uncorrelated',\n",
              " 'make_spd_matrix',\n",
              " 'make_swiss_roll']"
            ]
          },
          "metadata": {},
          "execution_count": 24
        }
      ]
    },
    {
      "cell_type": "code",
      "source": [],
      "metadata": {
        "id": "0XlpiiT8YkRa"
      },
      "execution_count": null,
      "outputs": []
    },
    {
      "cell_type": "code",
      "source": [
        "import sklearn"
      ],
      "metadata": {
        "id": "MfGOff07bntR"
      },
      "execution_count": null,
      "outputs": []
    },
    {
      "cell_type": "code",
      "source": [
        "print(sklearn.__version__)"
      ],
      "metadata": {
        "colab": {
          "base_uri": "https://localhost:8080/"
        },
        "id": "IoxepQ98bqqY",
        "outputId": "9115ea5d-77c3-4945-de71-19f8ce7eaf7f"
      },
      "execution_count": null,
      "outputs": [
        {
          "output_type": "stream",
          "name": "stdout",
          "text": [
            "1.0.2\n"
          ]
        }
      ]
    },
    {
      "cell_type": "code",
      "source": [
        "import keras"
      ],
      "metadata": {
        "id": "uaLvfVqRbtnp"
      },
      "execution_count": null,
      "outputs": []
    },
    {
      "cell_type": "code",
      "source": [
        "print(keras.__version__)"
      ],
      "metadata": {
        "colab": {
          "base_uri": "https://localhost:8080/"
        },
        "id": "hnUYNvBRbwYh",
        "outputId": "0de47952-171f-4df3-abe1-6104944a4634"
      },
      "execution_count": null,
      "outputs": [
        {
          "output_type": "stream",
          "name": "stdout",
          "text": [
            "2.8.0\n"
          ]
        }
      ]
    },
    {
      "cell_type": "code",
      "source": [
        "import keyword as kw\n",
        "dir(kw)"
      ],
      "metadata": {
        "colab": {
          "base_uri": "https://localhost:8080/"
        },
        "id": "k0BaYelkby2i",
        "outputId": "5539451c-8158-4ce3-e2c9-0a5370fe1ac5"
      },
      "execution_count": null,
      "outputs": [
        {
          "output_type": "execute_result",
          "data": {
            "text/plain": [
              "['__all__',\n",
              " '__builtins__',\n",
              " '__cached__',\n",
              " '__doc__',\n",
              " '__file__',\n",
              " '__loader__',\n",
              " '__name__',\n",
              " '__package__',\n",
              " '__spec__',\n",
              " 'iskeyword',\n",
              " 'kwlist',\n",
              " 'main']"
            ]
          },
          "metadata": {},
          "execution_count": 29
        }
      ]
    },
    {
      "cell_type": "code",
      "source": [
        "print(kw.kwlist)"
      ],
      "metadata": {
        "colab": {
          "base_uri": "https://localhost:8080/"
        },
        "id": "eizOWq8-fk7E",
        "outputId": "305819aa-abdd-41bd-998a-edcac582c9cb"
      },
      "execution_count": null,
      "outputs": [
        {
          "output_type": "stream",
          "name": "stdout",
          "text": [
            "['False', 'None', 'True', 'and', 'as', 'assert', 'async', 'await', 'break', 'class', 'continue', 'def', 'del', 'elif', 'else', 'except', 'finally', 'for', 'from', 'global', 'if', 'import', 'in', 'is', 'lambda', 'nonlocal', 'not', 'or', 'pass', 'raise', 'return', 'try', 'while', 'with', 'yield']\n"
          ]
        }
      ]
    },
    {
      "cell_type": "code",
      "source": [
        "print(len(kw.kwlist))"
      ],
      "metadata": {
        "id": "ihRH_y1yfum6",
        "outputId": "1ed0aa6b-7c9c-46e9-9b83-3b86f047880c",
        "colab": {
          "base_uri": "https://localhost:8080/"
        }
      },
      "execution_count": null,
      "outputs": [
        {
          "output_type": "stream",
          "name": "stdout",
          "text": [
            "35\n"
          ]
        }
      ]
    },
    {
      "cell_type": "code",
      "source": [],
      "metadata": {
        "id": "ioKS3nvgfqB-"
      },
      "execution_count": null,
      "outputs": []
    },
    {
      "cell_type": "code",
      "source": [],
      "metadata": {
        "id": "SwAngxWBmosU"
      },
      "execution_count": null,
      "outputs": []
    },
    {
      "cell_type": "markdown",
      "metadata": {
        "id": "view-in-github"
      },
      "source": [
        "<a href=\"https://colab.research.google.com/github/psrana/Learn-Python-in-2-hr/blob/main/Learn_Python_in_2_hr.ipynb\" target=\"_parent\"><img src=\"https://colab.research.google.com/assets/colab-badge.svg\" alt=\"Open In Colab\"/></a>"
      ]
    },
    {
      "cell_type": "code",
      "source": [],
      "metadata": {
        "id": "hZdiATs1t7RW"
      },
      "execution_count": null,
      "outputs": []
    },
    {
      "cell_type": "markdown",
      "metadata": {
        "id": "NgayMd7cK3U6"
      },
      "source": [
        "---\n",
        "# **Learn Python in 2 hr**\n",
        "---\n",
        "\n",
        "### There are 16 programs to explain the various concepts in python programming such as:\n",
        "\n",
        "- Syntex, \n",
        "- Loop, \n",
        "- if-else, \n",
        "- Data Structures, \n",
        "- Strings, \n",
        "- File Handaling, \n",
        "- Exception Handaling, \n",
        "- Random Numbers, \n",
        "- Command Line Argunment\n",
        "- Use of Libraries\n",
        "\n",
        "---\n",
        "### **Self learning resource**\n",
        "Tutorial on Python (Byte of Python) **<a href=\"https://python.swaroopch.com/\"> Click Here</a>** \n",
        "\n",
        "\n",
        "```\n",
        "\n",
        "\n",
        "\n",
        "```\n",
        "\n",
        "\n",
        "\n",
        "\n",
        "---\n",
        "# **1 Hello World**\n",
        "---\n",
        "**Learning:** How to print and run python program"
      ]
    },
    {
      "cell_type": "code",
      "metadata": {
        "colab": {
          "base_uri": "https://localhost:8080/"
        },
        "id": "e4JFo1WM8ZON",
        "outputId": "2eb3c23c-3a9b-44ea-be48-f98e45d16463"
      },
      "source": [
        "print (\"Hello World\")"
      ],
      "execution_count": null,
      "outputs": [
        {
          "output_type": "stream",
          "name": "stdout",
          "text": [
            "Hello World\n"
          ]
        }
      ]
    },
    {
      "cell_type": "markdown",
      "metadata": {
        "id": "oBs7uRGQPn3J"
      },
      "source": [
        "**Assingment 1.1**: WAP to print your name three times"
      ]
    },
    {
      "cell_type": "markdown",
      "metadata": {
        "id": "EOp1wf9hlyC2"
      },
      "source": [
        "---\n",
        "# **2 Add numbers and Concatenate strings**\n",
        "**Learning:** How to declare variable, add, concatenate and print the result.\n",
        "\n",
        "---\n",
        "### **2.1 Add two numbers**\n"
      ]
    },
    {
      "cell_type": "code",
      "metadata": {
        "id": "sk_6l4N6l-vH",
        "colab": {
          "base_uri": "https://localhost:8080/"
        },
        "outputId": "f9b98f75-2e72-496e-b725-ae0dd62774be"
      },
      "source": [
        "a = 10\t\t\t\t\n",
        "b = 220\n",
        "c = a + b       # Add two numbers\n",
        "print (a, \" + \", b, \" --> \", c)"
      ],
      "execution_count": null,
      "outputs": [
        {
          "output_type": "stream",
          "text": [
            "10  +  220  -->  230\n"
          ],
          "name": "stdout"
        }
      ]
    },
    {
      "cell_type": "markdown",
      "metadata": {
        "id": "iGXiAQqI4AvC"
      },
      "source": [
        "\n",
        "---\n",
        "### **2.2 Concatenate two strings**\n",
        "---"
      ]
    },
    {
      "cell_type": "code",
      "metadata": {
        "id": "o-kCSsW7lxNF",
        "colab": {
          "base_uri": "https://localhost:8080/"
        },
        "outputId": "140528c2-aac3-48c5-92fd-a516c1712084"
      },
      "source": [
        "a = \"Bhagat\"\n",
        "b = \" Singh\"\n",
        "c = a + b\t\t# Concatinate two strings\n",
        "print (a, \" + \", b, \" --> \", c)"
      ],
      "execution_count": null,
      "outputs": [
        {
          "output_type": "stream",
          "text": [
            "Bhagat  +   Singh  -->  Bhagat Singh\n"
          ],
          "name": "stdout"
        }
      ]
    },
    {
      "cell_type": "markdown",
      "metadata": {
        "id": "DOZfIRp04ZvM"
      },
      "source": [
        "\n",
        "---\n",
        "### **2.3 Concate\n",
        "nate string with number**\n",
        "---"
      ]
    },
    {
      "cell_type": "code",
      "metadata": {
        "colab": {
          "base_uri": "https://localhost:8080/"
        },
        "id": "BuJp15Fd4ZvS",
        "outputId": "40b6dfa4-43ac-495e-f7e1-707acd41d177"
      },
      "source": [
        "a = \"Bhagat\"\n",
        "b = 100\n",
        "c = a + str(b)\t\t# Concatinate string with number\n",
        "print (a, \" + \", b, \" --> \", c)"
      ],
      "execution_count": null,
      "outputs": [
        {
          "output_type": "stream",
          "text": [
            "Bhagat  +  100  -->  Bhagat100\n"
          ],
          "name": "stdout"
        }
      ]
    },
    {
      "cell_type": "markdown",
      "metadata": {
        "id": "hA7PLi-m4V8s"
      },
      "source": [
        "**Assingment 2.1**: WAP to add three numbers and print the result.\n",
        "\n",
        "**Assingment 2.2**: WAP to concatinate three strings and print the result."
      ]
    },
    {
      "cell_type": "markdown",
      "metadata": {
        "id": "z1uDaVtK5tX_"
      },
      "source": [
        "---\n",
        "# **3 Input from user**\n",
        "**Learning:** How to take input from user\n",
        "\n",
        "---\n",
        "### **3.1 Input two strings from user and concatinate them**\n",
        "---"
      ]
    },
    {
      "cell_type": "code",
      "metadata": {
        "id": "aDsOjDWs5tYB",
        "colab": {
          "base_uri": "https://localhost:8080/"
        },
        "outputId": "67ff1f56-a125-40e9-91fc-789406c22a55"
      },
      "source": [
        "a = input(\"Enter First String: \")\n",
        "b = input(\"Enter Second String: \")\n",
        "c = a + b\t\t# concatinate two strings\n",
        "print  (a, \" + \", b, \"      --> \", c)\n",
        "\n",
        "# Run the program with (1) Two strings and (2) Two numbers"
      ],
      "execution_count": null,
      "outputs": [
        {
          "output_type": "stream",
          "text": [
            "Enter First String: First\n",
            "Enter Second String: Second\n",
            "First  +  Second       -->  FirstSecond\n"
          ],
          "name": "stdout"
        }
      ]
    },
    {
      "cell_type": "markdown",
      "metadata": {
        "id": "4CAypM6A5Jmx"
      },
      "source": [
        "---\n",
        "### **3.2 Input two numbers from user and add them**\n",
        "---"
      ]
    },
    {
      "cell_type": "code",
      "metadata": {
        "id": "EzB8G_a95d4X",
        "colab": {
          "base_uri": "https://localhost:8080/"
        },
        "outputId": "2026019e-1148-4878-ace6-229f58b5bc73"
      },
      "source": [
        "a = int(input(\"Enter First No: \"))\n",
        "b = int(input(\"Enter Second No: \"))\n",
        "c = a + b\n",
        "print (a, \" + \", b, \" --> \", c)"
      ],
      "execution_count": null,
      "outputs": [
        {
          "output_type": "stream",
          "text": [
            "Enter First No: 34\n",
            "Enter Second No: 32\n",
            "34  +  32  -->  66\n"
          ],
          "name": "stdout"
        }
      ]
    },
    {
      "cell_type": "markdown",
      "metadata": {
        "id": "VCXIhMtP-puV"
      },
      "source": [
        "---\n",
        "# **4 Loop**\n",
        "**Learning:** Learn various loops.\n",
        "\n",
        "---\n",
        "### **4.1 While Loop**"
      ]
    },
    {
      "cell_type": "code",
      "metadata": {
        "colab": {
          "base_uri": "https://localhost:8080/"
        },
        "id": "ESdyGeh9-puX",
        "outputId": "788a0402-f105-4f0a-f5b5-d8a305f39443"
      },
      "source": [
        "i=1\n",
        "while i <= 10:\n",
        "\tprint (i)\n",
        "\ti = i+1"
      ],
      "execution_count": null,
      "outputs": [
        {
          "output_type": "stream",
          "text": [
            "1\n",
            "2\n",
            "3\n",
            "4\n",
            "5\n",
            "6\n",
            "7\n",
            "8\n",
            "9\n",
            "10\n"
          ],
          "name": "stdout"
        }
      ]
    },
    {
      "cell_type": "markdown",
      "metadata": {
        "id": "rd_F8ksi-puZ"
      },
      "source": [
        "---\n",
        "### **4.2 Range Function**\n",
        "---"
      ]
    },
    {
      "cell_type": "code",
      "metadata": {
        "colab": {
          "base_uri": "https://localhost:8080/"
        },
        "id": "_U_Of2tu-puZ",
        "outputId": "8b8068a5-6dc5-458c-c906-31d7e1e276e8"
      },
      "source": [
        "print (\"range(10)        --> \", list(range(10)))\n",
        "print (\"range(10,20)     --> \", list(range(10,20)))\n",
        "print (\"range(0,20,2)    --> \", list(range(2,20,2)))\n",
        "print (\"range(-10,-20,2) --> \", list(range(-10,-20,2)))\n",
        "print (\"range(-10,-20,-2)--> \", list(range(-10,-20,-2)))"
      ],
      "execution_count": null,
      "outputs": [
        {
          "output_type": "stream",
          "text": [
            "range(10)        -->  [0, 1, 2, 3, 4, 5, 6, 7, 8, 9]\n",
            "range(10,20)     -->  [10, 11, 12, 13, 14, 15, 16, 17, 18, 19]\n",
            "range(0,20,2)    -->  [2, 4, 6, 8, 10, 12, 14, 16, 18]\n",
            "range(-10,-20,2) -->  []\n",
            "range(-10,-20,-2)-->  [-10, -12, -14, -16, -18]\n"
          ],
          "name": "stdout"
        }
      ]
    },
    {
      "cell_type": "markdown",
      "metadata": {
        "id": "Xny977qN_f_f"
      },
      "source": [
        "---\n",
        "### **4.3 For loop**\n",
        "---\n",
        "### **4.3.1 For loop - Version 1**"
      ]
    },
    {
      "cell_type": "code",
      "metadata": {
        "colab": {
          "base_uri": "https://localhost:8080/"
        },
        "id": "JXsAol2L_f_h",
        "outputId": "e43f30d4-9d57-446f-c835-a9a75fe32fe9"
      },
      "source": [
        "for i in range(0,10):\n",
        "\tprint (i)"
      ],
      "execution_count": null,
      "outputs": [
        {
          "output_type": "stream",
          "text": [
            "0\n",
            "1\n",
            "2\n",
            "3\n",
            "4\n",
            "5\n",
            "6\n",
            "7\n",
            "8\n",
            "9\n"
          ],
          "name": "stdout"
        }
      ]
    },
    {
      "cell_type": "markdown",
      "metadata": {
        "id": "Xk5XRRV8_gMq"
      },
      "source": [
        "---\n",
        "### **4.3.2 For loop - Version 2**\n",
        "---"
      ]
    },
    {
      "cell_type": "code",
      "metadata": {
        "colab": {
          "base_uri": "https://localhost:8080/"
        },
        "id": "w8scyduB_gMr",
        "outputId": "d18d5eb3-88d1-4d57-b746-9c342840b33a"
      },
      "source": [
        "for i in range(0,20,2):\n",
        "\tprint (i)"
      ],
      "execution_count": null,
      "outputs": [
        {
          "output_type": "stream",
          "name": "stdout",
          "text": [
            "0\n",
            "2\n",
            "4\n",
            "6\n",
            "8\n",
            "10\n",
            "12\n",
            "14\n",
            "16\n",
            "18\n"
          ]
        }
      ]
    },
    {
      "cell_type": "markdown",
      "metadata": {
        "id": "_NNQrHRXAZ8a"
      },
      "source": [
        "---\n",
        "### **4.3.3 For loop - Version 3**\n",
        "---"
      ]
    },
    {
      "cell_type": "code",
      "metadata": {
        "colab": {
          "base_uri": "https://localhost:8080/"
        },
        "id": "18Im8yX7AZ8a",
        "outputId": "986a1a88-49e3-4c4e-abfc-ce7548ac40fa"
      },
      "source": [
        "for i in range(0,-10,-1):\n",
        "\tprint (i)"
      ],
      "execution_count": null,
      "outputs": [
        {
          "output_type": "stream",
          "text": [
            "0\n",
            "-1\n",
            "-2\n",
            "-3\n",
            "-4\n",
            "-5\n",
            "-6\n",
            "-7\n",
            "-8\n",
            "-9\n"
          ],
          "name": "stdout"
        }
      ]
    },
    {
      "cell_type": "markdown",
      "metadata": {
        "id": "Meq_Hv4RAaHS"
      },
      "source": [
        "---\n",
        "### **4.4 Print table of 5**\n",
        "---"
      ]
    },
    {
      "cell_type": "code",
      "metadata": {
        "colab": {
          "base_uri": "https://localhost:8080/"
        },
        "id": "EvPN2wvOAaHT",
        "outputId": "a0dfa6a2-7bfc-4a6e-c08a-6881efb93958"
      },
      "source": [
        "for i in range(1,11):\n",
        "\tprint (5,\" * \", i , \" = \", i * 5)"
      ],
      "execution_count": null,
      "outputs": [
        {
          "output_type": "stream",
          "text": [
            "5  *  1  =  5\n",
            "5  *  2  =  10\n",
            "5  *  3  =  15\n",
            "5  *  4  =  20\n",
            "5  *  5  =  25\n",
            "5  *  6  =  30\n",
            "5  *  7  =  35\n",
            "5  *  8  =  40\n",
            "5  *  9  =  45\n",
            "5  *  10  =  50\n"
          ],
          "name": "stdout"
        }
      ]
    },
    {
      "cell_type": "markdown",
      "metadata": {
        "id": "aZErlsXYAaPu"
      },
      "source": [
        "---\n",
        "### **4.5 Sum all numbers from 1 to 10**\n",
        "---\n",
        "### **4.5.1 Version 1**"
      ]
    },
    {
      "cell_type": "code",
      "metadata": {
        "colab": {
          "base_uri": "https://localhost:8080/"
        },
        "id": "ddCg6qxQAaPv",
        "outputId": "d0a479f7-0214-4234-f9e6-8a03af1f21e2"
      },
      "source": [
        "s=0\n",
        "for i in range(1,11):\n",
        "\ts=s+i\n",
        "print (\"Sum is --> \",s)"
      ],
      "execution_count": null,
      "outputs": [
        {
          "output_type": "stream",
          "text": [
            "Sum is -->  55\n"
          ],
          "name": "stdout"
        }
      ]
    },
    {
      "cell_type": "markdown",
      "metadata": {
        "id": "UucWFIAt_gV_"
      },
      "source": [
        "---\n",
        "### **4.5.2 Version 2**\n",
        "---"
      ]
    },
    {
      "cell_type": "code",
      "metadata": {
        "colab": {
          "base_uri": "https://localhost:8080/"
        },
        "id": "cD3y-1lM_gWB",
        "outputId": "86ed854d-7fca-4d0e-ddd2-f69df8d43630"
      },
      "source": [
        "print (\"Sum is --> \", sum(range(1,11)))"
      ],
      "execution_count": null,
      "outputs": [
        {
          "output_type": "stream",
          "text": [
            "Sum is -->  55\n"
          ],
          "name": "stdout"
        }
      ]
    },
    {
      "cell_type": "markdown",
      "metadata": {
        "id": "DnUEH0WQ-pua"
      },
      "source": [
        "**Assingment 4.1:** WAP to print the table of 7, 9.\n",
        "\n",
        "**Assingment 4.2:** WAP to print the table of n and n is given by user.\n",
        "\n",
        "**Assingment 4.3:** WAP to add all the numbers from 1 to n and n is given by user."
      ]
    },
    {
      "cell_type": "markdown",
      "metadata": {
        "id": "6eraxEhZCJRU"
      },
      "source": [
        "---\n",
        "# **5 If-Else - Conditional Checking**\n",
        "**Learning:** if-else Condition\n",
        "\n",
        "---\n",
        "### **5.1 Input two numbers from user and compare them**"
      ]
    },
    {
      "cell_type": "code",
      "metadata": {
        "colab": {
          "base_uri": "https://localhost:8080/"
        },
        "id": "63a8CKQ9CJRV",
        "outputId": "4a790304-49ac-4575-fc47-cb291ff76aad"
      },
      "source": [
        "a = int(input(\"Enter First No: \"))\n",
        "b = int(input(\"Enter Second No: \"))\n",
        "if  a > b: \n",
        "\tprint (a,\" > \",b)\n",
        "else:\n",
        "\tprint (a,\" < \",b)"
      ],
      "execution_count": null,
      "outputs": [
        {
          "output_type": "stream",
          "text": [
            "Enter First No: 49\n",
            "Enter Second No: 54\n",
            "49  <  54\n"
          ],
          "name": "stdout"
        }
      ]
    },
    {
      "cell_type": "markdown",
      "metadata": {
        "id": "zPayD7lwCJRW"
      },
      "source": [
        "---\n",
        "### **5.2 Check weather a number is odd or even**\n",
        "---"
      ]
    },
    {
      "cell_type": "code",
      "metadata": {
        "colab": {
          "base_uri": "https://localhost:8080/"
        },
        "id": "I2ohfxlRCJRW",
        "outputId": "61a95fd4-5ada-4757-96e3-e2720584d318"
      },
      "source": [
        "n = int(input(\"Enter a No: \"))\n",
        "if  n % 2 == 0: \n",
        "\tprint (n,\" is even\")\n",
        "else:\n",
        "\tprint (n,\" is odd\")"
      ],
      "execution_count": null,
      "outputs": [
        {
          "output_type": "stream",
          "text": [
            "Enter a No: 54\n",
            "54  is even\n"
          ],
          "name": "stdout"
        }
      ]
    },
    {
      "cell_type": "markdown",
      "metadata": {
        "id": "861tynfFCJRX"
      },
      "source": [
        "---\n",
        "### **5.3 Check weather a number is prime of not**\n",
        "---"
      ]
    },
    {
      "cell_type": "code",
      "metadata": {
        "colab": {
          "base_uri": "https://localhost:8080/"
        },
        "id": "q37Sy99JCJRZ",
        "outputId": "6b895ee6-7188-4989-e6a0-f37da120d798"
      },
      "source": [
        "n = int(input(\"Enter a No: \"))\n",
        "f=0\n",
        "for i in range(2, n//2 + 1):\n",
        "\tif  n % i == 0: \n",
        "\t\tf=1\n",
        "\t\tbreak\n",
        "\n",
        "if f==0:\n",
        "\tprint (\"Prime\")\n",
        "else:\n",
        "\tprint (\"Not Prime\")"
      ],
      "execution_count": null,
      "outputs": [
        {
          "output_type": "stream",
          "text": [
            "Enter a No: 56\n",
            "Not Prime\n"
          ],
          "name": "stdout"
        }
      ]
    },
    {
      "cell_type": "markdown",
      "metadata": {
        "id": "YCf466JQCJRa"
      },
      "source": [
        "---\n",
        "### **5.4 Conditional Checking - Compare strings**\n",
        "---"
      ]
    },
    {
      "cell_type": "code",
      "metadata": {
        "colab": {
          "base_uri": "https://localhost:8080/"
        },
        "id": "YSTLUkUVCJRb",
        "outputId": "f8da10e9-ca73-4cdb-cdeb-a1d62ce9bf07"
      },
      "source": [
        "a = input(\"Enter First String : \")\n",
        "b = input(\"Enter Second String: \")\n",
        "\n",
        "if a == b: \n",
        "\tprint (\"a == b\")\n",
        "elif a >= b: \n",
        "\tprint (\"a > b\")\n",
        "else:\n",
        "\tprint (\"a < b\")"
      ],
      "execution_count": null,
      "outputs": [
        {
          "output_type": "stream",
          "text": [
            "Enter First String : Number\n",
            "Enter Second String: Prime\n",
            "a < b\n"
          ],
          "name": "stdout"
        }
      ]
    },
    {
      "cell_type": "markdown",
      "metadata": {
        "id": "bPPQtf1ACJRg"
      },
      "source": [
        "**Assingment 5.1:** WAP to find max amoung three numbers and input from user. [Try max() function]\n",
        "\n",
        "**Assingment 5.2:** WAP to add all numbers divisible by 7 and 9 from 1 to n and n is given by the user.\n",
        "\n",
        "**Assingment 5.3:** WAP to add all prime numbers from 1 to n and n is given by the user.\n"
      ]
    },
    {
      "cell_type": "markdown",
      "metadata": {
        "id": "_dC1CuVnDipZ"
      },
      "source": [
        "---\n",
        "# **6 Functions**\n",
        "**Learning:** How to declare and call function\n",
        "\n",
        "---\n",
        "### **6.1 Add two numbers**"
      ]
    },
    {
      "cell_type": "code",
      "metadata": {
        "colab": {
          "base_uri": "https://localhost:8080/"
        },
        "id": "_Vw-ZYlDDipb",
        "outputId": "7adb0a45-6035-4592-ecf5-f9f87d03251c"
      },
      "source": [
        "def Add(a,b):\n",
        "\tc=a+b\n",
        "\treturn c\n",
        "\n",
        "print (\"Add(10,20) -->\", Add(10,20))\n",
        "print (\"Add(20,50) -->\", Add(20,50)) \n",
        "print (\"Add(80,200) -->\", Add(80,200)) "
      ],
      "execution_count": null,
      "outputs": [
        {
          "output_type": "stream",
          "text": [
            "Add(10,20) --> 30\n",
            "Add(20,50) --> 70\n",
            "Add(80,200) --> 280\n"
          ],
          "name": "stdout"
        }
      ]
    },
    {
      "cell_type": "markdown",
      "metadata": {
        "id": "ygKAg2QjDipc"
      },
      "source": [
        "---\n",
        "### **6.2 Prime number**\n",
        "---"
      ]
    },
    {
      "cell_type": "code",
      "metadata": {
        "colab": {
          "base_uri": "https://localhost:8080/"
        },
        "id": "sg8feM_YDipc",
        "outputId": "ec4a8a27-a227-4bd7-ec70-fbf3afd93960"
      },
      "source": [
        "def IsPrime(n):\n",
        "\tfor i in range(2, n//2 + 1):\n",
        "\t\tif n%i==0:\n",
        "\t\t\treturn 0\n",
        "\treturn 1\n",
        "\n",
        "print (\"IsPrime(20)  --> \", IsPrime(20))\n",
        "print (\"IsPrime(23)  --> \", IsPrime(23))\n",
        "print (\"IsPrime(200) --> \", IsPrime(200))\n",
        "print (\"IsPrime(37)  --> \", IsPrime(37))"
      ],
      "execution_count": null,
      "outputs": [
        {
          "output_type": "stream",
          "text": [
            "IsPrime(20)  -->  0\n",
            "IsPrime(23)  -->  1\n",
            "IsPrime(200) -->  0\n",
            "IsPrime(37)  -->  1\n"
          ],
          "name": "stdout"
        }
      ]
    },
    {
      "cell_type": "markdown",
      "metadata": {
        "id": "cMBI2zEJDipd"
      },
      "source": [
        "---\n",
        "### **6.3 Add 1 to n**\n",
        "---"
      ]
    },
    {
      "cell_type": "code",
      "metadata": {
        "colab": {
          "base_uri": "https://localhost:8080/"
        },
        "id": "OdcwPL2BDipe",
        "outputId": "b7f89113-8a94-469f-b85f-99829095a78f"
      },
      "source": [
        "def AddN(n):\n",
        "\ts= sum(range(n+1))\n",
        "\treturn s\n",
        "\n",
        "print (\"AddN(10)  --> \", AddN(10))\n",
        "print (\"AddN(20)  --> \", AddN(20))\n",
        "print (\"AddN(50)  --> \", AddN(50))\n",
        "print (\"AddN(200) --> \", AddN(200))"
      ],
      "execution_count": null,
      "outputs": [
        {
          "output_type": "stream",
          "text": [
            "AddN(10)  -->  55\n",
            "AddN(20)  -->  210\n",
            "AddN(50)  -->  1275\n",
            "AddN(200) -->  20100\n"
          ],
          "name": "stdout"
        }
      ]
    },
    {
      "cell_type": "markdown",
      "metadata": {
        "id": "bWcn3nSlDipg"
      },
      "source": [
        "\n",
        "**Assingment 6.1:** WAP using function that add all odd numbers from 1 to n, n is given by the user.\n",
        "\n",
        "**Assingment 6.2:** WAP using function that add all prime numbers from 1 to n, n given by the user."
      ]
    },
    {
      "cell_type": "markdown",
      "metadata": {
        "id": "n6nFmz3zEfuq"
      },
      "source": [
        "---\n",
        "# **7 Math library**\n",
        "**Learning:** Use math library\n",
        "\n",
        "---"
      ]
    },
    {
      "cell_type": "code",
      "metadata": {
        "colab": {
          "base_uri": "https://localhost:8080/"
        },
        "id": "qLiy6UxaEfus",
        "outputId": "3f49f051-2d38-4c0c-83c3-faeee56a782b"
      },
      "source": [
        "import math as m\n",
        "print (\"exp(-200)    --> \", m.exp(-200))  # Exponential function\n",
        "print (\"log(100,2)   --> \", m.log(100,2)) # Log\n",
        "print (\"log(100,10)  --> \", m.log(100,10))# Log\n",
        "print (\"log10(100)   --> \", m.log10(100)) # Log 10\n",
        "print (\"m.cos(30)    --> \", m.cos(30))    # cos\n",
        "print (\"m.sin(30)    --> \", m.sin(30))    # sin\n",
        "print (\"m.tan(30)    --> \", m.tan(30))    # tan\n",
        "print (\"m.sqrt(324)  --> \", m.sqrt(324))\n",
        "print (\"m.ceil(89.9) --> \", m.ceil(89.9))\n",
        "print (\"m.floor(89.9)--> \", m.floor(89.9))"
      ],
      "execution_count": null,
      "outputs": [
        {
          "output_type": "stream",
          "text": [
            "exp(-200)    -->  1.3838965267367376e-87\n",
            "log(100,2)   -->  6.643856189774725\n",
            "log(100,10)  -->  2.0\n",
            "log10(100)   -->  2.0\n",
            "m.cos(30)    -->  0.15425144988758405\n",
            "m.sin(30)    -->  -0.9880316240928618\n",
            "m.tan(30)    -->  -6.405331196646276\n",
            "m.sqrt(324)  -->  18.0\n",
            "m.ceil(89.9) -->  90\n",
            "m.floor(89.9)-->  89\n"
          ],
          "name": "stdout"
        }
      ]
    },
    {
      "cell_type": "markdown",
      "metadata": {
        "id": "uuGWj5Q9E7na"
      },
      "source": [
        "---\n",
        "# **8 Strings**\n",
        "**Learning:** How to handle string\n",
        "\n",
        "---\n",
        "### **8.1 Indexing in string**"
      ]
    },
    {
      "cell_type": "code",
      "metadata": {
        "colab": {
          "base_uri": "https://localhost:8080/"
        },
        "id": "1OvIOp21E7nc",
        "outputId": "20653a54-1770-495c-81ba-c65929f56b37"
      },
      "source": [
        "var = 'Hello World!'\n",
        "print (\"var      --> \", var)\n",
        "print (\"var[0]   --> \", var[0])\n",
        "print (\"var[1:5] --> \", var[1:5])\n",
        "print (\"var[:-5] --> \", var[:-5])"
      ],
      "execution_count": null,
      "outputs": [
        {
          "output_type": "stream",
          "text": [
            "var      -->  Hello World!\n",
            "var[0]   -->  H\n",
            "var[1:5] -->  ello\n",
            "var[:-5] -->  Hello W\n"
          ],
          "name": "stdout"
        }
      ]
    },
    {
      "cell_type": "markdown",
      "metadata": {
        "id": "X9V-dQU-E7nd"
      },
      "source": [
        "---\n",
        "### **8.2 String length, upper, lower**\n",
        "---"
      ]
    },
    {
      "cell_type": "code",
      "metadata": {
        "colab": {
          "base_uri": "https://localhost:8080/"
        },
        "id": "y8HSuWkEE7ne",
        "outputId": "665122c7-2036-48f9-e93d-fb1229f9fc4a"
      },
      "source": [
        "var = 'Hello World!'\n",
        "print (\"String --> \", var)\n",
        "print (\"Length --> : \", len(var))\n",
        "print (\"Upper  --> : \", var.upper())\n",
        "print (\"Lower  --> : \", var.lower())"
      ],
      "execution_count": null,
      "outputs": [
        {
          "output_type": "stream",
          "text": [
            "String -->  Hello World!\n",
            "Length --> :  12\n",
            "Upper  --> :  HELLO WORLD!\n",
            "Lower  --> :  hello world!\n"
          ],
          "name": "stdout"
        }
      ]
    },
    {
      "cell_type": "markdown",
      "metadata": {
        "id": "4ySbLzf1Fpi5"
      },
      "source": [
        "---\n",
        "### **8.3 String formatting**\n",
        "---"
      ]
    },
    {
      "cell_type": "code",
      "metadata": {
        "colab": {
          "base_uri": "https://localhost:8080/"
        },
        "id": "RDB15138Fpi6",
        "outputId": "a1997e5d-5fdc-4a9b-aade-363201e342b4"
      },
      "source": [
        "name=input(\"Enter your name: \")\n",
        "age=int(input(\"Enter your age : \"))\n",
        "price=float(input(\"Enter the book price: \"))\n",
        "s=\"\\nYour name is %s, age is %d and book price is %f\" %(name.upper(),age,price)\n",
        "print (s)"
      ],
      "execution_count": null,
      "outputs": [
        {
          "output_type": "stream",
          "text": [
            "Enter your name: Rohan\n",
            "Enter your age : 21\n",
            "Enter the book price: 45.34\n",
            "\n",
            "Your name is ROHAN, age is 21 and book price is 45.340000\n"
          ],
          "name": "stdout"
        }
      ]
    },
    {
      "cell_type": "markdown",
      "metadata": {
        "id": "27Y8Dk7XFp1F"
      },
      "source": [
        "---\n",
        "### **8.4 String in Triple Quotes**\n",
        "---"
      ]
    },
    {
      "cell_type": "code",
      "metadata": {
        "colab": {
          "base_uri": "https://localhost:8080/"
        },
        "id": "jiOlVj37Fp1H",
        "outputId": "ebac4b97-1a7f-4854-9bcd-873fa7d7a682"
      },
      "source": [
        "para_str = \"\"\"This is a long string that is made up of\n",
        "several lines and non-printable characters such as\n",
        "TAB ( \\t ) and they will show up that way when displayed.\n",
        "NEWLINEs within the string, whether explicitly given like\n",
        "this within the brackets [ \\n ], or just a NEWLINE within\n",
        "the variable assignment will also show up.\n",
        "\"\"\"\n",
        "print (para_str)"
      ],
      "execution_count": null,
      "outputs": [
        {
          "output_type": "stream",
          "text": [
            "This is a long string that is made up of\n",
            "several lines and non-printable characters such as\n",
            "TAB ( \t ) and they will show up that way when displayed.\n",
            "NEWLINEs within the string, whether explicitly given like\n",
            "this within the brackets [ \n",
            " ], or just a NEWLINE within\n",
            "the variable assignment will also show up.\n",
            "\n"
          ],
          "name": "stdout"
        }
      ]
    },
    {
      "cell_type": "markdown",
      "metadata": {
        "id": "WK4GTOeIFp-I"
      },
      "source": [
        "---\n",
        "### **8.5 String strip**\n",
        "---"
      ]
    },
    {
      "cell_type": "code",
      "metadata": {
        "colab": {
          "base_uri": "https://localhost:8080/"
        },
        "id": "tXJQREI3Fp-J",
        "outputId": "3d911b3e-2d9e-4630-81cc-f6fdadb45ecc"
      },
      "source": [
        "var =\" Indian   Army    \"\n",
        "\n",
        "print(\"String    --> \", var)\n",
        "print(\"Length    --> \", len(var))\n",
        "print(\"var strip --> \", var.strip())\n",
        "print(\"Length of var after strip --> \", len(var.strip()))"
      ],
      "execution_count": null,
      "outputs": [
        {
          "output_type": "stream",
          "text": [
            "String    -->   Indian   Army    \n",
            "Length    -->  18\n",
            "var strip -->  Indian   Army\n",
            "Length of var after strip -->  13\n"
          ],
          "name": "stdout"
        }
      ]
    },
    {
      "cell_type": "markdown",
      "metadata": {
        "id": "_aSibOwQFqFC"
      },
      "source": [
        "---\n",
        "### **8.6 String split**\n",
        "---"
      ]
    },
    {
      "cell_type": "code",
      "metadata": {
        "colab": {
          "base_uri": "https://localhost:8080/"
        },
        "id": "02uwsbaQFqFD",
        "outputId": "d13dedba-6188-476e-d0c5-4221ef0094e0"
      },
      "source": [
        "var =\" Indian,   Army    \"\n",
        "\n",
        "print(\"String    --> \", var)\n",
        "print(\"Length    --> \", len(var))\n",
        "print(\"var split --> \", var.split())\n",
        "print(\"var split --> \", var.split(' '))\n",
        "print(\"var split --> \", var.split(','))\n",
        "\n",
        "# Strip + Split\n",
        "print(\"var split --> \", var.strip().split(','))\n"
      ],
      "execution_count": null,
      "outputs": [
        {
          "output_type": "stream",
          "text": [
            "String    -->   Indian,   Army    \n",
            "Length    -->  19\n",
            "var split -->  ['Indian,', 'Army']\n",
            "var split -->  ['', 'Indian,', '', '', 'Army', '', '', '', '']\n",
            "var split -->  [' Indian', '   Army    ']\n",
            "var split -->  ['Indian', '   Army']\n"
          ],
          "name": "stdout"
        }
      ]
    },
    {
      "cell_type": "markdown",
      "metadata": {
        "id": "TgsO9gfoFqMV"
      },
      "source": [
        "---\n",
        "### **8.7 Count in string**\n",
        "---"
      ]
    },
    {
      "cell_type": "code",
      "metadata": {
        "colab": {
          "base_uri": "https://localhost:8080/"
        },
        "id": "lwrJzwy6FqMV",
        "outputId": "520d3e04-546c-40ec-a438-75567a4bdfcb"
      },
      "source": [
        "var=\" Indian Army    \"\n",
        "print (\"String       --> \", var)\n",
        "print (\"Count of ' ' --> \", var.count(' '))\n",
        "print (\"Count of 'a' --> \", var.count('a'))\n",
        "print (\"Count of 'n' --> \", var.count('an'))"
      ],
      "execution_count": null,
      "outputs": [
        {
          "output_type": "stream",
          "text": [
            "String       -->   Indian Army    \n",
            "Count of ' ' -->  6\n",
            "Count of 'a' -->  1\n",
            "Count of 'n' -->  1\n"
          ],
          "name": "stdout"
        }
      ]
    },
    {
      "cell_type": "markdown",
      "metadata": {
        "id": "RYP11CU5FqUJ"
      },
      "source": [
        "---\n",
        "### **8.8 Reverse a String**\n",
        "---"
      ]
    },
    {
      "cell_type": "code",
      "metadata": {
        "colab": {
          "base_uri": "https://localhost:8080/"
        },
        "id": "QSXd_wfOFqUK",
        "outputId": "594924ca-0e60-44dc-957d-406535e88449"
      },
      "source": [
        "var=\"Indian Army\"\n",
        "print (\"String    --> \", var)\n",
        "print (\"var[::1]  --> \", var[::1])\n",
        "print (\"var[::2]  --> \", var[::2])\n",
        "print (\"var[::-1] --> \", var[::-1])\n",
        "print (\"var[::-2] --> \", var[::-2])\n",
        "\n",
        "var=var[::-1]\n",
        "print (\"var after reverse --> \", var)"
      ],
      "execution_count": null,
      "outputs": [
        {
          "output_type": "stream",
          "text": [
            "String    -->  Indian Army\n",
            "var[::1]  -->  Indian Army\n",
            "var[::2]  -->  Ida ry\n",
            "var[::-1] -->  ymrA naidnI\n",
            "var[::-2] -->  yr adI\n",
            "var after reverse -->  ymrA naidnI\n"
          ],
          "name": "stdout"
        }
      ]
    },
    {
      "cell_type": "markdown",
      "metadata": {
        "id": "E1Ie2pJRGiNz"
      },
      "source": [
        "---\n",
        "### **8.9 Palindrome**\n",
        "---"
      ]
    },
    {
      "cell_type": "code",
      "metadata": {
        "colab": {
          "base_uri": "https://localhost:8080/"
        },
        "id": "-t2FMiSTGiN0",
        "outputId": "bc08d6a1-24f0-488f-fa00-ed44a2865233"
      },
      "source": [
        "s1=\"Indian Army\"\n",
        "s2=\"malayalam\"\n",
        "s3=\"madam\"\n",
        "s4=\"teacher\"\n",
        "print (\"s1 --> \", s1==s1[::-1])\n",
        "print (\"s2 --> \", s2==s2[::-1])\n",
        "print (\"s3 --> \", s3==s3[::-1])\n",
        "print (\"s4 --> \", s4==s4[::-1])"
      ],
      "execution_count": null,
      "outputs": [
        {
          "output_type": "stream",
          "text": [
            "s1 -->  False\n",
            "s2 -->  True\n",
            "s3 -->  True\n",
            "s4 -->  False\n"
          ],
          "name": "stdout"
        }
      ]
    },
    {
      "cell_type": "markdown",
      "metadata": {
        "id": "MpgFLAABG0Nn"
      },
      "source": [
        "---\n",
        "# **9 Random Numbers/String**\n",
        "**Learning:** Generate Random Numbers/String\n",
        "\n",
        "---\n",
        "### **9.1 Generate random number between 0 and 1**"
      ]
    },
    {
      "cell_type": "code",
      "metadata": {
        "colab": {
          "base_uri": "https://localhost:8080/"
        },
        "id": "B2jZpOnRG0Nn",
        "outputId": "7aa3c575-96b4-4c5b-8659-88a061679754"
      },
      "source": [
        "import random as r\n",
        "print (r.random())\n",
        "print (r.random())\n",
        "print (round(r.random(),4))"
      ],
      "execution_count": null,
      "outputs": [
        {
          "output_type": "stream",
          "text": [
            "0.7512486175763348\n",
            "0.5015832763034391\n",
            "0.7335\n"
          ],
          "name": "stdout"
        }
      ]
    },
    {
      "cell_type": "markdown",
      "metadata": {
        "id": "wBI9otLPG0Nn"
      },
      "source": [
        "---\n",
        "### **9.2 Generate random integer number**\n",
        "---"
      ]
    },
    {
      "cell_type": "code",
      "metadata": {
        "colab": {
          "base_uri": "https://localhost:8080/"
        },
        "id": "72NOmyH-G0No",
        "outputId": "d069e11a-9070-44c7-96cc-f6d0b6255002"
      },
      "source": [
        "import random as r\n",
        "print (r.randint(1, 100))\n",
        "print (r.randint(1, 100))\n",
        "print (r.randint(-10, 10))\n",
        "print (r.randint(-10, 10))"
      ],
      "execution_count": null,
      "outputs": [
        {
          "output_type": "stream",
          "text": [
            "88\n",
            "47\n",
            "-5\n",
            "4\n"
          ],
          "name": "stdout"
        }
      ]
    },
    {
      "cell_type": "markdown",
      "metadata": {
        "id": "gFTecYJvG0No"
      },
      "source": [
        "---\n",
        "### **9.3 Generate random real number**\n",
        "---"
      ]
    },
    {
      "cell_type": "code",
      "metadata": {
        "colab": {
          "base_uri": "https://localhost:8080/"
        },
        "id": "vs3jmtqtG0No",
        "outputId": "3b15eac5-363d-4def-c3c1-a06409ed9bca"
      },
      "source": [
        "import random as r\n",
        "print (r.uniform(1, 100))\n",
        "print (r.uniform(1, 100))\n",
        "print (r.uniform (-10, 10))\n",
        "print (r.uniform (-10, 10))\n",
        "print (round(r.uniform (-10, 10),2))"
      ],
      "execution_count": null,
      "outputs": [
        {
          "output_type": "stream",
          "text": [
            "97.39127815370512\n",
            "99.35262788984427\n",
            "1.5886268848088747\n",
            "-4.72371568384482\n",
            "3.54\n"
          ],
          "name": "stdout"
        }
      ]
    },
    {
      "cell_type": "markdown",
      "metadata": {
        "id": "DJ_9Kt4XG0Np"
      },
      "source": [
        "---\n",
        "### **9.4 Select sample from a list of elements**\n",
        "---"
      ]
    },
    {
      "cell_type": "code",
      "metadata": {
        "colab": {
          "base_uri": "https://localhost:8080/"
        },
        "id": "ZVDp33YQG0Np",
        "outputId": "64fe4ee7-df56-4420-fc2c-4a5dd1f2c66e"
      },
      "source": [
        "import random as r\n",
        "\n",
        "A=[1, 2, 3, 4, 5, 6, 7, 8, 9, 10]\n",
        "\n",
        "print (r.sample(A, 4))\n",
        "print (r.sample(A, 2))\n",
        "print (r.sample(range(0,100), 2))\n",
        "print (r.sample(range(-100,100), 5))"
      ],
      "execution_count": null,
      "outputs": [
        {
          "output_type": "stream",
          "text": [
            "[1, 8, 10, 3]\n",
            "[3, 8]\n",
            "[60, 70]\n",
            "[12, -55, 54, -86, 30]\n"
          ],
          "name": "stdout"
        }
      ]
    },
    {
      "cell_type": "markdown",
      "metadata": {
        "id": "cgEXGBtsG0Np"
      },
      "source": [
        "---\n",
        "### **9.5 Generate random string**\n",
        "---"
      ]
    },
    {
      "cell_type": "code",
      "metadata": {
        "colab": {
          "base_uri": "https://localhost:8080/"
        },
        "id": "T-FHSfgfG0Nq",
        "outputId": "ac7eacd3-32fb-4ee9-8d0d-7adbb6750ef3"
      },
      "source": [
        "import string as s\n",
        "import random as r\n",
        "print (\"String        --> \",s.ascii_letters)\n",
        "\n",
        "passwd=r.sample(s.ascii_letters, 6)\n",
        "print (\"Selected Char --> \",passwd)\n",
        "\n",
        "passwd1=\"\".join(passwd)\n",
        "print (\"passwd1       --> \",passwd1)\n",
        "\n",
        "passwd2=\"+\".join(passwd)\n",
        "print (\"passwd2       --> \",passwd2)\n",
        "\n",
        "passwd3=\"*\".join(passwd)\n",
        "print (\"passwd3       --> \",passwd3)\n"
      ],
      "execution_count": null,
      "outputs": [
        {
          "output_type": "stream",
          "text": [
            "String        -->  abcdefghijklmnopqrstuvwxyzABCDEFGHIJKLMNOPQRSTUVWXYZ\n",
            "Selected Char -->  ['h', 's', 'Z', 'l', 'P', 'k']\n",
            "passwd1       -->  hsZlPk\n",
            "passwd2       -->  h+s+Z+l+P+k\n",
            "passwd3       -->  h*s*Z*l*P*k\n"
          ],
          "name": "stdout"
        }
      ]
    },
    {
      "cell_type": "markdown",
      "metadata": {
        "id": "9NFexXG1G0Nq"
      },
      "source": [
        "---\n",
        "### **9.6 Generate random digits**\n",
        "---"
      ]
    },
    {
      "cell_type": "code",
      "metadata": {
        "colab": {
          "base_uri": "https://localhost:8080/"
        },
        "id": "mH0sHuuHG0Nq",
        "outputId": "d8897de6-3ff1-4b1e-e0bc-9f9e96aa4af5"
      },
      "source": [
        "import string as s\n",
        "import random as r\n",
        "print (\"Digits --> \",s.digits)\n",
        "\n",
        "otp=r.sample(s.digits, 5)\n",
        "print (\"Selected num1 --> \",otp)\n",
        "otp=\"\".join(otp)\n",
        "print (\"otp1          --> \",otp)\n",
        "\n",
        "otp=r.sample(s.digits, 5)\n",
        "print (\"Selected num2 --> \",otp)\n",
        "otp=\"\".join(otp)\n",
        "print (\"otp2          --> \",otp)\n",
        "\n",
        "otp=r.sample(s.digits, 5)\n",
        "print (\"Selected num2 --> \",otp)\n",
        "otp=\"\".join(otp)\n",
        "print (\"otp3          --> \",otp)"
      ],
      "execution_count": null,
      "outputs": [
        {
          "output_type": "stream",
          "text": [
            "Digits -->  0123456789\n",
            "Selected num1 -->  ['1', '7', '8', '2', '9']\n",
            "otp1          -->  17829\n",
            "Selected num2 -->  ['1', '3', '9', '5', '2']\n",
            "otp2          -->  13952\n",
            "Selected num2 -->  ['0', '2', '1', '6', '3']\n",
            "otp3          -->  02163\n"
          ],
          "name": "stdout"
        }
      ]
    },
    {
      "cell_type": "markdown",
      "metadata": {
        "id": "1bcIKPDpG0Nr"
      },
      "source": [
        "---\n",
        "### **9.7 Generate random string + digits**\n",
        "---"
      ]
    },
    {
      "cell_type": "code",
      "metadata": {
        "colab": {
          "base_uri": "https://localhost:8080/"
        },
        "id": "BG-ACfp0G0Nr",
        "outputId": "476a595c-72d8-4e1c-dec6-d86255cc7891"
      },
      "source": [
        "import string as s\n",
        "import random as r\n",
        "print (\"String + Digits --> \",s.ascii_letters + s.digits)\n",
        "\n",
        "mixPasswd=r.sample(s.ascii_letters + s.digits, 5)\n",
        "print (\"\\nSelected Str1 --> \",mixPasswd)\n",
        "mixPasswd=\"\".join(mixPasswd)\n",
        "print (\"mixPasswd1    --> \",mixPasswd)\n",
        "\n",
        "mixPasswd=r.sample(s.ascii_letters + s.digits, 6)\n",
        "print (\"\\nSelected Str2 --> \",mixPasswd)\n",
        "mixPasswd=\"\".join(mixPasswd)\n",
        "print (\"mixPasswd2    --> \",mixPasswd)\n",
        "\n",
        "splChar=\"#@!~%^&*()_+=-[]{}|\"\n",
        "mixPasswd=r.sample(splChar + s.ascii_letters + s.digits, 8)\n",
        "print (\"\\nSelected Str3 --> \",mixPasswd)\n",
        "mixPasswd=\"\".join(mixPasswd)\n",
        "print (\"mixPasswd3    --> \",mixPasswd)"
      ],
      "execution_count": null,
      "outputs": [
        {
          "output_type": "stream",
          "text": [
            "String + Digits -->  abcdefghijklmnopqrstuvwxyzABCDEFGHIJKLMNOPQRSTUVWXYZ0123456789\n",
            "\n",
            "Selected Str1 -->  ['e', 'K', 't', 'o', 'R']\n",
            "mixPasswd1    -->  eKtoR\n",
            "\n",
            "Selected Str2 -->  ['D', 'u', 'J', '5', 'T', 'M']\n",
            "mixPasswd2    -->  DuJ5TM\n",
            "\n",
            "Selected Str3 -->  ['p', 'W', '{', 'b', '_', '+', '6', '#']\n",
            "mixPasswd3    -->  pW{b_+6#\n"
          ],
          "name": "stdout"
        }
      ]
    },
    {
      "cell_type": "markdown",
      "metadata": {
        "id": "WcdyFjhzJo9j"
      },
      "source": [
        "---\n",
        "# **10 Exception Handaling**\n",
        "**Learning:** How to handle exceptions\n",
        "\n",
        "---\n",
        "### **10.1 Error Generation**"
      ]
    },
    {
      "cell_type": "code",
      "metadata": {
        "colab": {
          "base_uri": "https://localhost:8080/",
          "height": 284
        },
        "id": "vKJEy_SYJo9k",
        "outputId": "799263a1-1890-448e-d38a-a063b1882da7"
      },
      "source": [
        "for i in range(-5,6):\n",
        "\tprint (\"100/\",i,\" --> \", 100/i)"
      ],
      "execution_count": null,
      "outputs": [
        {
          "output_type": "stream",
          "text": [
            "100/ -5  -->  -20.0\n",
            "100/ -4  -->  -25.0\n",
            "100/ -3  -->  -33.333333333333336\n",
            "100/ -2  -->  -50.0\n",
            "100/ -1  -->  -100.0\n"
          ],
          "name": "stdout"
        },
        {
          "output_type": "error",
          "ename": "ZeroDivisionError",
          "evalue": "ignored",
          "traceback": [
            "\u001b[0;31m---------------------------------------------------------------------------\u001b[0m",
            "\u001b[0;31mZeroDivisionError\u001b[0m                         Traceback (most recent call last)",
            "\u001b[0;32m<ipython-input-39-5eb017879ab5>\u001b[0m in \u001b[0;36m<module>\u001b[0;34m()\u001b[0m\n\u001b[1;32m      1\u001b[0m \u001b[0;32mfor\u001b[0m \u001b[0mi\u001b[0m \u001b[0;32min\u001b[0m \u001b[0mrange\u001b[0m\u001b[0;34m(\u001b[0m\u001b[0;34m-\u001b[0m\u001b[0;36m5\u001b[0m\u001b[0;34m,\u001b[0m\u001b[0;36m6\u001b[0m\u001b[0;34m)\u001b[0m\u001b[0;34m:\u001b[0m\u001b[0;34m\u001b[0m\u001b[0;34m\u001b[0m\u001b[0m\n\u001b[0;32m----> 2\u001b[0;31m         \u001b[0mprint\u001b[0m \u001b[0;34m(\u001b[0m\u001b[0;34m\"100/\"\u001b[0m\u001b[0;34m,\u001b[0m\u001b[0mi\u001b[0m\u001b[0;34m,\u001b[0m\u001b[0;34m\" --> \"\u001b[0m\u001b[0;34m,\u001b[0m \u001b[0;36m100\u001b[0m\u001b[0;34m/\u001b[0m\u001b[0mi\u001b[0m\u001b[0;34m)\u001b[0m\u001b[0;34m\u001b[0m\u001b[0;34m\u001b[0m\u001b[0m\n\u001b[0m",
            "\u001b[0;31mZeroDivisionError\u001b[0m: division by zero"
          ]
        }
      ]
    },
    {
      "cell_type": "markdown",
      "metadata": {
        "id": "ulPZfl8rJo9l"
      },
      "source": [
        "---\n",
        "### **10.2 Exception handaling for division by zero**\n",
        "---"
      ]
    },
    {
      "cell_type": "code",
      "metadata": {
        "colab": {
          "base_uri": "https://localhost:8080/"
        },
        "id": "GY4t0EqjJo9m",
        "outputId": "9a324274-253f-47b6-b2a2-a83701d26e4e"
      },
      "source": [
        "for i in range(-5,6):\n",
        "\ttry:\n",
        "\t\tprint (\"100/\",i,\" --> \", 100/i)\n",
        "\texcept:\n",
        "\t\tprint (\"error\")"
      ],
      "execution_count": null,
      "outputs": [
        {
          "output_type": "stream",
          "text": [
            "100/ -5  -->  -20.0\n",
            "100/ -4  -->  -25.0\n",
            "100/ -3  -->  -33.333333333333336\n",
            "100/ -2  -->  -50.0\n",
            "100/ -1  -->  -100.0\n",
            "error\n",
            "100/ 1  -->  100.0\n",
            "100/ 2  -->  50.0\n",
            "100/ 3  -->  33.333333333333336\n",
            "100/ 4  -->  25.0\n",
            "100/ 5  -->  20.0\n"
          ],
          "name": "stdout"
        }
      ]
    },
    {
      "cell_type": "markdown",
      "metadata": {
        "id": "g1cY_zT3Jo9m"
      },
      "source": [
        "---\n",
        "### **10.3 Exception handaling for array out of index**\n",
        "---"
      ]
    },
    {
      "cell_type": "code",
      "metadata": {
        "colab": {
          "base_uri": "https://localhost:8080/"
        },
        "id": "m1rBOUB3Jo9n",
        "outputId": "2fec1232-4f5a-4ced-e0e9-531222be5bd7"
      },
      "source": [
        "L=[1,2,3,4,5]\n",
        "\n",
        "for i in range(8):\n",
        "\ttry:\n",
        "\t\tprint (i,\" --> \",L[i])\n",
        "\texcept:\n",
        "\t\tprint (\"error\")"
      ],
      "execution_count": null,
      "outputs": [
        {
          "output_type": "stream",
          "text": [
            "0  -->  1\n",
            "1  -->  2\n",
            "2  -->  3\n",
            "3  -->  4\n",
            "4  -->  5\n",
            "error\n",
            "error\n",
            "error\n"
          ],
          "name": "stdout"
        }
      ]
    },
    {
      "cell_type": "markdown",
      "metadata": {
        "id": "kH8CATzbJo9o"
      },
      "source": [
        "---\n",
        "### **10.4 Exception handaling for file not found**\n",
        "---"
      ]
    },
    {
      "cell_type": "code",
      "metadata": {
        "colab": {
          "base_uri": "https://localhost:8080/",
          "height": 247
        },
        "id": "zZ7ns4K3Jo9o",
        "outputId": "f9528caa-006f-4fca-8ec3-52ef62c15496"
      },
      "source": [
        "fileName=input(\"Enter File Name: \")\n",
        "fp=open(fileName)\t# Open the file in reading mode\n",
        "fp.close()\n",
        "print (\"Done\")"
      ],
      "execution_count": null,
      "outputs": [
        {
          "output_type": "stream",
          "text": [
            "Enter File Name: SampleFile.csv\n"
          ],
          "name": "stdout"
        },
        {
          "output_type": "error",
          "ename": "FileNotFoundError",
          "evalue": "ignored",
          "traceback": [
            "\u001b[0;31m---------------------------------------------------------------------------\u001b[0m",
            "\u001b[0;31mFileNotFoundError\u001b[0m                         Traceback (most recent call last)",
            "\u001b[0;32m<ipython-input-42-df3155df6860>\u001b[0m in \u001b[0;36m<module>\u001b[0;34m()\u001b[0m\n\u001b[1;32m      1\u001b[0m \u001b[0mfileName\u001b[0m\u001b[0;34m=\u001b[0m\u001b[0minput\u001b[0m\u001b[0;34m(\u001b[0m\u001b[0;34m\"Enter File Name: \"\u001b[0m\u001b[0;34m)\u001b[0m\u001b[0;34m\u001b[0m\u001b[0;34m\u001b[0m\u001b[0m\n\u001b[0;32m----> 2\u001b[0;31m \u001b[0mfp\u001b[0m\u001b[0;34m=\u001b[0m\u001b[0mopen\u001b[0m\u001b[0;34m(\u001b[0m\u001b[0mfileName\u001b[0m\u001b[0;34m)\u001b[0m       \u001b[0;31m# Open the file in reading mode\u001b[0m\u001b[0;34m\u001b[0m\u001b[0;34m\u001b[0m\u001b[0m\n\u001b[0m\u001b[1;32m      3\u001b[0m \u001b[0mfp\u001b[0m\u001b[0;34m.\u001b[0m\u001b[0mclose\u001b[0m\u001b[0;34m(\u001b[0m\u001b[0;34m)\u001b[0m\u001b[0;34m\u001b[0m\u001b[0;34m\u001b[0m\u001b[0m\n\u001b[1;32m      4\u001b[0m \u001b[0mprint\u001b[0m \u001b[0;34m(\u001b[0m\u001b[0;34m\"Done\"\u001b[0m\u001b[0;34m)\u001b[0m\u001b[0;34m\u001b[0m\u001b[0;34m\u001b[0m\u001b[0m\n",
            "\u001b[0;31mFileNotFoundError\u001b[0m: [Errno 2] No such file or directory: 'SampleFile.csv'"
          ]
        }
      ]
    },
    {
      "cell_type": "markdown",
      "metadata": {
        "id": "D4bffbZQJo9p"
      },
      "source": [
        "---\n",
        "### **10.5 Exception handaling for file not found**\n",
        "---"
      ]
    },
    {
      "cell_type": "code",
      "metadata": {
        "colab": {
          "base_uri": "https://localhost:8080/"
        },
        "id": "dt3X92CyJo9q",
        "outputId": "c8fabf60-befe-4a7b-d824-8beb1a4d0519"
      },
      "source": [
        "fileName=input(\"Enter File Name: \")\n",
        "try:\n",
        "\tfp=open(fileName)\t# Open the file in reading mode\n",
        "\tfp.close()\n",
        "except:\n",
        "\tprint (\"Error !! \\\"%s\\\" File Not Found\"%(fileName))\n",
        "\n",
        "print (\"Done\")"
      ],
      "execution_count": null,
      "outputs": [
        {
          "output_type": "stream",
          "text": [
            "Enter File Name: test.csv\n",
            "Error !! \"test.csv\" File Not Found\n",
            "Done\n"
          ],
          "name": "stdout"
        }
      ]
    },
    {
      "cell_type": "markdown",
      "metadata": {
        "id": "F5w6mKSaPcaj"
      },
      "source": [
        "---\n",
        "# **11 Data Structure 1 - List**\n",
        "**Learning:** How to use list, add, delete and search in the list.\n",
        "\n",
        "**Note:** Read more about list and try yourself\n",
        "\n",
        "---\n",
        "### **11.1 List Declaration**\n"
      ]
    },
    {
      "cell_type": "code",
      "metadata": {
        "colab": {
          "base_uri": "https://localhost:8080/"
        },
        "id": "nYnqBFRzPcas",
        "outputId": "75896dff-cfc4-4082-9381-12597364642b"
      },
      "source": [
        "L = [\"Pratham\",  'Sharma', 3.14,  3 ]\n",
        "print (\"Original List: \", L)\n",
        "print (\"Number of elements in list: \", len(L))"
      ],
      "execution_count": null,
      "outputs": [
        {
          "output_type": "stream",
          "text": [
            "Original List:  ['Pratham', 'Sharma', 3.14, 3]\n",
            "Number of elements in list:  4\n"
          ],
          "name": "stdout"
        }
      ]
    },
    {
      "cell_type": "markdown",
      "metadata": {
        "id": "xyP5tZ7IPcat"
      },
      "source": [
        "---\n",
        "### **11.2 List Iteration**\n",
        "---"
      ]
    },
    {
      "cell_type": "code",
      "metadata": {
        "colab": {
          "base_uri": "https://localhost:8080/"
        },
        "id": "TIalxne5Pcat",
        "outputId": "5674a59c-235b-4ce9-fa39-e0fddfdd5212"
      },
      "source": [
        "L = [\"Pratham\",  'Sharma', 3.14,  3 ]\n",
        "print (\"Original List: \", L)\n",
        "i=0\n",
        "while i < len(L): \n",
        "\tprint (L[i])\n",
        "\ti+=1"
      ],
      "execution_count": null,
      "outputs": [
        {
          "output_type": "stream",
          "text": [
            "Original List:  ['Pratham', 'Sharma', 3.14, 3]\n",
            "Pratham\n",
            "Sharma\n",
            "3.14\n",
            "3\n"
          ],
          "name": "stdout"
        }
      ]
    },
    {
      "cell_type": "markdown",
      "metadata": {
        "id": "fpkfQhktPcau"
      },
      "source": [
        "---\n",
        "### **11.3 List Iteration using for loop**\n",
        "---"
      ]
    },
    {
      "cell_type": "code",
      "metadata": {
        "colab": {
          "base_uri": "https://localhost:8080/"
        },
        "id": "p6mVPS1pPcau",
        "outputId": "2dccab82-5f6a-41e7-e4f4-d79dc96c205a"
      },
      "source": [
        "L = [\"Pratham\",  'Sharma', 3.14,  3 ]\n",
        "print (\"Original List: \", L)\n",
        "for i in range(0, len(L)):\n",
        "\tprint (L[i])"
      ],
      "execution_count": null,
      "outputs": [
        {
          "output_type": "stream",
          "text": [
            "Original List:  ['Pratham', 'Sharma', 3.14, 3]\n",
            "Pratham\n",
            "Sharma\n",
            "3.14\n",
            "3\n"
          ],
          "name": "stdout"
        }
      ]
    },
    {
      "cell_type": "markdown",
      "metadata": {
        "id": "CouKDMO1Pcav"
      },
      "source": [
        "---\n",
        "### **11.4 List Iteration using for loop**\n",
        "---"
      ]
    },
    {
      "cell_type": "code",
      "metadata": {
        "colab": {
          "base_uri": "https://localhost:8080/"
        },
        "id": "yT0MDFBJPcaw",
        "outputId": "79a9a0f2-ef79-4232-88dc-286999cd6d19"
      },
      "source": [
        "L = [\"Pratham\",  'Sharma', 3.14,  3 ]\n",
        "print (\"Original List --> \", L)\n",
        "for s in L:\n",
        "\tprint (s)"
      ],
      "execution_count": null,
      "outputs": [
        {
          "output_type": "stream",
          "text": [
            "Original List -->  ['Pratham', 'Sharma', 3.14, 3]\n",
            "Pratham\n",
            "Sharma\n",
            "3.14\n",
            "3\n"
          ],
          "name": "stdout"
        }
      ]
    },
    {
      "cell_type": "markdown",
      "metadata": {
        "id": "XeroS2dsPcay"
      },
      "source": [
        "---\n",
        "### **11.5 Adding and deleting from list**\n",
        "---"
      ]
    },
    {
      "cell_type": "code",
      "metadata": {
        "colab": {
          "base_uri": "https://localhost:8080/"
        },
        "id": "rWUOXQitPcay",
        "outputId": "27c3825f-be83-4379-9d26-e0f9efb1d0bc"
      },
      "source": [
        "L = [\"Pratham\",  'Sharma', 3.14,  3 ]\n",
        "print (\"Original List       --> \", L)\n",
        "\n",
        "L.append(\"Rahul\")\n",
        "print (\"List After Adding   --> \", L)\n",
        "\n",
        "del L[1]\n",
        "print (\"List After Deleting --> \", L)"
      ],
      "execution_count": null,
      "outputs": [
        {
          "output_type": "stream",
          "text": [
            "Original List       -->  ['Pratham', 'Sharma', 3.14, 3]\n",
            "List After Adding   -->  ['Pratham', 'Sharma', 3.14, 3, 'Rahul']\n",
            "List After Deleting -->  ['Pratham', 3.14, 3, 'Rahul']\n"
          ],
          "name": "stdout"
        }
      ]
    },
    {
      "cell_type": "markdown",
      "metadata": {
        "id": "_DxAr9ZfPcaz"
      },
      "source": [
        "---\n",
        "### **11.6 Sum/Average of List**\n",
        "---"
      ]
    },
    {
      "cell_type": "code",
      "metadata": {
        "colab": {
          "base_uri": "https://localhost:8080/"
        },
        "id": "taKMcEajPca1",
        "outputId": "6d953543-b1e3-4554-e28c-0f6553fbe22f"
      },
      "source": [
        "L=[3, 6, 9, 12, 5, 3, 2]\n",
        "print (\"Original List --> \", L)\n",
        "\n",
        "print (\"Sum     --> \", sum(L))\n",
        "print (\"Average --> \", sum(L)/len(L))\n",
        "print (\"Average --> \", sum(L)//len(L))\n",
        "\n",
        "print (\"L * 3   --> \", L * 3)     # Every element get tripled\n",
        "print (\"L + L   --> \", L + L)     # Every element get doubled"
      ],
      "execution_count": null,
      "outputs": [
        {
          "output_type": "stream",
          "text": [
            "Original List -->  [3, 6, 9, 12, 5, 3, 2]\n",
            "Sum     -->  40\n",
            "Average -->  5.714285714285714\n",
            "Average -->  5\n",
            "L * 3   -->  [3, 6, 9, 12, 5, 3, 2, 3, 6, 9, 12, 5, 3, 2, 3, 6, 9, 12, 5, 3, 2]\n",
            "L + L   -->  [3, 6, 9, 12, 5, 3, 2, 3, 6, 9, 12, 5, 3, 2]\n"
          ],
          "name": "stdout"
        }
      ]
    },
    {
      "cell_type": "markdown",
      "metadata": {
        "id": "2SIEcqKePca1"
      },
      "source": [
        "---\n",
        "### **11.7 Min/Max/Sort the list**\n",
        "---"
      ]
    },
    {
      "cell_type": "code",
      "metadata": {
        "colab": {
          "base_uri": "https://localhost:8080/"
        },
        "id": "NUsOwblSPca1",
        "outputId": "eb8f00cd-0cdb-45c8-df00-94d8cace3534"
      },
      "source": [
        "L=[3, 6, 9, 12, 5, 3, 2]\n",
        "print (\"Original List --> \", L)\n",
        "\n",
        "print (\"max --> \", max(L))\n",
        "print (\"min --> \", min(L))\n",
        "\n",
        "print (\"\\nBefore Sort            --> \", L)\n",
        "L.sort()\n",
        "\n",
        "print (\"After Sort (Asending)  --> \", L)\n",
        "\n",
        "L.sort(reverse=True)\n",
        "print (\"After Sort (Desending) --> \", L)"
      ],
      "execution_count": null,
      "outputs": [
        {
          "output_type": "stream",
          "text": [
            "Original List -->  [3, 6, 9, 12, 5, 3, 2]\n",
            "max -->  12\n",
            "min -->  2\n",
            "\n",
            "Before Sort            -->  [3, 6, 9, 12, 5, 3, 2]\n",
            "After Sort (Asending)  -->  [2, 3, 3, 5, 6, 9, 12]\n",
            "After Sort (Desending) -->  [12, 9, 6, 5, 3, 3, 2]\n"
          ],
          "name": "stdout"
        }
      ]
    },
    {
      "cell_type": "markdown",
      "metadata": {
        "id": "pX_P07ODQoQM"
      },
      "source": [
        "---\n",
        "### **11.8 Merge lists and select elements**\n",
        "---"
      ]
    },
    {
      "cell_type": "code",
      "metadata": {
        "colab": {
          "base_uri": "https://localhost:8080/"
        },
        "id": "pf8csu4yQoQO",
        "outputId": "136ff95d-91e5-4770-9ce6-d74148629add"
      },
      "source": [
        "L1 = [3, 6, 9]\n",
        "L2 = [12, 5, 3, 2]\n",
        "L3 = L1 + L2\n",
        "print (\"L1 --> \",L1)\n",
        "print (\"L2 --> \",L2)\n",
        "print (\"L3 --> \",L3)\n",
        "\n",
        "print (\"\\nL3[2:]  --> \",L3[2:])\n",
        "print (\"L3[2:5] --> \",L3[2:5])\n",
        "print (\"L3[:-1] --> \",L3[:-1])\n",
        "print (\"L3[::2] --> \",L3[::2])"
      ],
      "execution_count": null,
      "outputs": [
        {
          "output_type": "stream",
          "text": [
            "L1 -->  [3, 6, 9]\n",
            "L2 -->  [12, 5, 3, 2]\n",
            "L3 -->  [3, 6, 9, 12, 5, 3, 2]\n",
            "\n",
            "L3[2:]  -->  [9, 12, 5, 3, 2]\n",
            "L3[2:5] -->  [9, 12, 5]\n",
            "L3[:-1] -->  [3, 6, 9, 12, 5, 3]\n",
            "L3[::2] -->  [3, 9, 5, 2]\n"
          ],
          "name": "stdout"
        }
      ]
    },
    {
      "cell_type": "markdown",
      "metadata": {
        "id": "2fxU9VLhQpGB"
      },
      "source": [
        "---\n",
        "### **11.9 Multiply all elements of the list by a constant**\n",
        "---"
      ]
    },
    {
      "cell_type": "code",
      "metadata": {
        "colab": {
          "base_uri": "https://localhost:8080/"
        },
        "id": "Karxlcp6QpGC",
        "outputId": "27cd26f2-cf28-4328-a088-8f6ed75f3d53"
      },
      "source": [
        "L = [12, 5, 3, 2, 7]\n",
        "print (\"Original List --> \", L)\n",
        "\n",
        "newL = [ i * 5 for i in L ]\n",
        "print (\"After Multiply with constant --> \", newL)"
      ],
      "execution_count": null,
      "outputs": [
        {
          "output_type": "stream",
          "text": [
            "Original List -->  [12, 5, 3, 2, 7]\n",
            "After Multiply with constant -->  [60, 25, 15, 10, 35]\n"
          ],
          "name": "stdout"
        }
      ]
    },
    {
      "cell_type": "markdown",
      "metadata": {
        "id": "S9_QezrcQpQ9"
      },
      "source": [
        "---\n",
        "### **11.10 Searching in the list**\n",
        "---"
      ]
    },
    {
      "cell_type": "code",
      "metadata": {
        "colab": {
          "base_uri": "https://localhost:8080/"
        },
        "id": "ZptMehxhQpQ9",
        "outputId": "fdaf258e-90d3-4e6e-d06c-094ad056e023"
      },
      "source": [
        "L=[3, 6, 9, 12, 5, 3, 2]\n",
        "print (\"Original List --> \", 6 in L)\n",
        "print (\"Original List --> \", 10 in L)\n",
        "print (\"Original List --> \", 12 in L)\n",
        "\n",
        "if (6 in L) == True:\n",
        "\tprint (\"Present\")\n",
        "else:\n",
        "\tprint (\"Not Present\")\n",
        "\n",
        "if 10 in L == False:\n",
        "\tprint (\"Not Present\")\n",
        "else:\n",
        "\tprint (\"Present\")"
      ],
      "execution_count": null,
      "outputs": [
        {
          "output_type": "stream",
          "text": [
            "Original List -->  True\n",
            "Original List -->  False\n",
            "Original List -->  True\n",
            "Present\n",
            "Present\n"
          ],
          "name": "stdout"
        }
      ]
    },
    {
      "cell_type": "markdown",
      "metadata": {
        "id": "zHAa4y1BScFQ"
      },
      "source": [
        "---\n",
        "# **12 Data Structure 2 - Dictionary**\n",
        "**Learning:** How to use Dictionary, add, delete, search in Dictionary\n",
        "\n",
        "**Note:** Read more about Dictionary and try yourself\n",
        "\n",
        "---\n",
        "### **12.1 Declare Dictionary**"
      ]
    },
    {
      "cell_type": "code",
      "metadata": {
        "colab": {
          "base_uri": "https://localhost:8080/",
          "height": 303
        },
        "id": "T7Q4GKPaScFS",
        "outputId": "cb279f68-3e4b-45b3-8547-c226fcfc5ce8"
      },
      "source": [
        "CGPA={1:8.9, 2:5.6, 4:6.7, 7:9.1, 8:5.3}\n",
        "print (\"Dictionary      --> \", CGPA)\n",
        "print (\"Num of elements --> \", len(CGPA))\n",
        "\n",
        "print (\"CGPA of 1       --> \", CGPA[1])\n",
        "print (\"CGPA of 4       --> \", CGPA[4])\n",
        "print (\"CGPA of 7       --> \", CGPA[7])\n",
        "print (\"CGPA of 3       --> \", CGPA[3])"
      ],
      "execution_count": null,
      "outputs": [
        {
          "output_type": "stream",
          "text": [
            "Dictionary      -->  {1: 8.9, 2: 5.6, 4: 6.7, 7: 9.1, 8: 5.3}\n",
            "Num of elements -->  5\n",
            "CGPA of 1       -->  8.9\n",
            "CGPA of 4       -->  6.7\n",
            "CGPA of 7       -->  9.1\n"
          ],
          "name": "stdout"
        },
        {
          "output_type": "error",
          "ename": "KeyError",
          "evalue": "ignored",
          "traceback": [
            "\u001b[0;31m---------------------------------------------------------------------------\u001b[0m",
            "\u001b[0;31mKeyError\u001b[0m                                  Traceback (most recent call last)",
            "\u001b[0;32m<ipython-input-54-598d6ecb7ab2>\u001b[0m in \u001b[0;36m<module>\u001b[0;34m()\u001b[0m\n\u001b[1;32m      6\u001b[0m \u001b[0mprint\u001b[0m \u001b[0;34m(\u001b[0m\u001b[0;34m\"CGPA of 4       --> \"\u001b[0m\u001b[0;34m,\u001b[0m \u001b[0mCGPA\u001b[0m\u001b[0;34m[\u001b[0m\u001b[0;36m4\u001b[0m\u001b[0;34m]\u001b[0m\u001b[0;34m)\u001b[0m\u001b[0;34m\u001b[0m\u001b[0;34m\u001b[0m\u001b[0m\n\u001b[1;32m      7\u001b[0m \u001b[0mprint\u001b[0m \u001b[0;34m(\u001b[0m\u001b[0;34m\"CGPA of 7       --> \"\u001b[0m\u001b[0;34m,\u001b[0m \u001b[0mCGPA\u001b[0m\u001b[0;34m[\u001b[0m\u001b[0;36m7\u001b[0m\u001b[0;34m]\u001b[0m\u001b[0;34m)\u001b[0m\u001b[0;34m\u001b[0m\u001b[0;34m\u001b[0m\u001b[0m\n\u001b[0;32m----> 8\u001b[0;31m \u001b[0mprint\u001b[0m \u001b[0;34m(\u001b[0m\u001b[0;34m\"CGPA of 3       --> \"\u001b[0m\u001b[0;34m,\u001b[0m \u001b[0mCGPA\u001b[0m\u001b[0;34m[\u001b[0m\u001b[0;36m3\u001b[0m\u001b[0;34m]\u001b[0m\u001b[0;34m)\u001b[0m\u001b[0;34m\u001b[0m\u001b[0;34m\u001b[0m\u001b[0m\n\u001b[0m",
            "\u001b[0;31mKeyError\u001b[0m: 3"
          ]
        }
      ]
    },
    {
      "cell_type": "markdown",
      "metadata": {
        "id": "BxbeipLlScFS"
      },
      "source": [
        "---\n",
        "### **12.2 Triverse dictionary**\n",
        "---"
      ]
    },
    {
      "cell_type": "code",
      "metadata": {
        "colab": {
          "base_uri": "https://localhost:8080/"
        },
        "id": "iWXBcVNTScFT",
        "outputId": "5e82b4d3-1d6f-42de-e2fc-a622de21f788"
      },
      "source": [
        "CGPA={1:8.9, 2:5.6, 4:6.7, 7:9.1, 8:5.3}\n",
        "for k in CGPA:\n",
        "\tprint (\"CGPA of \", k, \" --> \", CGPA[k])"
      ],
      "execution_count": null,
      "outputs": [
        {
          "output_type": "stream",
          "text": [
            "CGPA of  1  -->  8.9\n",
            "CGPA of  2  -->  5.6\n",
            "CGPA of  4  -->  6.7\n",
            "CGPA of  7  -->  9.1\n",
            "CGPA of  8  -->  5.3\n"
          ],
          "name": "stdout"
        }
      ]
    },
    {
      "cell_type": "markdown",
      "metadata": {
        "id": "O721iFiOScFT"
      },
      "source": [
        "---\n",
        "### **12.3 Getting Keys and Values**\n",
        "---"
      ]
    },
    {
      "cell_type": "code",
      "metadata": {
        "colab": {
          "base_uri": "https://localhost:8080/"
        },
        "id": "dnPH-GCyScFU",
        "outputId": "6e824afc-ef7b-4b98-e6fb-4b09f7fb3430"
      },
      "source": [
        "CGPA={1:8.9, 2:5.6, 4:6.7, 7:9.1, 8:5.3}\n",
        "print (\"Dictionary --> \", CGPA)\n",
        "print (\"Keys       --> \", list(CGPA.keys()))\n",
        "print (\"Values     --> \", list(CGPA.values()))"
      ],
      "execution_count": null,
      "outputs": [
        {
          "output_type": "stream",
          "text": [
            "Dictionary -->  {1: 8.9, 2: 5.6, 4: 6.7, 7: 9.1, 8: 5.3}\n",
            "Keys       -->  [1, 2, 4, 7, 8]\n",
            "Values     -->  [8.9, 5.6, 6.7, 9.1, 5.3]\n"
          ],
          "name": "stdout"
        }
      ]
    },
    {
      "cell_type": "markdown",
      "metadata": {
        "id": "v2ooUfguScFV"
      },
      "source": [
        "---\n",
        "### **12.4 Updating, Adding and Deleting from Dictionary**\n",
        "---"
      ]
    },
    {
      "cell_type": "code",
      "metadata": {
        "colab": {
          "base_uri": "https://localhost:8080/",
          "height": 303
        },
        "id": "zO_QA0GNScFV",
        "outputId": "59cef6de-2f0a-43be-f64c-f54ef4369bb4"
      },
      "source": [
        "CGPA={1:8.9,2:5.6,4:6.7,7:9.1,8:5.3}\n",
        "print (\"Original Dictionary --> \", CGPA)\n",
        "\n",
        "CGPA[4] = 9.2\n",
        "print (\"After Updating (4)  --> \", CGPA)\n",
        "\n",
        "CGPA[3] = 8.6\n",
        "print (\"After Adding (3)    --> \", CGPA)\n",
        "\n",
        "del CGPA[1]\n",
        "print (\"After Deleting (1)  --> \", CGPA)\n",
        "\n",
        "CGPA.clear()\n",
        "print (\"After Clear         --> \", CGPA)\n",
        "\n",
        "del CGPA\n",
        "print (\"After Delete        --> \", CGPA)"
      ],
      "execution_count": null,
      "outputs": [
        {
          "output_type": "stream",
          "text": [
            "Original Dictionary -->  {1: 8.9, 2: 5.6, 4: 6.7, 7: 9.1, 8: 5.3}\n",
            "After Updating (4)  -->  {1: 8.9, 2: 5.6, 4: 9.2, 7: 9.1, 8: 5.3}\n",
            "After Adding (3)    -->  {1: 8.9, 2: 5.6, 4: 9.2, 7: 9.1, 8: 5.3, 3: 8.6}\n",
            "After Deleting (1)  -->  {2: 5.6, 4: 9.2, 7: 9.1, 8: 5.3, 3: 8.6}\n",
            "After Clear         -->  {}\n"
          ],
          "name": "stdout"
        },
        {
          "output_type": "error",
          "ename": "NameError",
          "evalue": "ignored",
          "traceback": [
            "\u001b[0;31m---------------------------------------------------------------------------\u001b[0m",
            "\u001b[0;31mNameError\u001b[0m                                 Traceback (most recent call last)",
            "\u001b[0;32m<ipython-input-57-81104b3723b2>\u001b[0m in \u001b[0;36m<module>\u001b[0;34m()\u001b[0m\n\u001b[1;32m     15\u001b[0m \u001b[0;34m\u001b[0m\u001b[0m\n\u001b[1;32m     16\u001b[0m \u001b[0;32mdel\u001b[0m \u001b[0mCGPA\u001b[0m\u001b[0;34m\u001b[0m\u001b[0;34m\u001b[0m\u001b[0m\n\u001b[0;32m---> 17\u001b[0;31m \u001b[0mprint\u001b[0m \u001b[0;34m(\u001b[0m\u001b[0;34m\"After Delete        --> \"\u001b[0m\u001b[0;34m,\u001b[0m \u001b[0mCGPA\u001b[0m\u001b[0;34m)\u001b[0m\u001b[0;34m\u001b[0m\u001b[0;34m\u001b[0m\u001b[0m\n\u001b[0m",
            "\u001b[0;31mNameError\u001b[0m: name 'CGPA' is not defined"
          ]
        }
      ]
    },
    {
      "cell_type": "markdown",
      "metadata": {
        "id": "8SPV0FVyScFW"
      },
      "source": [
        "---\n",
        "### **12.5 Checking for Key in Dictionary**\n",
        "---"
      ]
    },
    {
      "cell_type": "code",
      "metadata": {
        "colab": {
          "base_uri": "https://localhost:8080/"
        },
        "id": "Bwt-yAtpScFW",
        "outputId": "effceb1d-b3af-4edc-8ce2-454f1e65642f"
      },
      "source": [
        "CGPA={1:8.9, 2:5.6, 4:6.7, 7:9.1, 8:5.3}\n",
        "print (\"Original Dictionary --> \", CGPA)\n",
        "print (\"Is Key 2 Present    --> \", 2 in CGPA)\n",
        "print (\"Is Key 9 Present    --> \", 9 in CGPA)"
      ],
      "execution_count": null,
      "outputs": [
        {
          "output_type": "stream",
          "text": [
            "Original Dictionary -->  {1: 8.9, 2: 5.6, 4: 6.7, 7: 9.1, 8: 5.3}\n",
            "Is Key 2 Present    -->  True\n",
            "Is Key 9 Present    -->  False\n"
          ],
          "name": "stdout"
        }
      ]
    },
    {
      "cell_type": "markdown",
      "metadata": {
        "id": "_KifQnHnScFX"
      },
      "source": [
        "---\n",
        "### **12.6 More example1**\n",
        "---"
      ]
    },
    {
      "cell_type": "code",
      "metadata": {
        "colab": {
          "base_uri": "https://localhost:8080/"
        },
        "id": "tM4fQro9ScFZ",
        "outputId": "0fae7659-153f-428a-c06f-be64b001f00e"
      },
      "source": [
        "HomeTown={\"Prashant\":\"Delhi\", \"Govind\":\"Gwalior\", \"Anil\":\"Morena\", \"Pankaj\":\"Agra\"}\n",
        "print (\"Original Dictionary --> \", HomeTown)\n",
        "print (\"Home Town of Prashant is --> \", HomeTown[\"Prashant\"])\n",
        "print (\"Home Town of Govind is   --> \", HomeTown[\"Govind\"])\n",
        "print (\"Home Town of Anil is     --> \", HomeTown[\"Anil\"])\n",
        "print (\"Home Town of Pankaj is   --> \", HomeTown[\"Pankaj\"])\n"
      ],
      "execution_count": null,
      "outputs": [
        {
          "output_type": "stream",
          "text": [
            "Original Dictionary -->  {'Prashant': 'Delhi', 'Govind': 'Gwalior', 'Anil': 'Morena', 'Pankaj': 'Agra'}\n",
            "Home Town of Prashant is -->  Delhi\n",
            "Home Town of Govind is   -->  Gwalior\n",
            "Home Town of Anil is     -->  Morena\n",
            "Home Town of Pankaj is   -->  Agra\n"
          ],
          "name": "stdout"
        }
      ]
    },
    {
      "cell_type": "markdown",
      "metadata": {
        "id": "ZQIFxo4GScFa"
      },
      "source": [
        "---\n",
        "### **12.7 More example2**\n",
        "---"
      ]
    },
    {
      "cell_type": "code",
      "metadata": {
        "colab": {
          "base_uri": "https://localhost:8080/"
        },
        "id": "hOADMSpvScFa",
        "outputId": "b3418002-b0ed-410f-f6c9-55a0f3158b88"
      },
      "source": [
        "HomeTown={\"Prashant\":\"Delhi\", \"Govind\":\"Gwalior\", \"Anil\":\"Morena\", \"Pankaj\":\"Agra\"}\n",
        "print (\"Original Dictionary --> \", HomeTown)\n",
        "\n",
        "for d in HomeTown:\n",
        "\tprint (\"Home Town of \", d, \" is  --> \", HomeTown[d])"
      ],
      "execution_count": null,
      "outputs": [
        {
          "output_type": "stream",
          "text": [
            "Original Dictionary -->  {'Prashant': 'Delhi', 'Govind': 'Gwalior', 'Anil': 'Morena', 'Pankaj': 'Agra'}\n",
            "Home Town of  Prashant  is  -->  Delhi\n",
            "Home Town of  Govind  is  -->  Gwalior\n",
            "Home Town of  Anil  is  -->  Morena\n",
            "Home Town of  Pankaj  is  -->  Agra\n"
          ],
          "name": "stdout"
        }
      ]
    },
    {
      "cell_type": "markdown",
      "metadata": {
        "id": "Hom72Xe6Z1sJ"
      },
      "source": [
        "---\n",
        "# **13 Data Structure 3 - Tuple**\n",
        "\n",
        "**Learning:** How to use Tuple, add, delete, search in Tuple\n",
        "\n",
        "**Note:** Read more about Tuple and try yourself\n",
        "\n",
        "---\n",
        "### **13.1 Declare Tuple**"
      ]
    },
    {
      "cell_type": "code",
      "metadata": {
        "colab": {
          "base_uri": "https://localhost:8080/"
        },
        "id": "au4DzzGyFysT",
        "outputId": "0b0400d0-99ce-4161-f3ed-519f7400ffc5"
      },
      "source": [
        "# Method 1\n",
        "T = (\"Pratham\", 'Sharma', 3.14, 3)\n",
        "\n",
        "print (\"T               -->\", T)\n",
        "print (\"Num of elements -->\", len(T))\n",
        "print (\"Type of Object  -->\", type(T))"
      ],
      "execution_count": null,
      "outputs": [
        {
          "output_type": "stream",
          "text": [
            "T               --> ('Pratham', 'Sharma', 3.14, 3)\n",
            "Num of elements --> 4\n",
            "Type of Object  --> <class 'tuple'>\n"
          ],
          "name": "stdout"
        }
      ]
    },
    {
      "cell_type": "code",
      "metadata": {
        "colab": {
          "base_uri": "https://localhost:8080/"
        },
        "id": "6w09RiHeF-Io",
        "outputId": "2c368a8c-c5bc-43cc-854a-fee6c8185cba"
      },
      "source": [
        "# Method 2\n",
        "T = tuple([\"Pratham\", 'Sharma', 3.14, 3])   # Convert list to tuple\n",
        "#T = tuple((\"Pratham\", 'Sharma', 3.14, 3))  # Also Works\n",
        "\n",
        "print (\"T               -->\", T)\n",
        "print (\"Num of elements -->\", len(T))\n",
        "print (\"Type of Object  -->\", type(T))"
      ],
      "execution_count": null,
      "outputs": [
        {
          "output_type": "stream",
          "text": [
            "T               --> ('Pratham', 'Sharma', 3.14, 3)\n",
            "Num of elements --> 4\n",
            "Type of Object  --> <class 'tuple'>\n"
          ],
          "name": "stdout"
        }
      ]
    },
    {
      "cell_type": "markdown",
      "metadata": {
        "id": "sC3XhTJtFysW"
      },
      "source": [
        "---\n",
        "### **13.2 Tuple Iteration**\n",
        "---"
      ]
    },
    {
      "cell_type": "code",
      "metadata": {
        "colab": {
          "base_uri": "https://localhost:8080/"
        },
        "id": "pama9SlbFysX",
        "outputId": "9b100c56-ffdc-464d-bbf3-c34ba7a6a55c"
      },
      "source": [
        "T = (\"Pratham\", 'Sharma', 3.14, 3)\n",
        "print (\"T -->\", T)\n",
        "\n",
        "i = 0\n",
        "while i < len(T): \n",
        "    print (T[i])\n",
        "    i += 1"
      ],
      "execution_count": null,
      "outputs": [
        {
          "output_type": "stream",
          "text": [
            "T --> ('Pratham', 'Sharma', 3.14, 3)\n",
            "Pratham\n",
            "Sharma\n",
            "3.14\n",
            "3\n"
          ],
          "name": "stdout"
        }
      ]
    },
    {
      "cell_type": "markdown",
      "metadata": {
        "id": "Xk0P6u4BFysY"
      },
      "source": [
        "---\n",
        "### **13.3 Tuple iteration using for loop**\n",
        "---"
      ]
    },
    {
      "cell_type": "code",
      "metadata": {
        "colab": {
          "base_uri": "https://localhost:8080/"
        },
        "id": "N73bUXRDFysZ",
        "outputId": "af8e2b82-d097-4f31-f5ec-59ac3643e5db"
      },
      "source": [
        "T = (\"Pratham\", 'Sharma', 3.14, 3)\n",
        "print (\"T -->\", T)\n",
        "\n",
        "for i in range(0, len(T)):\n",
        "    print (T[i])"
      ],
      "execution_count": null,
      "outputs": [
        {
          "output_type": "stream",
          "text": [
            "T --> ('Pratham', 'Sharma', 3.14, 3)\n",
            "Pratham\n",
            "Sharma\n",
            "3.14\n",
            "3\n"
          ],
          "name": "stdout"
        }
      ]
    },
    {
      "cell_type": "markdown",
      "metadata": {
        "id": "kGZWqnebFysa"
      },
      "source": [
        "---\n",
        "### **13.4 Tuple iteration using for loop**\n",
        "---"
      ]
    },
    {
      "cell_type": "code",
      "metadata": {
        "colab": {
          "base_uri": "https://localhost:8080/"
        },
        "id": "Y6L2BeBcFysb",
        "outputId": "8855ebf5-3d7b-41e4-840f-2ac08a20074b"
      },
      "source": [
        "T = (\"Pratham\", 'Sharma', 3.14, 3)\n",
        "print (\"T -->\", T)\n",
        "\n",
        "for s in T:\n",
        "    print (s)"
      ],
      "execution_count": null,
      "outputs": [
        {
          "output_type": "stream",
          "text": [
            "T --> ('Pratham', 'Sharma', 3.14, 3)\n",
            "Pratham\n",
            "Sharma\n",
            "3.14\n",
            "3\n"
          ],
          "name": "stdout"
        }
      ]
    },
    {
      "cell_type": "markdown",
      "metadata": {
        "id": "TsjuXQqfFysc"
      },
      "source": [
        "---\n",
        "### **13.5 Accessing/Selecting in Tuple**\n",
        "---"
      ]
    },
    {
      "cell_type": "code",
      "metadata": {
        "colab": {
          "base_uri": "https://localhost:8080/"
        },
        "id": "FgB4s6OtFysc",
        "outputId": "c296adb6-134a-4226-eb46-b78aa2d559f7"
      },
      "source": [
        "# Example 1:\n",
        "T = (3, 6, 9, 12, 5, 3, 2)\n",
        "print (\"T     -->\", T)\n",
        "\n",
        "print (\"T[1]  -->\", T[1])\n",
        "print (\"T[2]  -->\", T[2])\n",
        "print (\"T[-1] -->\", T[-1])\n",
        "print (\"T[-2] -->\", T[-2])"
      ],
      "execution_count": null,
      "outputs": [
        {
          "output_type": "stream",
          "text": [
            "T     --> (3, 6, 9, 12, 5, 3, 2)\n",
            "T[1]  --> 6\n",
            "T[2]  --> 9\n",
            "T[-1] --> 2\n",
            "T[-2] --> 3\n"
          ],
          "name": "stdout"
        }
      ]
    },
    {
      "cell_type": "code",
      "metadata": {
        "colab": {
          "base_uri": "https://localhost:8080/"
        },
        "id": "ex2S0y2tGzSH",
        "outputId": "0bfaaa6d-ec22-4565-c976-21dee9073d21"
      },
      "source": [
        "# Example 2:\n",
        "T = (3, 6, 9, 12, 5, 3, 2)\n",
        "print (\"T        -->\", T)\n",
        "\n",
        "print (\"T[1:3]   -->\", T[1:3])\n",
        "print (\"T[2:]    -->\", T[2:])\n",
        "print (\"T[2:5]   -->\", T[2:5])\n",
        "print (\"T[:2]    -->\", T[:2])\n",
        "print (\"T[:-1]   -->\", T[:-1])\n",
        "print (\"T[-4:-1] -->\", T[-4:-1])"
      ],
      "execution_count": null,
      "outputs": [
        {
          "output_type": "stream",
          "text": [
            "T        --> (3, 6, 9, 12, 5, 3, 2)\n",
            "T[1:3]   --> (6, 9)\n",
            "T[2:]    --> (9, 12, 5, 3, 2)\n",
            "T[2:5]   --> (9, 12, 5)\n",
            "T[:2]    --> (3, 6)\n",
            "T[:-1]   --> (3, 6, 9, 12, 5, 3)\n",
            "T[-4:-1] --> (12, 5, 3)\n"
          ],
          "name": "stdout"
        }
      ]
    },
    {
      "cell_type": "markdown",
      "metadata": {
        "id": "IYCHgXGZFyse"
      },
      "source": [
        "---\n",
        "### **13.6 Sum/Average of Tuple**\n",
        "---"
      ]
    },
    {
      "cell_type": "code",
      "metadata": {
        "colab": {
          "base_uri": "https://localhost:8080/"
        },
        "id": "1sSPfUTGFysf",
        "outputId": "16d17e2a-4dec-4b4b-8be3-2ad47aa56978"
      },
      "source": [
        "T = (3, 6, 9, 12, 5, 3, 2)\n",
        "print (\"T       -->\", T)\n",
        "print (\"Sum     -->\", sum(T))\n",
        "print (\"Average -->\", sum(T)/len(T))\n",
        "print (\"Average -->\", sum(T)//len(T))"
      ],
      "execution_count": null,
      "outputs": [
        {
          "output_type": "stream",
          "text": [
            "T       --> (3, 6, 9, 12, 5, 3, 2)\n",
            "Sum     --> 40\n",
            "Average --> 5.714285714285714\n",
            "Average --> 5\n"
          ],
          "name": "stdout"
        }
      ]
    },
    {
      "cell_type": "markdown",
      "metadata": {
        "id": "E_Je9dVxFysg"
      },
      "source": [
        "---\n",
        "### **13.7 Min/Max in Tuple**\n",
        "---"
      ]
    },
    {
      "cell_type": "code",
      "metadata": {
        "colab": {
          "base_uri": "https://localhost:8080/"
        },
        "id": "tNsc-7xEFysi",
        "outputId": "52c79168-37c0-424c-a60a-f438f4795d1a"
      },
      "source": [
        "# Example 1\n",
        "T = (3, 6, 9, 12, 5, 3, 2)                # Integer Tuple\n",
        "print (\"T   -->\", T)\n",
        "print (\"Max -->\", max(T))\n",
        "print (\"Min -->\", min(T))"
      ],
      "execution_count": null,
      "outputs": [
        {
          "output_type": "stream",
          "text": [
            "T   --> (3, 6, 9, 12, 5, 3, 2)\n",
            "Max --> 12\n",
            "Min --> 2\n"
          ],
          "name": "stdout"
        }
      ]
    },
    {
      "cell_type": "code",
      "metadata": {
        "colab": {
          "base_uri": "https://localhost:8080/"
        },
        "id": "mwCtFSUDHL50",
        "outputId": "f19848de-93c7-4eb9-8b0d-cba7f147d56a"
      },
      "source": [
        "# Example 2\n",
        "T = (\"Ram\", \"Shyam\", \"Human\", \"Ant\")      # String Tuple\n",
        "print (\"T   -->\", T)\n",
        "print (\"Max -->\", max(T))\n",
        "print (\"Min -->\", min(T))"
      ],
      "execution_count": null,
      "outputs": [
        {
          "output_type": "stream",
          "text": [
            "T   --> ('Ram', 'Shyam', 'Human', 'Ant')\n",
            "Max --> Shyam\n",
            "Min --> Ant\n"
          ],
          "name": "stdout"
        }
      ]
    },
    {
      "cell_type": "markdown",
      "metadata": {
        "id": "WUNgIs62Fysi"
      },
      "source": [
        "---\n",
        "### **13.8 Merging Tuples**\n",
        "---"
      ]
    },
    {
      "cell_type": "code",
      "metadata": {
        "colab": {
          "base_uri": "https://localhost:8080/"
        },
        "id": "zqz9Xp0tFysj",
        "outputId": "ca983a47-6fe3-4617-ca55-7fd004404371"
      },
      "source": [
        "T1 = (3, 6, 9)\n",
        "T2 = (12, 5, 3, 2)\n",
        "\n",
        "print (\"T1 -->\", T1)\n",
        "print (\"T2 -->\", T2)\n",
        "\n",
        "T3 = T1 + T2\n",
        "print (\"T3 -->\", T3)\n",
        "\n",
        "T4 = T1 + T2 + T1 + T2\n",
        "print (\"T4 -->\", T4)"
      ],
      "execution_count": null,
      "outputs": [
        {
          "output_type": "stream",
          "text": [
            "T1 --> (3, 6, 9)\n",
            "T2 --> (12, 5, 3, 2)\n",
            "T3 --> (3, 6, 9, 12, 5, 3, 2)\n",
            "T4 --> (3, 6, 9, 12, 5, 3, 2, 3, 6, 9, 12, 5, 3, 2)\n"
          ],
          "name": "stdout"
        }
      ]
    },
    {
      "cell_type": "markdown",
      "metadata": {
        "id": "K2lF7bjeFysj"
      },
      "source": [
        "---\n",
        "### **13.9 Merging part of Tuples**\n",
        "---"
      ]
    },
    {
      "cell_type": "code",
      "metadata": {
        "colab": {
          "base_uri": "https://localhost:8080/"
        },
        "id": "1ChXppaZFysk",
        "outputId": "ef268912-4d8f-4213-b313-e47bb175d68b"
      },
      "source": [
        "T1 = (3, 6, 9)\n",
        "T2 = (12, 5, 3, 2)\n",
        "\n",
        "print (\"T1 -->\", T1)\n",
        "print (\"T2 -->\", T2)\n",
        "\n",
        "T3 = T1[1:2] + T2[1:3]\n",
        "print (\"T3 -->\", T3)\n",
        "\n",
        "T4 = T1[:-2] + T2[:-3]\n",
        "print (\"T4 -->\", T4)"
      ],
      "execution_count": null,
      "outputs": [
        {
          "output_type": "stream",
          "text": [
            "T1 --> (3, 6, 9)\n",
            "T2 --> (12, 5, 3, 2)\n",
            "T3 --> (6, 5, 3)\n",
            "T4 --> (3, 12)\n"
          ],
          "name": "stdout"
        }
      ]
    },
    {
      "cell_type": "markdown",
      "metadata": {
        "id": "3frpbJ4RFysl"
      },
      "source": [
        "---\n",
        "### **13.10 Searching in the tuple**\n",
        "---"
      ]
    },
    {
      "cell_type": "code",
      "metadata": {
        "colab": {
          "base_uri": "https://localhost:8080/"
        },
        "id": "cY6y818WFysl",
        "outputId": "abe51a3b-51b5-4af6-86c6-66388f33d1b6"
      },
      "source": [
        "T = (3, 6, 9, 12, 5, 3, 2)\n",
        "print (\"T       -->\", T)\n",
        "\n",
        "print (\"6  in T -->\", 6 in T)\n",
        "print (\"10 in T -->\", 10 in T)\n",
        "print (\"12 in T -->\", 12 in T)"
      ],
      "execution_count": null,
      "outputs": [
        {
          "output_type": "stream",
          "text": [
            "T       --> (3, 6, 9, 12, 5, 3, 2)\n",
            "6  in T --> True\n",
            "10 in T --> False\n",
            "12 in T --> True\n"
          ],
          "name": "stdout"
        }
      ]
    },
    {
      "cell_type": "markdown",
      "metadata": {
        "id": "vJg6l4N_E4IG"
      },
      "source": [
        "---\n",
        "### **13.11 Adding element to Tuple (Error)**\n",
        "---"
      ]
    },
    {
      "cell_type": "code",
      "metadata": {
        "id": "RM0E_sSoE4IH",
        "colab": {
          "base_uri": "https://localhost:8080/",
          "height": 265
        },
        "outputId": "c110bb1d-ef9d-4d87-dcbf-403a832536ae"
      },
      "source": [
        "T = (\"Pratham\", 'Sharma', 3.14, 3)\n",
        "print (\"T -->\", T)\n",
        "\n",
        "T[2] = 900               # Error; 'tuple' object does not support item assignment\n",
        "print (\"T -->\", T)\n",
        "\n",
        "#Tuples are unchangeable. We cannot add items to it. "
      ],
      "execution_count": null,
      "outputs": [
        {
          "output_type": "stream",
          "text": [
            "T --> ('Pratham', 'Sharma', 3.14, 3)\n"
          ],
          "name": "stdout"
        },
        {
          "output_type": "error",
          "ename": "TypeError",
          "evalue": "ignored",
          "traceback": [
            "\u001b[0;31m---------------------------------------------------------------------------\u001b[0m",
            "\u001b[0;31mTypeError\u001b[0m                                 Traceback (most recent call last)",
            "\u001b[0;32m<ipython-input-74-fb1d27ae8658>\u001b[0m in \u001b[0;36m<module>\u001b[0;34m()\u001b[0m\n\u001b[1;32m      2\u001b[0m \u001b[0mprint\u001b[0m \u001b[0;34m(\u001b[0m\u001b[0;34m\"T -->\"\u001b[0m\u001b[0;34m,\u001b[0m \u001b[0mT\u001b[0m\u001b[0;34m)\u001b[0m\u001b[0;34m\u001b[0m\u001b[0;34m\u001b[0m\u001b[0m\n\u001b[1;32m      3\u001b[0m \u001b[0;34m\u001b[0m\u001b[0m\n\u001b[0;32m----> 4\u001b[0;31m \u001b[0mT\u001b[0m\u001b[0;34m[\u001b[0m\u001b[0;36m2\u001b[0m\u001b[0;34m]\u001b[0m \u001b[0;34m=\u001b[0m \u001b[0;36m900\u001b[0m               \u001b[0;31m# Error; 'tuple' object does not support item assignment\u001b[0m\u001b[0;34m\u001b[0m\u001b[0;34m\u001b[0m\u001b[0m\n\u001b[0m\u001b[1;32m      5\u001b[0m \u001b[0mprint\u001b[0m \u001b[0;34m(\u001b[0m\u001b[0;34m\"T -->\"\u001b[0m\u001b[0;34m,\u001b[0m \u001b[0mT\u001b[0m\u001b[0;34m)\u001b[0m\u001b[0;34m\u001b[0m\u001b[0;34m\u001b[0m\u001b[0m\n\u001b[1;32m      6\u001b[0m \u001b[0;34m\u001b[0m\u001b[0m\n",
            "\u001b[0;31mTypeError\u001b[0m: 'tuple' object does not support item assignment"
          ]
        }
      ]
    },
    {
      "cell_type": "markdown",
      "metadata": {
        "id": "KocwDH8QE4IH"
      },
      "source": [
        "---\n",
        "### **13.12 Adding element to Tuple - (Jugaad)**\n",
        "---"
      ]
    },
    {
      "cell_type": "code",
      "metadata": {
        "id": "TWSdjWFfE4II",
        "colab": {
          "base_uri": "https://localhost:8080/"
        },
        "outputId": "c1e1fbcd-c3a9-47d1-8f33-5134dc46e444"
      },
      "source": [
        "T = (\"Pratham\", 'Sharma', 3.14, 3)\n",
        "print (\"T         -->\", T)\n",
        "\n",
        "T1 = list(T)\n",
        "T1.append(9.8)\n",
        "T = tuple(T1)\n",
        "\n",
        "print (\"After Add -->\", T)"
      ],
      "execution_count": null,
      "outputs": [
        {
          "output_type": "stream",
          "text": [
            "T         --> ('Pratham', 'Sharma', 3.14, 3)\n",
            "After Add --> ('Pratham', 'Sharma', 3.14, 3, 9.8)\n"
          ],
          "name": "stdout"
        }
      ]
    },
    {
      "cell_type": "markdown",
      "metadata": {
        "id": "D8fE_Al0E4II"
      },
      "source": [
        "---\n",
        "### **13.13 Inserting element in Tuple - (Jugaad)**\n",
        "---"
      ]
    },
    {
      "cell_type": "code",
      "metadata": {
        "id": "bkvZ4s4yE4IJ",
        "colab": {
          "base_uri": "https://localhost:8080/"
        },
        "outputId": "7859f4ef-826a-4be5-bf75-0afdb64cd632"
      },
      "source": [
        "T = (\"Pratham\", 'Sharma', 3.14, 3)\n",
        "print (\"T            -->\", T)\n",
        "\n",
        "T1 = list(T)\n",
        "T1.insert(2, \"Rahul\")\n",
        "T = tuple(T1)\n",
        "\n",
        "print (\"After Insert -->\", T)"
      ],
      "execution_count": null,
      "outputs": [
        {
          "output_type": "stream",
          "text": [
            "T            --> ('Pratham', 'Sharma', 3.14, 3)\n",
            "After Insert --> ('Pratham', 'Sharma', 'Rahul', 3.14, 3)\n"
          ],
          "name": "stdout"
        }
      ]
    },
    {
      "cell_type": "markdown",
      "metadata": {
        "id": "UvpIX1nsE4IK"
      },
      "source": [
        "---\n",
        "### **13.14 Deleting from Tuple (Error)**\n",
        "---"
      ]
    },
    {
      "cell_type": "code",
      "metadata": {
        "id": "mex45HHQE4IL",
        "colab": {
          "base_uri": "https://localhost:8080/",
          "height": 265
        },
        "outputId": "0198bcc8-c424-46b9-c902-ce46faa7a370"
      },
      "source": [
        "T = (\"Pratham\", 'Sharma', 3.14, 3)\n",
        "print (\"T            -->\", T)\n",
        "\n",
        "del T[1]\n",
        "\n",
        "print (\"After Delete -->\", T)"
      ],
      "execution_count": null,
      "outputs": [
        {
          "output_type": "stream",
          "text": [
            "T            --> ('Pratham', 'Sharma', 3.14, 3)\n"
          ],
          "name": "stdout"
        },
        {
          "output_type": "error",
          "ename": "TypeError",
          "evalue": "ignored",
          "traceback": [
            "\u001b[0;31m---------------------------------------------------------------------------\u001b[0m",
            "\u001b[0;31mTypeError\u001b[0m                                 Traceback (most recent call last)",
            "\u001b[0;32m<ipython-input-77-0baff4d8a5c8>\u001b[0m in \u001b[0;36m<module>\u001b[0;34m()\u001b[0m\n\u001b[1;32m      2\u001b[0m \u001b[0mprint\u001b[0m \u001b[0;34m(\u001b[0m\u001b[0;34m\"T            -->\"\u001b[0m\u001b[0;34m,\u001b[0m \u001b[0mT\u001b[0m\u001b[0;34m)\u001b[0m\u001b[0;34m\u001b[0m\u001b[0;34m\u001b[0m\u001b[0m\n\u001b[1;32m      3\u001b[0m \u001b[0;34m\u001b[0m\u001b[0m\n\u001b[0;32m----> 4\u001b[0;31m \u001b[0;32mdel\u001b[0m \u001b[0mT\u001b[0m\u001b[0;34m[\u001b[0m\u001b[0;36m1\u001b[0m\u001b[0;34m]\u001b[0m\u001b[0;34m\u001b[0m\u001b[0;34m\u001b[0m\u001b[0m\n\u001b[0m\u001b[1;32m      5\u001b[0m \u001b[0;34m\u001b[0m\u001b[0m\n\u001b[1;32m      6\u001b[0m \u001b[0mprint\u001b[0m \u001b[0;34m(\u001b[0m\u001b[0;34m\"After Delete -->\"\u001b[0m\u001b[0;34m,\u001b[0m \u001b[0mT\u001b[0m\u001b[0;34m)\u001b[0m\u001b[0;34m\u001b[0m\u001b[0;34m\u001b[0m\u001b[0m\n",
            "\u001b[0;31mTypeError\u001b[0m: 'tuple' object doesn't support item deletion"
          ]
        }
      ]
    },
    {
      "cell_type": "markdown",
      "metadata": {
        "id": "mUlLkF7xK4ta"
      },
      "source": [
        "---\n",
        "### **13.15 Deleting from Tuple - (Jugaad)**\n",
        "---"
      ]
    },
    {
      "cell_type": "code",
      "metadata": {
        "colab": {
          "base_uri": "https://localhost:8080/"
        },
        "id": "Ey7gyq_JK4tc",
        "outputId": "7aa8c834-9404-49cf-8a2f-7424577d08a6"
      },
      "source": [
        "T = (\"Pratham\", 'Sharma', 3.14, 3)\n",
        "print (\"T            -->\", T)\n",
        "\n",
        "T1 = list(T)\n",
        "del T1[1]\n",
        "T = tuple(T1)\n",
        "\n",
        "print (\"After Delete -->\", T)"
      ],
      "execution_count": null,
      "outputs": [
        {
          "output_type": "stream",
          "text": [
            "T            --> ('Pratham', 'Sharma', 3.14, 3)\n",
            "After Delete --> ('Pratham', 3.14, 3)\n"
          ],
          "name": "stdout"
        }
      ]
    },
    {
      "cell_type": "markdown",
      "metadata": {
        "id": "nP1BXJvpaSMR"
      },
      "source": [
        "---\n",
        "# **14 Data Structure 4 - Set**\n",
        "\n",
        "**Learning:** How to use Set, add, delete, search in Set\n",
        "\n",
        "**Note:** Read more about Set and try yourself\n",
        "\n",
        "---\n",
        "### **14.1 Declare Set**"
      ]
    },
    {
      "cell_type": "code",
      "metadata": {
        "colab": {
          "base_uri": "https://localhost:8080/"
        },
        "id": "q7k_3HyiaWwa",
        "outputId": "c0986637-55e8-4440-bf43-acab6dccc960"
      },
      "source": [
        "s = set(['A', 'B', 'E', 'F','E', 'F' ])\n",
        "print (\"Original set           --> \", s)\n",
        "print (\"Num of elements in set --> \", len(s))"
      ],
      "execution_count": null,
      "outputs": [
        {
          "output_type": "stream",
          "text": [
            "Original set           -->  {'E', 'A', 'F', 'B'}\n",
            "Num of elements in set -->  4\n"
          ],
          "name": "stdout"
        }
      ]
    },
    {
      "cell_type": "markdown",
      "metadata": {
        "id": "ltLfKXfKardd"
      },
      "source": [
        "---\n",
        "### **14.2 Opertions on Sets**\n",
        "---"
      ]
    },
    {
      "cell_type": "code",
      "metadata": {
        "colab": {
          "base_uri": "https://localhost:8080/"
        },
        "id": "s8KiiSKSardf",
        "outputId": "8194b701-82ec-4601-8904-87ac54a5b5d0"
      },
      "source": [
        "a = set(['A', 'B', 'E', 'F' ])\n",
        "b = set([\"A\", \"C\", \"D\", \"E\"])\n",
        "print (\"Original set a      --> \", a)\n",
        "print (\"Original set b      --> \", b)\n",
        "print (\"Union of a and b    --> \", a.union(b))\n",
        "print (\"Intersection of a,b --> \", a.intersection(b))\n",
        "print (\"Difference a - b    --> \", a - b)\n",
        "print (\"Difference a - b    --> \", a.difference(b))\n",
        "print (\"Difference b - a    --> \", b - a)\n",
        "print (\"Difference b - a    --> \", b.difference(a))\n",
        "print (\"Symetric Diff a - b --> \", a.symmetric_difference(b))\n",
        "print (\"Symetric Diff b - a --> \", b.symmetric_difference(a))"
      ],
      "execution_count": null,
      "outputs": [
        {
          "output_type": "stream",
          "text": [
            "Original set a      -->  {'E', 'A', 'F', 'B'}\n",
            "Original set b      -->  {'E', 'A', 'D', 'C'}\n",
            "Union of a and b    -->  {'B', 'D', 'F', 'E', 'A', 'C'}\n",
            "Intersection of a,b -->  {'E', 'A'}\n",
            "Difference a - b    -->  {'F', 'B'}\n",
            "Difference a - b    -->  {'F', 'B'}\n",
            "Difference b - a    -->  {'D', 'C'}\n",
            "Difference b - a    -->  {'D', 'C'}\n",
            "Symetric Diff a - b -->  {'F', 'D', 'C', 'B'}\n",
            "Symetric Diff b - a -->  {'B', 'F', 'D', 'C'}\n"
          ],
          "name": "stdout"
        }
      ]
    },
    {
      "cell_type": "markdown",
      "metadata": {
        "id": "oGG-LZJhars5"
      },
      "source": [
        "---\n",
        "### **14.3 Add, delete, pop element from set**\n",
        "---"
      ]
    },
    {
      "cell_type": "code",
      "metadata": {
        "colab": {
          "base_uri": "https://localhost:8080/"
        },
        "id": "6MfSdtaUars6",
        "outputId": "43383d15-f134-4f5c-988c-7979db09a43e"
      },
      "source": [
        "a = set(['A', 'B', 'E', 'F' ])\n",
        "print (\"Original set a       --> \", a)\n",
        "a.add(\"D\")\n",
        "print (\"Set After Adding (D) --> \", a)\n",
        "a.add(\"D\")\n",
        "print (\"Set After Adding (D) --> \", a)\n",
        "a.remove(\"D\")\n",
        "print (\"Set After Deleting(D)--> \", a)\n",
        "a.pop()\n",
        "print (\"Set After pop        --> \", a)\n",
        "a.pop()\n",
        "print (\"Set After pop        --> \", a)"
      ],
      "execution_count": null,
      "outputs": [
        {
          "output_type": "stream",
          "text": [
            "Original set a       -->  {'E', 'A', 'F', 'B'}\n",
            "Set After Adding (D) -->  {'B', 'D', 'F', 'E', 'A'}\n",
            "Set After Adding (D) -->  {'B', 'D', 'F', 'E', 'A'}\n",
            "Set After Deleting(D)-->  {'B', 'F', 'E', 'A'}\n",
            "Set After pop        -->  {'F', 'E', 'A'}\n",
            "Set After pop        -->  {'E', 'A'}\n"
          ],
          "name": "stdout"
        }
      ]
    },
    {
      "cell_type": "markdown",
      "metadata": {
        "id": "spvefWIWbNAR"
      },
      "source": [
        "---\n",
        "# **15 Command Line Argument**\n",
        "\n",
        "**Learning:** How to Take input from command line and process it\n",
        "\n",
        "**Note:** Run the program at cmd line\n",
        "\n",
        "---\n",
        "### **15.1 Add two numbers given at cmd line**\n",
        "**Note:** To run the program at cmd line\n",
        "*     python Program.py 10 20"
      ]
    },
    {
      "cell_type": "code",
      "metadata": {
        "colab": {
          "base_uri": "https://localhost:8080/",
          "height": 285
        },
        "id": "0ieaM9uebNAS",
        "outputId": "0a60acec-3db0-4696-865c-87e4daec7cc3"
      },
      "source": [
        "import sys\n",
        "print (sys.argv)\n",
        "a = int(sys.argv[1]) \t# First Number\n",
        "b = int(sys.argv[2])\t# Second Number\n",
        "c = a + b\n",
        "print (a, \" + \", b, \" --> \", c)"
      ],
      "execution_count": null,
      "outputs": [
        {
          "output_type": "stream",
          "text": [
            "['/usr/local/lib/python3.7/dist-packages/ipykernel_launcher.py', '-f', '/root/.local/share/jupyter/runtime/kernel-2c370b3f-04bb-4872-8f9b-8559cbd8132b.json']\n"
          ],
          "name": "stdout"
        },
        {
          "output_type": "error",
          "ename": "ValueError",
          "evalue": "ignored",
          "traceback": [
            "\u001b[0;31m---------------------------------------------------------------------------\u001b[0m",
            "\u001b[0;31mValueError\u001b[0m                                Traceback (most recent call last)",
            "\u001b[0;32m<ipython-input-82-a3d67294dc12>\u001b[0m in \u001b[0;36m<module>\u001b[0;34m()\u001b[0m\n\u001b[1;32m      1\u001b[0m \u001b[0;32mimport\u001b[0m \u001b[0msys\u001b[0m\u001b[0;34m\u001b[0m\u001b[0;34m\u001b[0m\u001b[0m\n\u001b[1;32m      2\u001b[0m \u001b[0mprint\u001b[0m \u001b[0;34m(\u001b[0m\u001b[0msys\u001b[0m\u001b[0;34m.\u001b[0m\u001b[0margv\u001b[0m\u001b[0;34m)\u001b[0m\u001b[0;34m\u001b[0m\u001b[0;34m\u001b[0m\u001b[0m\n\u001b[0;32m----> 3\u001b[0;31m \u001b[0ma\u001b[0m \u001b[0;34m=\u001b[0m \u001b[0mint\u001b[0m\u001b[0;34m(\u001b[0m\u001b[0msys\u001b[0m\u001b[0;34m.\u001b[0m\u001b[0margv\u001b[0m\u001b[0;34m[\u001b[0m\u001b[0;36m1\u001b[0m\u001b[0;34m]\u001b[0m\u001b[0;34m)\u001b[0m    \u001b[0;31m# First Number\u001b[0m\u001b[0;34m\u001b[0m\u001b[0;34m\u001b[0m\u001b[0m\n\u001b[0m\u001b[1;32m      4\u001b[0m \u001b[0mb\u001b[0m \u001b[0;34m=\u001b[0m \u001b[0mint\u001b[0m\u001b[0;34m(\u001b[0m\u001b[0msys\u001b[0m\u001b[0;34m.\u001b[0m\u001b[0margv\u001b[0m\u001b[0;34m[\u001b[0m\u001b[0;36m2\u001b[0m\u001b[0;34m]\u001b[0m\u001b[0;34m)\u001b[0m    \u001b[0;31m# Second Number\u001b[0m\u001b[0;34m\u001b[0m\u001b[0;34m\u001b[0m\u001b[0m\n\u001b[1;32m      5\u001b[0m \u001b[0mc\u001b[0m \u001b[0;34m=\u001b[0m \u001b[0ma\u001b[0m \u001b[0;34m+\u001b[0m \u001b[0mb\u001b[0m\u001b[0;34m\u001b[0m\u001b[0;34m\u001b[0m\u001b[0m\n",
            "\u001b[0;31mValueError\u001b[0m: invalid literal for int() with base 10: '-f'"
          ]
        }
      ]
    },
    {
      "cell_type": "markdown",
      "metadata": {
        "id": "jGBXdT5CbNAT"
      },
      "source": [
        "---\n",
        "### **15.2 Concatinate two strings given at cmd line**\n",
        "**Note:** To run the program at cmd line\n",
        "*   python Program.py FirstString SecondString\n",
        "\n",
        "---"
      ]
    },
    {
      "cell_type": "code",
      "metadata": {
        "colab": {
          "base_uri": "https://localhost:8080/"
        },
        "id": "dg117QSIbNAU",
        "outputId": "62d37c0b-1ea7-4ca9-da65-a6356ec70e24"
      },
      "source": [
        "import sys\n",
        "print (sys.argv)\n",
        "s = sys.argv[1] + \" \" + sys.argv[2]\n",
        "print (sys.argv[1], \" + \", sys.argv[2], \" --> \", s)"
      ],
      "execution_count": null,
      "outputs": [
        {
          "output_type": "stream",
          "text": [
            "['/usr/local/lib/python3.7/dist-packages/ipykernel_launcher.py', '-f', '/root/.local/share/jupyter/runtime/kernel-2c370b3f-04bb-4872-8f9b-8559cbd8132b.json']\n",
            "-f  +  /root/.local/share/jupyter/runtime/kernel-2c370b3f-04bb-4872-8f9b-8559cbd8132b.json  -->  -f /root/.local/share/jupyter/runtime/kernel-2c370b3f-04bb-4872-8f9b-8559cbd8132b.json\n"
          ],
          "name": "stdout"
        }
      ]
    },
    {
      "cell_type": "markdown",
      "metadata": {
        "id": "Gtu3hMwabNAW"
      },
      "source": [
        "---\n",
        "### **15.3 Add all the numbers given at cmd line**\n",
        "**Note:** To run the program at cmd line\n",
        "*   python Program.py\n",
        "*   python Program.py 10\n",
        "*   python Program.py 10 20 30 40\n",
        "\n",
        "---"
      ]
    },
    {
      "cell_type": "code",
      "metadata": {
        "colab": {
          "base_uri": "https://localhost:8080/",
          "height": 285
        },
        "id": "QSHWbDHmbNAX",
        "outputId": "f054cfa3-1901-4b1d-90f2-3e59f8671c8e"
      },
      "source": [
        "import sys\n",
        "print (sys.argv)\n",
        "sum=0\n",
        "for s in sys.argv[1:]:\n",
        "\tsum += int(s)\n",
        "\n",
        "print (\"Sum is --> \", sum)"
      ],
      "execution_count": null,
      "outputs": [
        {
          "output_type": "stream",
          "text": [
            "['/usr/local/lib/python3.7/dist-packages/ipykernel_launcher.py', '-f', '/root/.local/share/jupyter/runtime/kernel-2c370b3f-04bb-4872-8f9b-8559cbd8132b.json']\n"
          ],
          "name": "stdout"
        },
        {
          "output_type": "error",
          "ename": "ValueError",
          "evalue": "ignored",
          "traceback": [
            "\u001b[0;31m---------------------------------------------------------------------------\u001b[0m",
            "\u001b[0;31mValueError\u001b[0m                                Traceback (most recent call last)",
            "\u001b[0;32m<ipython-input-84-87063e0e9afe>\u001b[0m in \u001b[0;36m<module>\u001b[0;34m()\u001b[0m\n\u001b[1;32m      3\u001b[0m \u001b[0msum\u001b[0m\u001b[0;34m=\u001b[0m\u001b[0;36m0\u001b[0m\u001b[0;34m\u001b[0m\u001b[0;34m\u001b[0m\u001b[0m\n\u001b[1;32m      4\u001b[0m \u001b[0;32mfor\u001b[0m \u001b[0ms\u001b[0m \u001b[0;32min\u001b[0m \u001b[0msys\u001b[0m\u001b[0;34m.\u001b[0m\u001b[0margv\u001b[0m\u001b[0;34m[\u001b[0m\u001b[0;36m1\u001b[0m\u001b[0;34m:\u001b[0m\u001b[0;34m]\u001b[0m\u001b[0;34m:\u001b[0m\u001b[0;34m\u001b[0m\u001b[0;34m\u001b[0m\u001b[0m\n\u001b[0;32m----> 5\u001b[0;31m         \u001b[0msum\u001b[0m \u001b[0;34m+=\u001b[0m \u001b[0mint\u001b[0m\u001b[0;34m(\u001b[0m\u001b[0ms\u001b[0m\u001b[0;34m)\u001b[0m\u001b[0;34m\u001b[0m\u001b[0;34m\u001b[0m\u001b[0m\n\u001b[0m\u001b[1;32m      6\u001b[0m \u001b[0;34m\u001b[0m\u001b[0m\n\u001b[1;32m      7\u001b[0m \u001b[0mprint\u001b[0m \u001b[0;34m(\u001b[0m\u001b[0;34m\"Sum is --> \"\u001b[0m\u001b[0;34m,\u001b[0m \u001b[0msum\u001b[0m\u001b[0;34m)\u001b[0m\u001b[0;34m\u001b[0m\u001b[0;34m\u001b[0m\u001b[0m\n",
            "\u001b[0;31mValueError\u001b[0m: invalid literal for int() with base 10: '-f'"
          ]
        }
      ]
    },
    {
      "cell_type": "markdown",
      "metadata": {
        "id": "-wicdMoyfLoZ"
      },
      "source": [
        "---\n",
        "# **16 File Handling**\n",
        "\n",
        "**Learning:** How to open the file, read the file and write in the file\n",
        "\n",
        "---\n",
        "### **16.1 Writing 1 to 10 in file**"
      ]
    },
    {
      "cell_type": "code",
      "metadata": {
        "colab": {
          "base_uri": "https://localhost:8080/"
        },
        "id": "oX-fBKbpfLob",
        "outputId": "5757d752-1397-4f8a-f58a-d8865990a008"
      },
      "source": [
        "fp=open('result.txt','w')\t# Open the file in writing mode\n",
        "for  i in range(1,11):\n",
        "\tfp.write(str(i) + \"\\n\")\t# Writing to the file line by line\n",
        "fp.close()\n",
        "\n",
        "print (\"Writing done !! \\nOpen result.txt to view the content\")"
      ],
      "execution_count": null,
      "outputs": [
        {
          "output_type": "stream",
          "text": [
            "Writing done !! \n",
            "Open result.txt to view the content\n"
          ],
          "name": "stdout"
        }
      ]
    },
    {
      "cell_type": "markdown",
      "metadata": {
        "id": "-6OU-QD_fLoc"
      },
      "source": [
        "---\n",
        "### **16.2 Read a file and print its content**\n",
        "---\n"
      ]
    },
    {
      "cell_type": "code",
      "metadata": {
        "colab": {
          "base_uri": "https://localhost:8080/"
        },
        "id": "jiPQizlEfLod",
        "outputId": "750019d4-ecd0-4fbe-fa5f-9a0681d1d620"
      },
      "source": [
        "fp=open('result.txt')\t\t# Open the file in reading mode\n",
        "for line in fp: \t\t    # print line by line\n",
        "\tprint (line.strip())\n",
        "fp.close()"
      ],
      "execution_count": null,
      "outputs": [
        {
          "output_type": "stream",
          "text": [
            "1\n",
            "2\n",
            "3\n",
            "4\n",
            "5\n",
            "6\n",
            "7\n",
            "8\n",
            "9\n",
            "10\n"
          ],
          "name": "stdout"
        }
      ]
    },
    {
      "cell_type": "markdown",
      "metadata": {
        "id": "Sby32ykwfLof"
      },
      "source": [
        "---\n",
        "### **16.3 Read from one file, Convert it to upper case and write to other file**\n",
        "---"
      ]
    },
    {
      "cell_type": "code",
      "metadata": {
        "colab": {
          "base_uri": "https://localhost:8080/"
        },
        "id": "rjvJZNv_fLoh",
        "outputId": "a8704164-b68e-46b9-b87a-1e14fa262b31"
      },
      "source": [
        "Readfp=open('result.txt')\t\t# Open the file in reading mode\n",
        "Writefp=open('abc.txt','w')\t# Open the file in writing mode\n",
        "for line in Readfp: \n",
        "\tWritefp.write(line.upper())\n",
        "\t\n",
        "Writefp.close()\n",
        "Readfp.close()\n",
        "\n",
        "print (\"Writing done !! \\nOpen result.txt to view the content\")"
      ],
      "execution_count": null,
      "outputs": [
        {
          "output_type": "stream",
          "text": [
            "Writing done !! \n",
            "Open result.txt to view the content\n"
          ],
          "name": "stdout"
        }
      ]
    },
    {
      "cell_type": "code",
      "source": [
        "# OpenCV  for Computer Vision Applications\n",
        "\n",
        "import cv2\n",
        "import numpy as np\n",
        "\n",
        "img = cv2.imread(\"Resources/lena.png\")\n",
        "kernel = np.ones((5,5),np.uint8)\n",
        "\n",
        "imgGray = cv2.cvtColor(img,cv2.COLOR_BGR2GRAY)\n",
        "imgBlur = cv2.GaussianBlur(imgGray,(7,7),0)\n",
        "imgCanny = cv2.Canny(img,150,200)\n",
        "imgDialation = cv2.dilate(imgCanny,kernel,iterations=1)\n",
        "imgEroded = cv2.erode(imgDialation,kernel,iterations=1)\n",
        "\n",
        "cv2_imshow(imgGray)\n",
        "cv2_imshow(imgBlur)\n",
        "cv2_imshow(imgCanny)\n",
        "cv2_imshow(imgDialation)\n",
        "cv2_imshow(imgEroded)\n",
        "cv2.waitKey(0)"
      ],
      "metadata": {
        "id": "8nHiwvtKmpBY"
      },
      "execution_count": null,
      "outputs": []
    },
    {
      "cell_type": "code",
      "source": [
        "import cv2\n",
        "import numpy as np\n",
        "\n",
        "img = np.zeros((512,512,3),np.uint8)\n",
        "#print(img)\n",
        "#img[:]= 255,0,0\n",
        "\n",
        "cv2.line(img,(0,0),(img.shape[1],img.shape[0]),(0,255,0),3)\n",
        "cv2.rectangle(img,(0,0),(250,350),(0,0,255),2)\n",
        "cv2.circle(img,(400,50),30,(255,255,0),5)\n",
        "cv2.putText(img,\" OPENCV  \",(300,200),cv2.FONT_HERSHEY_COMPLEX,1,(0,150,0),3)\n",
        "\n",
        "\n",
        "cv2_imshow(img)\n",
        "\n",
        "cv2.waitKey(0)"
      ],
      "metadata": {
        "id": "DPHLpZA2y4Om"
      },
      "execution_count": null,
      "outputs": []
    },
    {
      "cell_type": "code",
      "source": [
        "#Face Detection\n",
        "\n",
        "import cv2\n",
        "\n",
        "faceCascade= cv2.CascadeClassifier(\"Resources/haarcascade_frontalface_default.xml\")\n",
        "img = cv2.imread('Resources/lena.png')\n",
        "imgGray = cv2.cvtColor(img,cv2.COLOR_BGR2GRAY)\n",
        "\n",
        "faces = faceCascade.detectMultiScale(imgGray,1.1,4)\n",
        "\n",
        "for (x,y,w,h) in faces:\n",
        "    cv2.rectangle(img,(x,y),(x+w,y+h),(255,0,0),2)\n",
        "\n",
        "\n",
        "cv2_imshow(img)\n",
        "cv2.waitKey(0)"
      ],
      "metadata": {
        "id": "ZISNWjkBzZn1"
      },
      "execution_count": null,
      "outputs": []
    },
    {
      "cell_type": "code",
      "source": [
        "pip install speedtest-cli"
      ],
      "metadata": {
        "colab": {
          "base_uri": "https://localhost:8080/"
        },
        "id": "LxMPIxV43nIQ",
        "outputId": "b1e5a424-2432-48c7-d0c4-a97b4b190cf8"
      },
      "execution_count": null,
      "outputs": [
        {
          "output_type": "stream",
          "name": "stdout",
          "text": [
            "Looking in indexes: https://pypi.org/simple, https://us-python.pkg.dev/colab-wheels/public/simple/\n",
            "Collecting speedtest-cli\n",
            "  Downloading speedtest_cli-2.1.3-py2.py3-none-any.whl (23 kB)\n",
            "Installing collected packages: speedtest-cli\n",
            "Successfully installed speedtest-cli-2.1.3\n"
          ]
        }
      ]
    },
    {
      "cell_type": "code",
      "source": [
        "import speedtest\n",
        "wifi  = speedtest.Speedtest()\n",
        "print(\"Wifi Download Speed is \", wifi.download())\n",
        "print(\"Wifi Upload Speed is \", wifi.upload())"
      ],
      "metadata": {
        "colab": {
          "base_uri": "https://localhost:8080/"
        },
        "id": "U-YA6wmcz-AU",
        "outputId": "e67b0948-4ad3-4813-de8e-bc77b4806f10"
      },
      "execution_count": null,
      "outputs": [
        {
          "output_type": "stream",
          "name": "stdout",
          "text": [
            "Wifi Download Speed is  575165992.7897485\n",
            "Wifi Upload Speed is  339905029.7011327\n"
          ]
        }
      ]
    },
    {
      "cell_type": "code",
      "source": [],
      "metadata": {
        "id": "EGJQ7m2g3f02"
      },
      "execution_count": null,
      "outputs": []
    },
    {
      "cell_type": "code",
      "source": [],
      "metadata": {
        "id": "-JeCVo-AB1Bo"
      },
      "execution_count": null,
      "outputs": []
    },
    {
      "cell_type": "markdown",
      "source": [
        "https://sdhanaraj.blogspot.com/2022/02/170-python-projects-with-source-code.html"
      ],
      "metadata": {
        "id": "HzgjuN-vB2cn"
      }
    },
    {
      "cell_type": "markdown",
      "source": [
        "https://medium.com/coders-camp/130-python-projects-with-source-code-61f498591bb"
      ],
      "metadata": {
        "id": "CyQ1JJiWB-FO"
      }
    },
    {
      "cell_type": "code",
      "source": [
        "https://sdhanaraj.blogspot.com/2022/02/170-python-projects-with-source-code.html"
      ],
      "metadata": {
        "id": "EcutpB57B0lW"
      },
      "execution_count": null,
      "outputs": []
    },
    {
      "cell_type": "code",
      "source": [],
      "metadata": {
        "id": "qRevttk8B0Pq"
      },
      "execution_count": null,
      "outputs": []
    },
    {
      "cell_type": "code",
      "execution_count": null,
      "metadata": {
        "colab": {
          "base_uri": "https://localhost:8080/"
        },
        "id": "5WjHb7jaydI0",
        "outputId": "51fa7d56-c71d-4682-d030-53ad2d8add04"
      },
      "outputs": [
        {
          "output_type": "stream",
          "name": "stdout",
          "text": [
            "root\n"
          ]
        }
      ],
      "source": [
        "!whoami"
      ]
    },
    {
      "cell_type": "code",
      "source": [
        "!whoami"
      ],
      "metadata": {
        "colab": {
          "base_uri": "https://localhost:8080/"
        },
        "id": "86PJatnxyfZp",
        "outputId": "34b4167b-43c8-4df0-ffa4-1fe9d7356ea8"
      },
      "execution_count": null,
      "outputs": [
        {
          "output_type": "stream",
          "name": "stdout",
          "text": [
            "root\n"
          ]
        }
      ]
    },
    {
      "cell_type": "code",
      "source": [
        "!pip install PyQRCode\n",
        "!pip install pypng"
      ],
      "metadata": {
        "colab": {
          "base_uri": "https://localhost:8080/"
        },
        "id": "UFugM816yrkB",
        "outputId": "5407b1bc-f673-4457-f1de-4afbb06dcb79"
      },
      "execution_count": null,
      "outputs": [
        {
          "output_type": "stream",
          "name": "stdout",
          "text": [
            "Looking in indexes: https://pypi.org/simple, https://us-python.pkg.dev/colab-wheels/public/simple/\n",
            "Collecting PyQRCode\n",
            "  Downloading PyQRCode-1.2.1.zip (41 kB)\n",
            "\u001b[K     |████████████████████████████████| 41 kB 775 kB/s \n",
            "\u001b[?25hBuilding wheels for collected packages: PyQRCode\n",
            "  Building wheel for PyQRCode (setup.py) ... \u001b[?25l\u001b[?25hdone\n",
            "  Created wheel for PyQRCode: filename=PyQRCode-1.2.1-py3-none-any.whl size=36247 sha256=4bad5539cd27971d1eadb6c237f5cd8e7d8cc47681bfab748d1531ce165b9354\n",
            "  Stored in directory: /root/.cache/pip/wheels/aa/14/ad/f09824edf35fdc5fd8acc01b60ff57f858f212a2d5c41dddd2\n",
            "Successfully built PyQRCode\n",
            "Installing collected packages: PyQRCode\n",
            "Successfully installed PyQRCode-1.2.1\n",
            "Looking in indexes: https://pypi.org/simple, https://us-python.pkg.dev/colab-wheels/public/simple/\n",
            "Collecting pypng\n",
            "  Downloading pypng-0.20220715.0-py3-none-any.whl (58 kB)\n",
            "\u001b[K     |████████████████████████████████| 58 kB 4.7 MB/s \n",
            "\u001b[?25hInstalling collected packages: pypng\n",
            "Successfully installed pypng-0.20220715.0\n"
          ]
        }
      ]
    },
    {
      "cell_type": "code",
      "source": [
        "import pyqrcode\n",
        "import png\n",
        "link = \" amit is https://www.instagram.com/the.clever.programmer/\"\n",
        "qr_code = pyqrcode.create(link)\n",
        "qr_code.png(\"instagram2.png\", scale=5)"
      ],
      "metadata": {
        "id": "UyXUSRebyieJ"
      },
      "execution_count": null,
      "outputs": []
    },
    {
      "cell_type": "code",
      "source": [],
      "metadata": {
        "id": "31EtJA22ymzK"
      },
      "execution_count": null,
      "outputs": []
    },
    {
      "cell_type": "code",
      "source": [],
      "metadata": {
        "id": "dpkUimFvzWlg"
      },
      "execution_count": null,
      "outputs": []
    },
    {
      "cell_type": "code",
      "source": [],
      "metadata": {
        "id": "PbaNZmmQzW8X"
      },
      "execution_count": null,
      "outputs": []
    },
    {
      "cell_type": "markdown",
      "source": [
        "Calculating Execution Time of a Python Program"
      ],
      "metadata": {
        "id": "H6grdz4Lze0C"
      }
    },
    {
      "cell_type": "code",
      "source": [
        "from time import time\n",
        "start = time()\n",
        "\n",
        "# Python program to create acronyms\n",
        "word = \"Artificial Intelligence\"\n",
        "text = word.split()\n",
        "a = \" \"\n",
        "for i in text:\n",
        "    a = a+str(i[0]).upper()\n",
        "print(a)\n",
        "\n",
        "end = time()\n",
        "execution_time = end - start\n",
        "print(\"Execution Time : \", execution_time)"
      ],
      "metadata": {
        "colab": {
          "base_uri": "https://localhost:8080/"
        },
        "id": "2XEkK8sZzXRf",
        "outputId": "5e1a6963-5986-4df0-d218-dc876192ec89"
      },
      "execution_count": null,
      "outputs": [
        {
          "output_type": "stream",
          "name": "stdout",
          "text": [
            " AI\n",
            "Execution Time :  0.00027179718017578125\n"
          ]
        }
      ]
    },
    {
      "cell_type": "code",
      "source": [],
      "metadata": {
        "id": "sLeEiIShzgEi"
      },
      "execution_count": null,
      "outputs": []
    },
    {
      "cell_type": "markdown",
      "source": [
        "Decode a QR Code using Python"
      ],
      "metadata": {
        "id": "TVK7jHWi0DfB"
      }
    },
    {
      "cell_type": "code",
      "source": [
        "!pip install pyzbar\n",
        "!pip install pillow"
      ],
      "metadata": {
        "colab": {
          "base_uri": "https://localhost:8080/"
        },
        "id": "qLDtly7C0BpT",
        "outputId": "e40fb7f3-d8eb-4426-f79b-68a314b148c0"
      },
      "execution_count": null,
      "outputs": [
        {
          "output_type": "stream",
          "name": "stdout",
          "text": [
            "Looking in indexes: https://pypi.org/simple, https://us-python.pkg.dev/colab-wheels/public/simple/\n",
            "Collecting pyzbar\n",
            "  Downloading pyzbar-0.1.9-py2.py3-none-any.whl (32 kB)\n",
            "Installing collected packages: pyzbar\n",
            "Successfully installed pyzbar-0.1.9\n",
            "Looking in indexes: https://pypi.org/simple, https://us-python.pkg.dev/colab-wheels/public/simple/\n",
            "Requirement already satisfied: pillow in /usr/local/lib/python3.7/dist-packages (7.1.2)\n"
          ]
        }
      ]
    },
    {
      "cell_type": "code",
      "source": [
        "!apt install libzbar0"
      ],
      "metadata": {
        "colab": {
          "base_uri": "https://localhost:8080/"
        },
        "id": "Va_nAibt01p0",
        "outputId": "74f5afc1-638c-4362-a2b7-0b83122187a7"
      },
      "execution_count": null,
      "outputs": [
        {
          "output_type": "stream",
          "name": "stdout",
          "text": [
            "Reading package lists... Done\n",
            "Building dependency tree       \n",
            "Reading state information... Done\n",
            "The following package was automatically installed and is no longer required:\n",
            "  libnvidia-common-460\n",
            "Use 'apt autoremove' to remove it.\n",
            "The following additional packages will be installed:\n",
            "  libv4l-0 libv4lconvert0\n",
            "The following NEW packages will be installed:\n",
            "  libv4l-0 libv4lconvert0 libzbar0\n",
            "0 upgraded, 3 newly installed, 0 to remove and 12 not upgraded.\n",
            "Need to get 193 kB of archives.\n",
            "After this operation, 760 kB of additional disk space will be used.\n",
            "Get:1 http://archive.ubuntu.com/ubuntu bionic/main amd64 libv4lconvert0 amd64 1.14.2-1 [76.1 kB]\n",
            "Get:2 http://archive.ubuntu.com/ubuntu bionic/main amd64 libv4l-0 amd64 1.14.2-1 [41.7 kB]\n",
            "Get:3 http://archive.ubuntu.com/ubuntu bionic/universe amd64 libzbar0 amd64 0.10+doc-10.1build2 [75.7 kB]\n",
            "Fetched 193 kB in 0s (1,806 kB/s)\n",
            "Selecting previously unselected package libv4lconvert0:amd64.\n",
            "(Reading database ... 123934 files and directories currently installed.)\n",
            "Preparing to unpack .../libv4lconvert0_1.14.2-1_amd64.deb ...\n",
            "Unpacking libv4lconvert0:amd64 (1.14.2-1) ...\n",
            "Selecting previously unselected package libv4l-0:amd64.\n",
            "Preparing to unpack .../libv4l-0_1.14.2-1_amd64.deb ...\n",
            "Unpacking libv4l-0:amd64 (1.14.2-1) ...\n",
            "Selecting previously unselected package libzbar0:amd64.\n",
            "Preparing to unpack .../libzbar0_0.10+doc-10.1build2_amd64.deb ...\n",
            "Unpacking libzbar0:amd64 (0.10+doc-10.1build2) ...\n",
            "Setting up libv4lconvert0:amd64 (1.14.2-1) ...\n",
            "Setting up libv4l-0:amd64 (1.14.2-1) ...\n",
            "Setting up libzbar0:amd64 (0.10+doc-10.1build2) ...\n",
            "Processing triggers for libc-bin (2.27-3ubuntu1.6) ...\n"
          ]
        }
      ]
    },
    {
      "cell_type": "code",
      "source": [
        "from pyzbar.pyzbar import decode"
      ],
      "metadata": {
        "id": "ZDHl1qwH0kJo"
      },
      "execution_count": null,
      "outputs": []
    },
    {
      "cell_type": "code",
      "source": [
        "from pyzbar.pyzbar import decode\n",
        "from PIL import Image\n",
        "decocdeQR = decode(Image.open('instagram2.png'))\n",
        "print(decocdeQR[0].data.decode('ascii'))"
      ],
      "metadata": {
        "colab": {
          "base_uri": "https://localhost:8080/"
        },
        "id": "yjjBMKSj0I3B",
        "outputId": "e8e123b5-96dd-4a15-c880-2c755fbdf75b"
      },
      "execution_count": null,
      "outputs": [
        {
          "output_type": "stream",
          "name": "stdout",
          "text": [
            " amit is https://www.instagram.com/the.clever.programmer/\n"
          ]
        }
      ]
    },
    {
      "cell_type": "code",
      "source": [],
      "metadata": {
        "id": "ZuMcO8ix0QbZ"
      },
      "execution_count": null,
      "outputs": []
    },
    {
      "cell_type": "markdown",
      "source": [
        "Remove Cuss Words using Python"
      ],
      "metadata": {
        "id": "qwyjf22P1RA6"
      }
    },
    {
      "cell_type": "code",
      "source": [
        "pip install better_profanity"
      ],
      "metadata": {
        "colab": {
          "base_uri": "https://localhost:8080/"
        },
        "id": "TVyxNzSk1QYS",
        "outputId": "33050619-67bf-4538-ba97-923d08b95dc4"
      },
      "execution_count": null,
      "outputs": [
        {
          "output_type": "stream",
          "name": "stdout",
          "text": [
            "Collecting better_profanity\n",
            "  Downloading better_profanity-0.7.0-py3-none-any.whl (46 kB)\n",
            "\u001b[?25l\r\u001b[K     |███████                         | 10 kB 19.3 MB/s eta 0:00:01\r\u001b[K     |██████████████▏                 | 20 kB 22.8 MB/s eta 0:00:01\r\u001b[K     |█████████████████████▎          | 30 kB 27.4 MB/s eta 0:00:01\r\u001b[K     |████████████████████████████▍   | 40 kB 29.5 MB/s eta 0:00:01\r\u001b[K     |████████████████████████████████| 46 kB 3.0 MB/s \n",
            "\u001b[?25hInstalling collected packages: better-profanity\n",
            "Successfully installed better-profanity-0.7.0\n"
          ]
        }
      ]
    },
    {
      "cell_type": "code",
      "source": [
        "from better_profanity import profanity\n",
        "text = \"Please leave me alone and just piss off\"\n",
        "censored = profanity.censor(text)\n",
        "print(censored)"
      ],
      "metadata": {
        "colab": {
          "base_uri": "https://localhost:8080/"
        },
        "id": "M-MvUnKi1UtN",
        "outputId": "c5d8d0fa-e85e-4ffb-e18e-3718ebed7cdb"
      },
      "execution_count": null,
      "outputs": [
        {
          "output_type": "stream",
          "name": "stdout",
          "text": [
            "Please leave me alone and just ****\n"
          ]
        }
      ]
    },
    {
      "cell_type": "code",
      "source": [],
      "metadata": {
        "id": "uvEk_K1a1hLq"
      },
      "execution_count": null,
      "outputs": []
    },
    {
      "cell_type": "code",
      "source": [],
      "metadata": {
        "id": "cj5p7Ovr33qv"
      },
      "execution_count": null,
      "outputs": []
    },
    {
      "cell_type": "markdown",
      "source": [
        "https://sdhanaraj.blogspot.com/2022/02/170-python-projects-with-source-code.html"
      ],
      "metadata": {
        "id": "3X1D8H0833qv"
      }
    },
    {
      "cell_type": "markdown",
      "source": [
        "https://medium.com/coders-camp/130-python-projects-with-source-code-61f498591bb"
      ],
      "metadata": {
        "id": "v1uBhmbB33qv"
      }
    },
    {
      "cell_type": "code",
      "source": [
        "https://sdhanaraj.blogspot.com/2022/02/170-python-projects-with-source-code.html"
      ],
      "metadata": {
        "id": "zJyhlHAY33qv"
      },
      "execution_count": null,
      "outputs": []
    },
    {
      "cell_type": "code",
      "source": [],
      "metadata": {
        "id": "NP06BN2433qw"
      },
      "execution_count": null,
      "outputs": []
    },
    {
      "cell_type": "code",
      "execution_count": null,
      "metadata": {
        "colab": {
          "base_uri": "https://localhost:8080/"
        },
        "outputId": "51fa7d56-c71d-4682-d030-53ad2d8add04",
        "id": "RHDVjAqd33qw"
      },
      "outputs": [
        {
          "output_type": "stream",
          "name": "stdout",
          "text": [
            "root\n"
          ]
        }
      ],
      "source": [
        "!whoami"
      ]
    },
    {
      "cell_type": "code",
      "source": [
        "!whoami"
      ],
      "metadata": {
        "colab": {
          "base_uri": "https://localhost:8080/"
        },
        "outputId": "34b4167b-43c8-4df0-ffa4-1fe9d7356ea8",
        "id": "_0frBSzN33qw"
      },
      "execution_count": null,
      "outputs": [
        {
          "output_type": "stream",
          "name": "stdout",
          "text": [
            "root\n"
          ]
        }
      ]
    },
    {
      "cell_type": "code",
      "source": [
        "!pip install PyQRCode\n",
        "!pip install pypng"
      ],
      "metadata": {
        "colab": {
          "base_uri": "https://localhost:8080/"
        },
        "outputId": "5407b1bc-f673-4457-f1de-4afbb06dcb79",
        "id": "KiQoR0_G33qw"
      },
      "execution_count": null,
      "outputs": [
        {
          "output_type": "stream",
          "name": "stdout",
          "text": [
            "Looking in indexes: https://pypi.org/simple, https://us-python.pkg.dev/colab-wheels/public/simple/\n",
            "Collecting PyQRCode\n",
            "  Downloading PyQRCode-1.2.1.zip (41 kB)\n",
            "\u001b[K     |████████████████████████████████| 41 kB 775 kB/s \n",
            "\u001b[?25hBuilding wheels for collected packages: PyQRCode\n",
            "  Building wheel for PyQRCode (setup.py) ... \u001b[?25l\u001b[?25hdone\n",
            "  Created wheel for PyQRCode: filename=PyQRCode-1.2.1-py3-none-any.whl size=36247 sha256=4bad5539cd27971d1eadb6c237f5cd8e7d8cc47681bfab748d1531ce165b9354\n",
            "  Stored in directory: /root/.cache/pip/wheels/aa/14/ad/f09824edf35fdc5fd8acc01b60ff57f858f212a2d5c41dddd2\n",
            "Successfully built PyQRCode\n",
            "Installing collected packages: PyQRCode\n",
            "Successfully installed PyQRCode-1.2.1\n",
            "Looking in indexes: https://pypi.org/simple, https://us-python.pkg.dev/colab-wheels/public/simple/\n",
            "Collecting pypng\n",
            "  Downloading pypng-0.20220715.0-py3-none-any.whl (58 kB)\n",
            "\u001b[K     |████████████████████████████████| 58 kB 4.7 MB/s \n",
            "\u001b[?25hInstalling collected packages: pypng\n",
            "Successfully installed pypng-0.20220715.0\n"
          ]
        }
      ]
    },
    {
      "cell_type": "code",
      "source": [
        "import pyqrcode\n",
        "import png\n",
        "link = \" amit is https://www.instagram.com/the.clever.programmer/\"\n",
        "qr_code = pyqrcode.create(link)\n",
        "qr_code.png(\"instagram2.png\", scale=5)"
      ],
      "metadata": {
        "id": "W_0k1jcp33qw"
      },
      "execution_count": null,
      "outputs": []
    },
    {
      "cell_type": "code",
      "source": [],
      "metadata": {
        "id": "WQySr1J633qx"
      },
      "execution_count": null,
      "outputs": []
    },
    {
      "cell_type": "code",
      "source": [],
      "metadata": {
        "id": "P5C6k-DP33qx"
      },
      "execution_count": null,
      "outputs": []
    },
    {
      "cell_type": "code",
      "source": [],
      "metadata": {
        "id": "1DlgKE3V33qx"
      },
      "execution_count": null,
      "outputs": []
    },
    {
      "cell_type": "markdown",
      "source": [
        "Calculating Execution Time of a Python Program"
      ],
      "metadata": {
        "id": "_MO0k8L833qx"
      }
    },
    {
      "cell_type": "code",
      "source": [
        "from time import time\n",
        "start = time()\n",
        "\n",
        "# Python program to create acronyms\n",
        "word = \"Artificial Intelligence\"\n",
        "text = word.split()\n",
        "a = \" \"\n",
        "for i in text:\n",
        "    a = a+str(i[0]).upper()\n",
        "print(a)\n",
        "\n",
        "end = time()\n",
        "execution_time = end - start\n",
        "print(\"Execution Time : \", execution_time)"
      ],
      "metadata": {
        "colab": {
          "base_uri": "https://localhost:8080/"
        },
        "outputId": "5e1a6963-5986-4df0-d218-dc876192ec89",
        "id": "79zgZsEy33qx"
      },
      "execution_count": null,
      "outputs": [
        {
          "output_type": "stream",
          "name": "stdout",
          "text": [
            " AI\n",
            "Execution Time :  0.00027179718017578125\n"
          ]
        }
      ]
    },
    {
      "cell_type": "code",
      "source": [],
      "metadata": {
        "id": "I4OnX9o033qx"
      },
      "execution_count": null,
      "outputs": []
    },
    {
      "cell_type": "markdown",
      "source": [
        "Decode a QR Code using Python"
      ],
      "metadata": {
        "id": "0l0Dt1Os33qy"
      }
    },
    {
      "cell_type": "code",
      "source": [
        "!pip install pyzbar\n",
        "!pip install pillow"
      ],
      "metadata": {
        "colab": {
          "base_uri": "https://localhost:8080/"
        },
        "outputId": "e40fb7f3-d8eb-4426-f79b-68a314b148c0",
        "id": "xnhtnQIS33qy"
      },
      "execution_count": null,
      "outputs": [
        {
          "output_type": "stream",
          "name": "stdout",
          "text": [
            "Looking in indexes: https://pypi.org/simple, https://us-python.pkg.dev/colab-wheels/public/simple/\n",
            "Collecting pyzbar\n",
            "  Downloading pyzbar-0.1.9-py2.py3-none-any.whl (32 kB)\n",
            "Installing collected packages: pyzbar\n",
            "Successfully installed pyzbar-0.1.9\n",
            "Looking in indexes: https://pypi.org/simple, https://us-python.pkg.dev/colab-wheels/public/simple/\n",
            "Requirement already satisfied: pillow in /usr/local/lib/python3.7/dist-packages (7.1.2)\n"
          ]
        }
      ]
    },
    {
      "cell_type": "code",
      "source": [
        "!apt install libzbar0"
      ],
      "metadata": {
        "colab": {
          "base_uri": "https://localhost:8080/"
        },
        "outputId": "74f5afc1-638c-4362-a2b7-0b83122187a7",
        "id": "KzyebhHV33qy"
      },
      "execution_count": null,
      "outputs": [
        {
          "output_type": "stream",
          "name": "stdout",
          "text": [
            "Reading package lists... Done\n",
            "Building dependency tree       \n",
            "Reading state information... Done\n",
            "The following package was automatically installed and is no longer required:\n",
            "  libnvidia-common-460\n",
            "Use 'apt autoremove' to remove it.\n",
            "The following additional packages will be installed:\n",
            "  libv4l-0 libv4lconvert0\n",
            "The following NEW packages will be installed:\n",
            "  libv4l-0 libv4lconvert0 libzbar0\n",
            "0 upgraded, 3 newly installed, 0 to remove and 12 not upgraded.\n",
            "Need to get 193 kB of archives.\n",
            "After this operation, 760 kB of additional disk space will be used.\n",
            "Get:1 http://archive.ubuntu.com/ubuntu bionic/main amd64 libv4lconvert0 amd64 1.14.2-1 [76.1 kB]\n",
            "Get:2 http://archive.ubuntu.com/ubuntu bionic/main amd64 libv4l-0 amd64 1.14.2-1 [41.7 kB]\n",
            "Get:3 http://archive.ubuntu.com/ubuntu bionic/universe amd64 libzbar0 amd64 0.10+doc-10.1build2 [75.7 kB]\n",
            "Fetched 193 kB in 0s (1,806 kB/s)\n",
            "Selecting previously unselected package libv4lconvert0:amd64.\n",
            "(Reading database ... 123934 files and directories currently installed.)\n",
            "Preparing to unpack .../libv4lconvert0_1.14.2-1_amd64.deb ...\n",
            "Unpacking libv4lconvert0:amd64 (1.14.2-1) ...\n",
            "Selecting previously unselected package libv4l-0:amd64.\n",
            "Preparing to unpack .../libv4l-0_1.14.2-1_amd64.deb ...\n",
            "Unpacking libv4l-0:amd64 (1.14.2-1) ...\n",
            "Selecting previously unselected package libzbar0:amd64.\n",
            "Preparing to unpack .../libzbar0_0.10+doc-10.1build2_amd64.deb ...\n",
            "Unpacking libzbar0:amd64 (0.10+doc-10.1build2) ...\n",
            "Setting up libv4lconvert0:amd64 (1.14.2-1) ...\n",
            "Setting up libv4l-0:amd64 (1.14.2-1) ...\n",
            "Setting up libzbar0:amd64 (0.10+doc-10.1build2) ...\n",
            "Processing triggers for libc-bin (2.27-3ubuntu1.6) ...\n"
          ]
        }
      ]
    },
    {
      "cell_type": "code",
      "source": [
        "from pyzbar.pyzbar import decode"
      ],
      "metadata": {
        "id": "LAwzxuhL33qy"
      },
      "execution_count": null,
      "outputs": []
    },
    {
      "cell_type": "code",
      "source": [
        "from pyzbar.pyzbar import decode\n",
        "from PIL import Image\n",
        "decocdeQR = decode(Image.open('instagram2.png'))\n",
        "print(decocdeQR[0].data.decode('ascii'))"
      ],
      "metadata": {
        "colab": {
          "base_uri": "https://localhost:8080/"
        },
        "outputId": "e8e123b5-96dd-4a15-c880-2c755fbdf75b",
        "id": "QihtIXml33qz"
      },
      "execution_count": null,
      "outputs": [
        {
          "output_type": "stream",
          "name": "stdout",
          "text": [
            " amit is https://www.instagram.com/the.clever.programmer/\n"
          ]
        }
      ]
    },
    {
      "cell_type": "code",
      "source": [],
      "metadata": {
        "id": "U3aeheGd33qz"
      },
      "execution_count": null,
      "outputs": []
    },
    {
      "cell_type": "markdown",
      "source": [
        "Remove Censor Words using Python"
      ],
      "metadata": {
        "id": "eXizHy8833qz"
      }
    },
    {
      "cell_type": "code",
      "source": [
        "pip install better_profanity"
      ],
      "metadata": {
        "colab": {
          "base_uri": "https://localhost:8080/"
        },
        "outputId": "33050619-67bf-4538-ba97-923d08b95dc4",
        "id": "9ND7zQHJ33qz"
      },
      "execution_count": null,
      "outputs": [
        {
          "output_type": "stream",
          "name": "stdout",
          "text": [
            "Collecting better_profanity\n",
            "  Downloading better_profanity-0.7.0-py3-none-any.whl (46 kB)\n",
            "\u001b[?25l\r\u001b[K     |███████                         | 10 kB 19.3 MB/s eta 0:00:01\r\u001b[K     |██████████████▏                 | 20 kB 22.8 MB/s eta 0:00:01\r\u001b[K     |█████████████████████▎          | 30 kB 27.4 MB/s eta 0:00:01\r\u001b[K     |████████████████████████████▍   | 40 kB 29.5 MB/s eta 0:00:01\r\u001b[K     |████████████████████████████████| 46 kB 3.0 MB/s \n",
            "\u001b[?25hInstalling collected packages: better-profanity\n",
            "Successfully installed better-profanity-0.7.0\n"
          ]
        }
      ]
    },
    {
      "cell_type": "code",
      "source": [
        "from better_profanity import profanity\n",
        "text = \"Please leave me alone and just piss off\"\n",
        "censored = profanity.censor(text)\n",
        "print(censored)"
      ],
      "metadata": {
        "colab": {
          "base_uri": "https://localhost:8080/"
        },
        "outputId": "c5d8d0fa-e85e-4ffb-e18e-3718ebed7cdb",
        "id": "44SpqVWG33qz"
      },
      "execution_count": null,
      "outputs": [
        {
          "output_type": "stream",
          "name": "stdout",
          "text": [
            "Please leave me alone and just ****\n"
          ]
        }
      ]
    },
    {
      "cell_type": "code",
      "source": [],
      "metadata": {
        "id": "Rkfhgngt33qz"
      },
      "execution_count": null,
      "outputs": []
    }
  ]
}